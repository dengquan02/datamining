{
 "cells": [
  {
   "cell_type": "code",
   "execution_count": 1,
   "metadata": {
    "pycharm": {
     "name": "#%%\n"
    }
   },
   "outputs": [],
   "source": [
    "import os\n",
    "os.environ['TF_CPP_MIN_LOG_LEVEL'] = '3'\n",
    "import numpy as np\n",
    "import tensorflow as tf\n",
    "import random\n",
    "import pandas as pd"
   ]
  },
  {
   "cell_type": "code",
   "execution_count": 3,
   "metadata": {
    "pycharm": {
     "name": "#%%\n"
    }
   },
   "outputs": [],
   "source": [
    "from sklearn.preprocessing import MinMaxScaler\n",
    "\n",
    "# 数据预处理\n",
    "path = r\"./siping_4g-2.csv\"\n",
    "\n",
    "\n",
    "# 经纬度数据归一化处理\n",
    "def preprocess(path):\n",
    "    data = pd.read_csv(path)\n",
    "    data = data.fillna(-1)  # 缺失值全部为-1\n",
    "    yscaler = MinMaxScaler()\n",
    "    yscaler.fit(data[['Longitude', 'Latitude']].values)\n",
    "\n",
    "    return yscaler\n",
    "\n",
    "yscaler = preprocess(path)\n",
    "# print(yscaler)"
   ]
  },
  {
   "cell_type": "code",
   "execution_count": 4,
   "metadata": {},
   "outputs": [
    {
     "name": "stdout",
     "output_type": "stream",
     "text": [
      "[0. 3. 3. 3. 3.]\n"
     ]
    }
   ],
   "source": [
    "# 构建时间序列\n",
    "\n",
    "MRTime = [\n",
    "1543994925358,\n",
    "1543994928431,\n",
    "1543994931521,\n",
    "1543994934582,\n",
    "1543994937645]\n",
    "\n",
    "import datetime\n",
    "\n",
    "# 计算时间差 以秒为单位\n",
    "def compute_time_interval(timestamp1, timestamp2):\n",
    "    dateArray1 = datetime.datetime.utcfromtimestamp(timestamp1 / 1000)\n",
    "    dateArray2 = datetime.datetime.utcfromtimestamp(timestamp2 / 1000)\n",
    "    # otherStyleTime = dateArray1.strftime(\"%Y-%m-%d %H:%M:%S\")\n",
    "    return float((dateArray2 - dateArray1).seconds)\n",
    "\n",
    "ti = np.zeros((len(MRTime)))\n",
    "for j in range(len(MRTime)):\n",
    "    if j == 0:\n",
    "        ti[j] = 0\n",
    "    else:\n",
    "        ti[j] = compute_time_interval(MRTime[j - 1], MRTime[j])\n",
    "print(ti)"
   ]
  },
  {
   "cell_type": "code",
   "execution_count": 5,
   "metadata": {
    "pycharm": {
     "name": "#%%\n"
    }
   },
   "outputs": [
    {
     "name": "stdout",
     "output_type": "stream",
     "text": [
      "(705, 10, 35)\n",
      "(705, 10, 2)\n",
      "(705, 10)\n",
      "(705, 10)\n"
     ]
    }
   ],
   "source": [
    "import datetime\n",
    "\n",
    "# 计算时间差 以秒为单位\n",
    "def compute_time_interval(timestamp1, timestamp2):\n",
    "    dateArray1 = datetime.datetime.utcfromtimestamp(timestamp1 / 1000)\n",
    "    dateArray2 = datetime.datetime.utcfromtimestamp(timestamp2 / 1000)\n",
    "    # otherStyleTime = dateArray1.strftime(\"%Y-%m-%d %H:%M:%S\")\n",
    "    return float((dateArray2 - dateArray1).seconds)\n",
    "\n",
    "\n",
    "# 自变量字段信息\n",
    "feature_col = ['RNCID_1', 'RNCID_2', 'RNCID_3', 'RNCID_4', 'RNCID_5', 'RNCID_6', 'RNCID_7',\n",
    "               'CellID_1', 'CellID_2', 'CellID_3', 'CellID_4', 'CellID_5', 'CellID_6', 'CellID_7',\n",
    "               'Dbm_1', 'Dbm_2', 'Dbm_3', 'Dbm_4', 'Dbm_5', 'Dbm_6', 'Dbm_7',\n",
    "               'AsuLevel_1', 'AsuLevel_2', 'AsuLevel_3', 'AsuLevel_4', 'AsuLevel_5', 'AsuLevel_6', 'AsuLevel_7',\n",
    "               'SignalLevel_1', 'SignalLevel_2', 'SignalLevel_3', 'SignalLevel_4', 'SignalLevel_5', 'SignalLevel_6', 'SignalLevel_7']\n",
    "\n",
    "\n",
    "# 时间序列的最大长度\n",
    "Max_S = 10\n",
    "\n",
    "# 一个MR数据表征为一个7*5矩阵\n",
    "bs_c = 7\n",
    "col = 5\n",
    "\n",
    "\n",
    "# 构造序列数据\n",
    "def make_sequence1(data, yscaler, max_subs=Max_S):\n",
    "    seq_list = []\n",
    "    time_list = []\n",
    "    loc_list = []\n",
    "    mode_list = []\n",
    "    # 根据Trajec ID 进行分组  --- 这是一段轨迹\n",
    "    trajs = data.groupby([\"TrajID\"])\n",
    "    max_seq = 0\n",
    "    max_subseq = 0\n",
    "    for trajid, traj in trajs:\n",
    "        # 获取一段轨迹的信息\n",
    "        dt = traj[feature_col].values\n",
    "        # dt = xscaler.transform(traj[feature_col].values)\n",
    "\n",
    "        # 将经纬度进行归一化\n",
    "        lc = yscaler.transform(traj[['Longitude', 'Latitude']].values)\n",
    "        tl = traj['MRTime'] # 记录MR的时间\n",
    "        md = traj['mode']   # 数据的mode  run walk ...\n",
    "        # traj = traj.sort_values([\"MRTime\"])\n",
    "        _ = traj.shape[0] % max_subs\n",
    "        c = int(traj.shape[0] / max_subs)\n",
    "\n",
    "        if traj.shape[0] <= max_subs:\n",
    "            seq = np.zeros((max_subs, bs_c * col))  # 序列数据结构： 10 * （7*5）\n",
    "            loc = np.ones((max_subs, 2)) * (-1)     # 经纬度数据    10 * 2 \n",
    "            # ti 时间戳\n",
    "            t_tl, m_l, ti = np.zeros((max_subs)), np.zeros((max_subs)), np.zeros((max_subs))\n",
    "            seq[0: traj.shape[0], :] = dt[0: traj.shape[0], :]      # 自变量序列\n",
    "            loc[0: traj.shape[0], :] = lc[0: traj.shape[0], :]      # 经纬度\n",
    "            t_tl[0: traj.shape[0]] = np.array(tl[0: traj.shape[0]]) # time序列\n",
    "            m_l[0: traj.shape[0]] = md[0: traj.shape[0]]  # mode\n",
    "            for j in range(traj.shape[0]):\n",
    "                if j == 0:\n",
    "                    ti[j] = 0\n",
    "                else:\n",
    "                    ti[j] = compute_time_interval(t_tl[j - 1], t_tl[j])\n",
    "            seq_list.append(seq)   # 时间序列\n",
    "            loc_list.append(loc)   # \n",
    "            time_list.append(ti)   # 时间戳序列\n",
    "            mode_list.append(m_l)\n",
    "        else:\n",
    "            start = 0\n",
    "            while start <= traj.shape[0] - max_subs - 1:\n",
    "                seq = np.zeros((max_subs, bs_c * col))\n",
    "                loc = np.ones((max_subs, 2)) * (-1)\n",
    "                t_tl, m_l, ti = np.zeros((max_subs)), np.zeros((max_subs)), np.zeros((max_subs))\n",
    "                #                 print (start, start+max_sub, seq[start: start + max_subs, :].shape, dt[start: start + max_subs, :].shape)\n",
    "                seq = dt[start: start + max_subs, :]\n",
    "                loc = lc[start: start + max_subs, :]\n",
    "                t_tl = np.array(tl[start: start + max_subs])\n",
    "                m_l = md[start: start + max_subs]\n",
    "                #                 t_tl = np.array()\n",
    "                for j in range(max_subs):\n",
    "                    if j == 0:\n",
    "                        ti[j] = 0\n",
    "                    else:\n",
    "                        ti[j] = compute_time_interval(t_tl[j - 1], t_tl[j])\n",
    "                seq_list.append(seq)\n",
    "                loc_list.append(loc)\n",
    "                time_list.append(ti)\n",
    "                mode_list.append(m_l)\n",
    "                start += max_subs\n",
    "\n",
    "            if start != traj.shape[0] - 1:\n",
    "                seq = np.zeros((max_subs, bs_c * col))\n",
    "                loc = np.ones((max_subs, 2)) * (-1)\n",
    "                t_tl, m_l, ti = np.zeros((max_subs)), np.zeros((max_subs)), np.zeros((max_subs))\n",
    "                seq[0: traj.shape[0] - start, :] = dt[start: traj.shape[0], :]\n",
    "                loc[0: traj.shape[0] - start, :] = lc[start: traj.shape[0], :]\n",
    "                t_tl[0: traj.shape[0] - start] = np.array(tl[start: traj.shape[0]])\n",
    "                m_l[0: traj.shape[0] - start] = md[start: traj.shape[0]]\n",
    "                for j in range(max_subs):\n",
    "                    if j == 0:\n",
    "                        ti[j] = 0\n",
    "                    else:\n",
    "                        ti[j] = compute_time_interval(t_tl[j - 1], t_tl[j])\n",
    "                seq_list.append(seq)\n",
    "                loc_list.append(loc)\n",
    "                time_list.append(ti)\n",
    "                mode_list.append(m_l)\n",
    "\n",
    "    return seq_list, loc_list, time_list, mode_list\n",
    "\n",
    "\n",
    "# 准备序列数据\n",
    "def seq_sli(path):\n",
    "    data = pd.read_csv(path)\n",
    "    data = data.fillna(-1)  # -1填充\n",
    "    a, b, c, d = [], [], [], []\n",
    "    ea, eb, ec, ed = [], [], [], []\n",
    "    te = pd.DataFrame()\n",
    "    for i in range(5):\n",
    "        tmp = data.loc[range(i, len(data), 5), :]\n",
    "        if i < 4:\n",
    "            ta, tb, tc, td = make_sequence1(tmp, yscaler)\n",
    "        else:\n",
    "            ta, tb, tc, td = make_sequence1(tmp, yscaler)\n",
    "        if i == 0:\n",
    "            a, b, c, d = ta, tb, tc, td\n",
    "        elif i < 4:\n",
    "            a.extend(ta)\n",
    "            b.extend(tb)\n",
    "            c.extend(tc)\n",
    "            d.extend(td)\n",
    "        else:\n",
    "            ea, eb, ec, ed = ta, tb, tc, td\n",
    "\n",
    "    train_dataset = np.array(a)\n",
    "    train_label = np.array(b)\n",
    "    train_time = np.array(c)\n",
    "    train_mode = np.array(d)\n",
    "\n",
    "    test_dataset = np.array(ea)\n",
    "    test_label = np.array(eb)\n",
    "    test_time = np.array(ec)\n",
    "    test_mode = np.array(ed)\n",
    "\n",
    "    return train_dataset, train_label, train_time, train_mode, test_dataset, test_label, test_time, test_mode\n",
    "\n",
    "# 获取数据\n",
    "tr_d, tr_l, tr_t, tr_m, te_d, te_l, te_t, te_m = seq_sli(path)\n",
    "\n",
    "print(tr_d.shape)\n",
    "print(tr_l.shape)\n",
    "print(tr_t.shape)\n",
    "print(tr_m.shape)"
   ]
  },
  {
   "cell_type": "code",
   "execution_count": 6,
   "metadata": {
    "pycharm": {
     "name": "#%%\n"
    }
   },
   "outputs": [
    {
     "name": "stdout",
     "output_type": "stream",
     "text": [
      "(177, 40, 7, 5, 1)\n",
      "(177, 40, 2)\n",
      "(177, 40)\n",
      "(177, 40)\n",
      "(45, 40, 7, 5, 1)\n",
      "(45, 40, 2)\n",
      "(45, 40)\n",
      "(45, 40)\n"
     ]
    }
   ],
   "source": [
    "# 准备数据: 讲数据形状变为模型需要的形状\n",
    "BATCH_S = 4   # batch_size\n",
    "\"\"\"\n",
    "fea: train_data （特征值）\n",
    "lab: train_label（经纬度）\n",
    "tl: time_list （时间序列）\n",
    "md: mode list\n",
    "\"\"\"\n",
    "\n",
    "def data_prepare(fea, lab, tl, md):\n",
    "    batch_size = BATCH_S\n",
    "    f, l, t, d = [], [], [], []\n",
    "    _ = fea.shape[0] % batch_size\n",
    "    batch_cnt = int(fea.shape[0] / batch_size)\n",
    "    if _ != 0:\n",
    "        batch_cnt += 1\n",
    "    for i in range(0, batch_cnt):\n",
    "        tmp_f = np.zeros((batch_size * Max_S, bs_c, col, 1))\n",
    "        tmp_l = np.ones((batch_size * Max_S, 2)) * (-1)\n",
    "        tmp_t = np.ones((batch_size * Max_S)) * (-1)\n",
    "        tmp_m = np.ones((batch_size * Max_S)) * (-1)\n",
    "        if i < batch_cnt - 1:\n",
    "            for j in range(0, batch_size):\n",
    "                f_t = fea[i * batch_size + j, :, :].reshape([Max_S, bs_c, col, 1])\n",
    "                l_t = lab[i * batch_size + j, :]\n",
    "                t_t = tl[i * batch_size + j]\n",
    "                m_t = md[i * batch_size + j]\n",
    "                for m in range(0, Max_S):\n",
    "                    #                     print (j, m, j*Max_S+m)\n",
    "                    tmp_f[j * Max_S + m, :, :, :] = f_t[m, :, :, :]\n",
    "                    tmp_l[j * Max_S + m, :] = l_t[m, :]\n",
    "                    tmp_t[j * Max_S + m] = t_t[m]\n",
    "                    tmp_m[j * Max_S + m] = m_t[m]\n",
    "        else:\n",
    "            if _ == 0:\n",
    "                for j in range(0, batch_size):\n",
    "                    f_t = fea[i * batch_size + j, :, :].reshape([Max_S, bs_c, col, 1])\n",
    "                    l_t = lab[i * batch_size + j, :]\n",
    "                    t_t = tl[i * batch_size + j]\n",
    "                    m_t = md[i * batch_size + j]\n",
    "                    for m in range(0, Max_S):\n",
    "                        tmp_f[j * Max_S + m, :, :, :] = f_t[m, :, :, :]\n",
    "                        tmp_l[j * Max_S + m, :] = l_t[m, :]\n",
    "                        tmp_t[j * Max_S + m] = t_t[m]\n",
    "                        tmp_m[j * Max_S + m] = m_t[m]\n",
    "            else:\n",
    "                for j in range(0, _):\n",
    "                    f_t = fea[i * batch_size + j, :, :].reshape([Max_S, bs_c, col, 1])\n",
    "                    l_t = lab[i * batch_size + j, :]\n",
    "                    t_t = tl[i * batch_size + j]\n",
    "                    m_t = md[i * batch_size + j]\n",
    "                    for m in range(0, Max_S):\n",
    "                        tmp_f[j * Max_S + m, :, :, :] = f_t[m, :, :, :]\n",
    "                        tmp_l[j * Max_S + m, :] = l_t[m, :]\n",
    "                        tmp_t[j * Max_S + m] = t_t[m]\n",
    "                        tmp_m[j * Max_S + m] = m_t[m]\n",
    "\n",
    "                for j in range(_, batch_size):\n",
    "                    f_t = fea[(i - 1) * batch_size + (_ - 1), :, :].reshape([Max_S, bs_c, col, 1])\n",
    "                    l_t = lab[(i - 1) * batch_size + (_ - 1), :]\n",
    "                    t_t = tl[(i - 1) * batch_size + (_ - 1)]\n",
    "                    m_t = md[(i - 1) * batch_size + (_ - 1)]\n",
    "                    for m in range(0, Max_S):\n",
    "                        tmp_f[j * Max_S + m, :, :, :] = f_t[m, :, :, :]\n",
    "                        tmp_l[j * Max_S + m, :] = l_t[m, :]\n",
    "                        tmp_t[j * Max_S + m] = t_t[m]\n",
    "                        tmp_m[j * Max_S + m] = m_t[m]\n",
    "\n",
    "        f.append(tmp_f)\n",
    "        l.append(tmp_l)\n",
    "        t.append(tmp_t)\n",
    "        d.append(tmp_m)\n",
    "\n",
    "    return f, l, t, d\n",
    "\n",
    "\n",
    "def re_npy(path):\n",
    "    tr_d, tr_l, tr_t, tr_m, te_d, te_l, te_t, te_m = seq_sli(path)\n",
    "    # 构建训练数据集  形状\n",
    "    f, l, t, m = data_prepare(tr_d, tr_l, tr_t, tr_m)\n",
    "    f = np.array(f)\n",
    "    l = np.array(l)\n",
    "    t = np.array(t)\n",
    "    m = np.array(m)\n",
    "    # 构建测试数据集 形状\n",
    "    ef, el, et, em = data_prepare(te_d, te_l, te_t, te_m)\n",
    "    ef = np.array(ef)\n",
    "    el = np.array(el)\n",
    "    et = np.array(et)\n",
    "    em = np.array(em)\n",
    "\n",
    "    return f, l, m, t, ef, el, em, et\n",
    "\n",
    "f, l, m, t, ef, el, em, et = re_npy(path)\n",
    "\n",
    "print(f.shape)\n",
    "print(l.shape)\n",
    "print(m.shape)\n",
    "print(t.shape)\n",
    "print(ef.shape)\n",
    "print(el.shape)\n",
    "print(em.shape)\n",
    "print(et.shape)"
   ]
  },
  {
   "cell_type": "code",
   "execution_count": 7,
   "metadata": {
    "pycharm": {
     "name": "#%%\n"
    }
   },
   "outputs": [
    {
     "name": "stdout",
     "output_type": "stream",
     "text": [
      "{0: [0.6874024526198439, 0.26666666666666666, 0.037235228539576365, 0.004905239687848384, 0.0017837235228539577, 0.0006688963210702341, 0.0013377926421404682], 1: [0.2745176848874598, 0.510048231511254, 0.20016077170418006, 0.013665594855305467, 0.0008038585209003215, 0.00040192926045016077, 0.00040192926045016077], 2: [0.08018867924528301, 0.23702830188679244, 0.49174528301886794, 0.15566037735849056, 0.02358490566037736, 0.0047169811320754715, 0.007075471698113208]}\n"
     ]
    }
   ],
   "source": [
    "# 计算 m_hist\n",
    "import math\n",
    "\n",
    "def rad(d):\n",
    "    return d * math.pi / 180.0\n",
    "\n",
    "# 计算真假误差\n",
    "def distance(true_pt, pred_pt):\n",
    "    lat1 = float(true_pt[1])\n",
    "    lng1 = float(true_pt[0])\n",
    "    lat2 = float(pred_pt[1])\n",
    "    lng2 = float(pred_pt[0])\n",
    "    radLat1 = rad(lat1)\n",
    "    radLat2 = rad(lat2)\n",
    "    a = radLat1 - radLat2\n",
    "    b = rad(lng1) - rad(lng2)\n",
    "    s = 2 * math.asin(math.sqrt(math.pow(math.sin(a / 2), 2) +\n",
    "                                math.cos(radLat1) * math.cos(radLat2) * math.pow(math.sin(b / 2), 2)))\n",
    "    s = s * 6378.137\n",
    "    s = round(s * 10000) / 10\n",
    "    return s\n",
    "\n",
    "def mode_dict(path):\n",
    "    data = pd.read_csv(path)\n",
    "    data = data.fillna(-1)\n",
    "    trajs = data.groupby([\"TrajID\"])\n",
    "    m_d = {}\n",
    "    m_d[0] = []\n",
    "    m_d[1] = []\n",
    "    m_d[2] = []\n",
    "    for trajid, traj in trajs:\n",
    "        md = list(traj['mode'])\n",
    "        loc = traj[['Longitude', 'Latitude']].values\n",
    "        tl = list(traj['MRTime'])\n",
    "        for j in range(1, traj.shape[0]):\n",
    "            if j > 0:\n",
    "                delta_t = compute_time_interval(tl[j - 1], tl[j])\n",
    "                delta_s = distance(loc[j - 1, :], loc[j, :])\n",
    "                m = int(md[j])\n",
    "                if delta_t > 0:\n",
    "                    m_d[m].append(delta_s / delta_t)\n",
    "    return m_d\n",
    "\n",
    "def speed_hist(mode_dict):\n",
    "    mode_hist_dict = {}\n",
    "    for key, value in mode_dict.items():\n",
    "        tmp = np.zeros((7))\n",
    "        for t in value:\n",
    "            if t <= 2:\n",
    "                tmp[0] += 1\n",
    "            elif t <= 6:\n",
    "                tmp[1] += 1\n",
    "            elif t <= 12:\n",
    "                tmp[2] += 1\n",
    "            elif t <= 18:\n",
    "                tmp[3] += 1\n",
    "            elif t <= 24:\n",
    "                tmp[4] += 1\n",
    "            elif t <= 30:\n",
    "                tmp[5] += 1\n",
    "            else:\n",
    "                tmp[6] += 1\n",
    "        prob = []\n",
    "        if len(value) > 0:\n",
    "            for t in tmp:\n",
    "                prob.append(float(t) / float(len(value)))\n",
    "        mode_hist_dict[key] = prob\n",
    "\n",
    "    return mode_hist_dict\n",
    "\n",
    "_ = mode_dict(path)\n",
    "# print(_)\n",
    "m_hist = speed_hist(_)\n",
    "print(m_hist)"
   ]
  },
  {
   "cell_type": "code",
   "execution_count": 8,
   "metadata": {},
   "outputs": [
    {
     "data": {
      "text/plain": [
       "<keras.layers.core.dense.Dense at 0x2578a7c2430>"
      ]
     },
     "execution_count": 8,
     "metadata": {},
     "output_type": "execute_result"
    }
   ],
   "source": [
    "# 输入层\n",
    "tf.keras.layers.Conv2D(filters=64,        # 卷积中滤波器的输出数量\n",
    "                       kernel_size=(1, 5),# 卷积核\n",
    "                       padding='valid',   # 多余的列舍弃\n",
    "                       strides=(1, 1),    # 步长\n",
    "                       input_shape=(7, 5, 1),# 输入形状 \n",
    "                       activation='relu')    # 激活函数\n",
    "# 输出层\n",
    "tf.keras.layers.Dense(2, activation='sigmoid')"
   ]
  },
  {
   "cell_type": "code",
   "execution_count": 12,
   "metadata": {
    "pycharm": {
     "name": "#%%\n"
    },
    "scrolled": true
   },
   "outputs": [],
   "source": [
    "# 训练模型\n",
    "\n",
    "mode_class_num = 3\n",
    "\n",
    "\n",
    "class Local(tf.keras.layers.Layer):\n",
    "    def __init__(self, latent_dim=64, intermediate_dim=128, name='Local', **kwargs):\n",
    "        super(Local, self).__init__(name=name, **kwargs)\n",
    "        self.cnn = tf.keras.layers.Conv2D(filters=64, kernel_size=(1, col), padding='valid',\n",
    "                                          input_shape=(7, col, 1), activation='relu', name='localcnn')\n",
    "        self.bn = tf.keras.layers.BatchNormalization(name='localbn')  # 把一个batch内的所有数据，从不规范的分布拉到正态分布\n",
    "        self.dropout = tf.keras.layers.Dropout(0.2, name='localdrop') # 防止过拟合，随机0.2的不进行工作\n",
    "        self.reshape = tf.keras.layers.Reshape((7, 64), name='localreshape')  # 任意层之间连接\n",
    "        self.lstm = tf.keras.layers.LSTM(128, return_sequences=False, stateful=False, name='locallstm') # 输出维度？\n",
    "        self.dense_1 = tf.keras.layers.Dense(intermediate_dim, activation='relu', name='localdense1') # 输出维度128\n",
    "        self.dense_2 = tf.keras.layers.Dense(latent_dim, activation='relu', name='localdense2')       # 输出维度 64\n",
    "\n",
    "    def call(self, inputs):\n",
    "        cnn_bn = self.bn(self.cnn(inputs))\n",
    "        cnn_drop = self.dropout(cnn_bn)\n",
    "        lstm_inp = self.reshape(cnn_drop)\n",
    "        # print (lstm_inp.shape)\n",
    "        lstm_out = self.lstm(lstm_inp)\n",
    "        lstm_drop = self.dropout(lstm_out)\n",
    "        dense_1 = self.dropout(self.dense_1(lstm_drop))\n",
    "        local_out = self.dense_2(dense_1)   # 64维度的数据\n",
    "        return local_out\n",
    "\n",
    "    def get_config(self):\n",
    "        config = super(Local, self).get_config()\n",
    "        return config\n",
    "\n",
    "\n",
    "class Attention(tf.keras.layers.Layer):\n",
    "    def __init__(self, attention_size=32, name='Attention', **kwargs):\n",
    "        super().__init__(name=name, **kwargs)\n",
    "        self.attention_size = attention_size    # 输入32维\n",
    "        self.dense_1 = tf.keras.layers.Dense(attention_size, activation='tanh', name='attndnese1')  # 全连接 32\n",
    "        self.dense_2 = tf.keras.layers.Dense(1, use_bias=False, name='attndense2')   # 全连接 1维\n",
    "\n",
    "    def call(self, inputs):\n",
    "        v = self.dense_1(inputs)\n",
    "        vu = self.dense_2(v)\n",
    "        alphas = tf.nn.softmax(vu)   # 一维数据经过 softmax  映射到0和1之间\n",
    "        output = alphas\n",
    "        return output\n",
    "\n",
    "    def get_config(self):\n",
    "        config = super(Attention, self).get_config()\n",
    "        config.update({\"attention_size\": self.attention_size})\n",
    "        return config\n",
    "\n",
    "\n",
    "import AttentionCell\n",
    "from imp import reload\n",
    "\n",
    "reload(AttentionCell)\n",
    "\n",
    "class Global(tf.keras.layers.Layer):\n",
    "    def __init__(self, max_subs=Max_S, latent_dim=64, name='Global', **kwargs):\n",
    "        super(Global, self).__init__(name=name, **kwargs)\n",
    "        self.max_subs = max_subs\n",
    "\n",
    "        self.cell = AttentionCell.ALSTM_Cell(64, name='attncell')  # 注意力机制：输入64维度\n",
    "        self.rnn = tf.keras.layers.RNN(self.cell, return_sequences=True, name='attnRNN')  # RNN中使用Attention Cell\n",
    "        self.dense_1 = tf.keras.layers.Dense(64, activation='relu', \n",
    "                                             name='globaldense1')  # tf.keras.layers.BatchNormalization(), 全连接 64层\n",
    "        self.dense_2 = tf.keras.layers.Dense(32, activation='relu', name='globaldense2')   # 全连接 32 层\n",
    "        self.out = tf.keras.layers.Dense(2, activation='sigmoid', name='globalout')        # 全连接 2 层\n",
    "        self.attn = Attention(name='globalattn')\n",
    "\n",
    "    def call(self, inputs):\n",
    "        x = inputs\n",
    "        # mask = self.mask(x)\n",
    "        h = self.rnn(x)   # 接受64维度数据\n",
    "        h_d_1 = self.dense_1(h)      # 64\n",
    "        h_d_2 = self.dense_2(h_d_1)  # 32\n",
    "        h_a = self.attn(h_d_2)       # 使用Attention  返回结果为一维数据，映射在0-1之间\n",
    "        y = self.out(h_d_2 * h_a)    # 输出2维数据     32维数据与0-1之间一个数据相乘，然后映射为2维数据\n",
    "        return y\n",
    "\n",
    "    def get_config(self):\n",
    "        config = super(Global, self).get_config()\n",
    "        config.update({\"max_subs\": self.max_subs})\n",
    "        return config\n",
    "\n",
    "class Seq(tf.keras.Model):\n",
    "    def __init__(self, latent_dim=64, intermediate_dim=128, name='Seq', **kwargs):\n",
    "        super().__init__(name=name, **kwargs)\n",
    "        self.local_out_dim = latent_dim\n",
    "        self.local = Local(latent_dim=latent_dim, intermediate_dim=intermediate_dim, name='seqlocal')   # 输出64 维度的数据\n",
    "        self.pred = Global(name='seqglobal')\n",
    "\n",
    "    def call(self, inputs):\n",
    "        batch_inputs = inputs[0]\n",
    "        batch_time = inputs[1]\n",
    "\n",
    "        x = self.local(batch_inputs)\n",
    "        x = tf.reshape(x, [BATCH_S, Max_S, self.local_out_dim])\n",
    "        batch_time = tf.reshape(batch_time, [BATCH_S, Max_S, 1])\n",
    "        x = tf.keras.layers.concatenate([x, batch_time], axis=-1)\n",
    "        x = self.pred(x)\n",
    "\n",
    "        return x\n",
    "\n",
    "    def get_config(self):\n",
    "        config = super(Seq, self).get_config()\n",
    "        config.update({\"local_out_dim\": self.local_out_dim})\n",
    "        return config\n",
    "\n",
    "    @classmethod\n",
    "    def from_config(cls, config):\n",
    "        return cls(**config)"
   ]
  },
  {
   "cell_type": "code",
   "execution_count": 13,
   "metadata": {
    "pycharm": {
     "name": "#%%\n"
    }
   },
   "outputs": [
    {
     "ename": "NameError",
     "evalue": "name 'AttentionCell' is not defined",
     "output_type": "error",
     "traceback": [
      "\u001b[1;31m---------------------------------------------------------------------------\u001b[0m",
      "\u001b[1;31mNameError\u001b[0m                                 Traceback (most recent call last)",
      "Input \u001b[1;32mIn [13]\u001b[0m, in \u001b[0;36m<cell line: 1>\u001b[1;34m()\u001b[0m\n\u001b[1;32m----> 1\u001b[0m raw_model \u001b[38;5;241m=\u001b[39m \u001b[43mSeq\u001b[49m\u001b[43m(\u001b[49m\u001b[43m)\u001b[49m\n",
      "Input \u001b[1;32mIn [12]\u001b[0m, in \u001b[0;36mSeq.__init__\u001b[1;34m(self, latent_dim, intermediate_dim, name, **kwargs)\u001b[0m\n\u001b[0;32m     90\u001b[0m \u001b[38;5;28mself\u001b[39m\u001b[38;5;241m.\u001b[39mlocal_out_dim \u001b[38;5;241m=\u001b[39m latent_dim\n\u001b[0;32m     91\u001b[0m \u001b[38;5;28mself\u001b[39m\u001b[38;5;241m.\u001b[39mlocal \u001b[38;5;241m=\u001b[39m Local(latent_dim\u001b[38;5;241m=\u001b[39mlatent_dim, intermediate_dim\u001b[38;5;241m=\u001b[39mintermediate_dim, name\u001b[38;5;241m=\u001b[39m\u001b[38;5;124m'\u001b[39m\u001b[38;5;124mseqlocal\u001b[39m\u001b[38;5;124m'\u001b[39m)   \u001b[38;5;66;03m# 输出64 维度的数据\u001b[39;00m\n\u001b[1;32m---> 92\u001b[0m \u001b[38;5;28mself\u001b[39m\u001b[38;5;241m.\u001b[39mpred \u001b[38;5;241m=\u001b[39m \u001b[43mGlobal\u001b[49m\u001b[43m(\u001b[49m\u001b[43mname\u001b[49m\u001b[38;5;241;43m=\u001b[39;49m\u001b[38;5;124;43m'\u001b[39;49m\u001b[38;5;124;43mseqglobal\u001b[39;49m\u001b[38;5;124;43m'\u001b[39;49m\u001b[43m)\u001b[49m\n",
      "Input \u001b[1;32mIn [12]\u001b[0m, in \u001b[0;36mGlobal.__init__\u001b[1;34m(self, max_subs, latent_dim, name, **kwargs)\u001b[0m\n\u001b[0;32m     61\u001b[0m \u001b[38;5;28msuper\u001b[39m(Global, \u001b[38;5;28mself\u001b[39m)\u001b[38;5;241m.\u001b[39m\u001b[38;5;21m__init__\u001b[39m(name\u001b[38;5;241m=\u001b[39mname, \u001b[38;5;241m*\u001b[39m\u001b[38;5;241m*\u001b[39mkwargs)\n\u001b[0;32m     62\u001b[0m \u001b[38;5;28mself\u001b[39m\u001b[38;5;241m.\u001b[39mmax_subs \u001b[38;5;241m=\u001b[39m max_subs\n\u001b[1;32m---> 64\u001b[0m \u001b[38;5;28mself\u001b[39m\u001b[38;5;241m.\u001b[39mcell \u001b[38;5;241m=\u001b[39m \u001b[43mAttentionCell\u001b[49m\u001b[38;5;241m.\u001b[39mALSTM_Cell(\u001b[38;5;241m64\u001b[39m, name\u001b[38;5;241m=\u001b[39m\u001b[38;5;124m'\u001b[39m\u001b[38;5;124mattncell\u001b[39m\u001b[38;5;124m'\u001b[39m)  \u001b[38;5;66;03m# 注意力机制：输入64维度\u001b[39;00m\n\u001b[0;32m     65\u001b[0m \u001b[38;5;28mself\u001b[39m\u001b[38;5;241m.\u001b[39mrnn \u001b[38;5;241m=\u001b[39m tf\u001b[38;5;241m.\u001b[39mkeras\u001b[38;5;241m.\u001b[39mlayers\u001b[38;5;241m.\u001b[39mRNN(\u001b[38;5;28mself\u001b[39m\u001b[38;5;241m.\u001b[39mcell, return_sequences\u001b[38;5;241m=\u001b[39m\u001b[38;5;28;01mTrue\u001b[39;00m, name\u001b[38;5;241m=\u001b[39m\u001b[38;5;124m'\u001b[39m\u001b[38;5;124mattnRNN\u001b[39m\u001b[38;5;124m'\u001b[39m)  \u001b[38;5;66;03m# RNN中使用Attention Cell\u001b[39;00m\n\u001b[0;32m     66\u001b[0m \u001b[38;5;28mself\u001b[39m\u001b[38;5;241m.\u001b[39mdense_1 \u001b[38;5;241m=\u001b[39m tf\u001b[38;5;241m.\u001b[39mkeras\u001b[38;5;241m.\u001b[39mlayers\u001b[38;5;241m.\u001b[39mDense(\u001b[38;5;241m64\u001b[39m, activation\u001b[38;5;241m=\u001b[39m\u001b[38;5;124m'\u001b[39m\u001b[38;5;124mrelu\u001b[39m\u001b[38;5;124m'\u001b[39m, \n\u001b[0;32m     67\u001b[0m                                      name\u001b[38;5;241m=\u001b[39m\u001b[38;5;124m'\u001b[39m\u001b[38;5;124mglobaldense1\u001b[39m\u001b[38;5;124m'\u001b[39m)  \u001b[38;5;66;03m# tf.keras.layers.BatchNormalization(), 全连接 64层\u001b[39;00m\n",
      "\u001b[1;31mNameError\u001b[0m: name 'AttentionCell' is not defined"
     ]
    }
   ],
   "source": [
    "raw_model = Seq()\n",
    "\n",
    "# print(raw_model)"
   ]
  },
  {
   "cell_type": "code",
   "execution_count": 14,
   "metadata": {
    "pycharm": {
     "name": "#%%\n"
    }
   },
   "outputs": [],
   "source": [
    "# 自定义评判指标\n",
    "def proba(v, mode, m_hist):\n",
    "    prob = 0\n",
    "    if mode >= 0:\n",
    "        ref = m_hist[mode]\n",
    "        if v <= 2:\n",
    "            prob = ref[0]\n",
    "        elif v <= 6:\n",
    "            prob = ref[1]\n",
    "        elif v <= 12:\n",
    "            prob = ref[2]\n",
    "        elif v <= 18:\n",
    "            prob = ref[3]\n",
    "        elif v <= 24:\n",
    "            prob = ref[4]\n",
    "        elif v <= 30:\n",
    "            prob = ref[5]\n",
    "        else:\n",
    "            prob = ref[6]\n",
    "    return prob\n",
    "\n",
    "def mode_const(y_pred, time_list, mode_list, yscaler, m_hist):\n",
    "    sum_p = 0\n",
    "    c = 0\n",
    "    for i in range(1, y_pred.shape[0]):\n",
    "        mode = int(mode_list[i].numpy())\n",
    "        if mode >= 0:\n",
    "            loc_former = yscaler.inverse_transform(y_pred[i - 1, :].reshape(1, 2))\n",
    "            loc_later = yscaler.inverse_transform(y_pred[i, :].reshape(1, 2))\n",
    "            dis = distance(loc_former[0], loc_later[0])\n",
    "            v = dis / time_list[i]\n",
    "            p = - math.log(1 + proba(v, mode, m_hist))\n",
    "            sum_p += p\n",
    "            c += 1\n",
    "    if c > 0:\n",
    "        return sum_p / c\n",
    "    else:\n",
    "        return 0\n",
    "\n",
    "\n",
    "def loss_function_const(y_true, y_pred, time_list, mode_list, yscaler, m_hist):\n",
    "    judge = tf.math.equal(y_true, -1.0)  # 经纬度不能等于 -1 [True, False]\n",
    "    mask = tf.math.logical_not(tf.math.logical_and(judge[:, 0], judge[:, 1]))\n",
    "\n",
    "    loss_ = tf.keras.losses.MSE(y_true, y_pred)\n",
    "    loss_ = tf.cast(loss_, dtype='float32')\n",
    "    count = tf.math.count_nonzero(mask)\n",
    "    count = tf.cast(count, dtype='float32')\n",
    "    mask = tf.cast(mask, dtype='float32')\n",
    "    loss_ *= mask\n",
    "\n",
    "    constraint = mode_const(y_pred.numpy(), time_list, mode_list, yscaler, m_hist)\n",
    "    thres_alpha = 0.05\n",
    "\n",
    "    return tf.reduce_sum(loss_) / (count + 1) + thres_alpha * constraint\n",
    "\n",
    "\n",
    "def predict_t(model, fea, lab, time, lox_sel, batch_size=BATCH_S):\n",
    "    pred = []\n",
    "    true = []\n",
    "    for i in range(0, fea.shape[0]):\n",
    "        x_batch = fea[i, :, :, :, :]\n",
    "        y_batch = lab[i, :, :].reshape((batch_size * Max_S, 2))\n",
    "        t_batch = time[i, :]\n",
    "        x_batch = tf.cast(x_batch, tf.float32)\n",
    "        t_batch = tf.cast(t_batch, tf.float32)\n",
    "        batch_input = []\n",
    "        batch_input.append(x_batch)\n",
    "        batch_input.append(t_batch)\n",
    "\n",
    "        #         pred_batch = model(x_batch, t_batch)\n",
    "        if lox_sel == 0:\n",
    "            pred_batch = model(batch_input)\n",
    "        else:\n",
    "            pred_batch, _ = model(batch_input)\n",
    "        pred_batch = tf.reshape(pred_batch, [batch_size * Max_S, 2]).numpy()\n",
    "        if i == 0:\n",
    "            pred = pred_batch\n",
    "            true = y_batch\n",
    "        else:\n",
    "            pred = np.concatenate((pred, pred_batch), axis=0) # 拼接\n",
    "            true = np.concatenate((true, y_batch), axis=0)\n",
    "    return pred, true\n",
    "\n",
    "def f_error(tr_loc, Y, yscaler):\n",
    "    err = []\n",
    "    m = 0\n",
    "\n",
    "    while m < tr_loc.shape[0]:\n",
    "        if Y[m, 0] != -1.0 and Y[m, 1] != -1.0:\n",
    "            tr_loc_real = yscaler.inverse_transform(tr_loc[m, :].reshape(1, 2))\n",
    "            y_true_real = yscaler.inverse_transform(Y[m, :].reshape(1, 2))\n",
    "            err.append(distance(tr_loc_real.reshape(2), y_true_real.reshape(2)))\n",
    "        m += 1\n",
    "\n",
    "    # print(m)\n",
    "    return err"
   ]
  },
  {
   "cell_type": "code",
   "execution_count": 15,
   "metadata": {
    "pycharm": {
     "name": "#%%\n"
    }
   },
   "outputs": [
    {
     "name": "stdout",
     "output_type": "stream",
     "text": [
      "<class 'numpy.ndarray'>\n",
      "(40, 7, 5, 1)\n",
      "(40, 2)\n"
     ]
    }
   ],
   "source": [
    "x_batch_train = f[0, :, :, :, :]\n",
    "y_batch_train = l[0, :, :]\n",
    "t_batch_time = t[0, :]\n",
    "m_batch_time = m[0, :]\n",
    "\n",
    "print(type(x_batch_train))\n",
    "print(x_batch_train.shape)  # samples\n",
    "print(y_batch_train.shape)  # labels"
   ]
  },
  {
   "cell_type": "code",
   "execution_count": 16,
   "metadata": {
    "pycharm": {
     "name": "#%%\n"
    },
    "scrolled": true
   },
   "outputs": [
    {
     "name": "stdout",
     "output_type": "stream",
     "text": [
      "=====>第0轮训练开始：\n"
     ]
    },
    {
     "ename": "NameError",
     "evalue": "name 'raw_model' is not defined",
     "output_type": "error",
     "traceback": [
      "\u001b[1;31m---------------------------------------------------------------------------\u001b[0m",
      "\u001b[1;31mNameError\u001b[0m                                 Traceback (most recent call last)",
      "Input \u001b[1;32mIn [16]\u001b[0m, in \u001b[0;36m<cell line: 26>\u001b[1;34m()\u001b[0m\n\u001b[0;32m     41\u001b[0m batch_input\u001b[38;5;241m.\u001b[39mappend(t_batch_time)\n\u001b[0;32m     43\u001b[0m \u001b[38;5;28;01mwith\u001b[39;00m tf\u001b[38;5;241m.\u001b[39mGradientTape() \u001b[38;5;28;01mas\u001b[39;00m tape:\n\u001b[1;32m---> 44\u001b[0m     tape\u001b[38;5;241m.\u001b[39mwatch(\u001b[43mraw_model\u001b[49m\u001b[38;5;241m.\u001b[39mtrainable_variables)\n\u001b[0;32m     45\u001b[0m     pred \u001b[38;5;241m=\u001b[39m raw_model(batch_input)\n\u001b[0;32m     46\u001b[0m     pred \u001b[38;5;241m=\u001b[39m tf\u001b[38;5;241m.\u001b[39mreshape(pred, [BATCH_S \u001b[38;5;241m*\u001b[39m Max_S, \u001b[38;5;241m2\u001b[39m])\n",
      "\u001b[1;31mNameError\u001b[0m: name 'raw_model' is not defined"
     ]
    }
   ],
   "source": [
    "Max_S = 10\n",
    "lox_sel = 0\n",
    "# 优化器\n",
    "optimizer = tf.keras.optimizers.Adam(learning_rate=5e-4)\n",
    "# 损失函数\n",
    "loss_metric = tf.keras.metrics.Mean()\n",
    "\n",
    "m_med_err = 999\n",
    "m_mea_err = 999\n",
    "m_nin_err = 999\n",
    "max_acc = 0\n",
    "\n",
    "shuffle_list = random.sample(range(f.shape[0]), f.shape[0])\n",
    "\n",
    "yscaler = preprocess(path)\n",
    "# print(\"yscaler: \", yscaler.feature_range)\n",
    "\n",
    "# 训练轮数\n",
    "epoches = 10\n",
    "\n",
    "median_loss = []\n",
    "mean_loss = []\n",
    "nine_loss = []\n",
    "all_loss = []\n",
    "\n",
    "for epoch in range(0, epoches):\n",
    "    print(\"=====>第{}轮训练开始：\".format(epoch))\n",
    "    los = []\n",
    "    for j in shuffle_list:\n",
    "        x_batch_train = f[j, :, :, :, :]\n",
    "        y_batch_train = l[j, :, :]\n",
    "        t_batch_time = t[j, :]\n",
    "        m_batch_time = m[j, :]\n",
    "        x_batch_train = tf.cast(x_batch_train, tf.float32)\n",
    "        y_batch_train = tf.cast(y_batch_train, tf.float32)\n",
    "        t_batch_time = tf.cast(t_batch_time, tf.float32)\n",
    "        m_batch_time = tf.cast(m_batch_time, tf.float32)\n",
    "        batch_input = []\n",
    "        #         print (x_batch_train.shape, t_batch_time.shape)\n",
    "        batch_input.append(x_batch_train)\n",
    "        batch_input.append(t_batch_time)\n",
    "\n",
    "        with tf.GradientTape() as tape:\n",
    "            tape.watch(raw_model.trainable_variables)\n",
    "            pred = raw_model(batch_input)\n",
    "            pred = tf.reshape(pred, [BATCH_S * Max_S, 2])\n",
    "\n",
    "            loss = loss_function_const(y_batch_train, pred, t_batch_time, m_batch_time, yscaler, m_hist)\n",
    "\n",
    "        grads = tape.gradient(loss, raw_model.trainable_variables)\n",
    "        optimizer.apply_gradients(zip(grads, raw_model.trainable_variables))\n",
    "        loss_metric(loss)\n",
    "        los.append(loss)\n",
    "        if j % 50 == 0:\n",
    "            print('step %s: loss = %s' % (j, loss))\n",
    "\n",
    "    all_loss.append(los)\n",
    "    # if epoch % 10 == 0 and epoch <= 400:\n",
    "    pred, true = predict_t(raw_model, ef, el, et, lox_sel)\n",
    "    te_err = sorted(f_error(pred, true, yscaler))\n",
    "    median_loss.append(np.median(te_err))\n",
    "    mean_loss.append(np.mean(te_err))\n",
    "    nine_loss.append(te_err[int(len(te_err) * 0.9)])\n",
    "    print(\"轮数：{}, 中位数误差:{}, 平均误差：{}, 90%误差：{}\".format(epoch, np.median(te_err), np.mean(te_err), te_err[int(len(te_err) * 0.9)]))\n",
    "\n",
    "    \n",
    "\n",
    "    # if epoch > 400:\n",
    "    #     pred, true = predict_t(raw_model, ef, el, et, lox_sel)\n",
    "    #     te_err = sorted(f_error(pred, true, yscaler))\n",
    "    #     print(epoch, np.median(te_err), np.mean(te_err), te_err[int(len(te_err) * 0.9)])"
   ]
  },
  {
   "cell_type": "code",
   "execution_count": 13,
   "metadata": {},
   "outputs": [
    {
     "name": "stdout",
     "output_type": "stream",
     "text": [
      "WARNING:tensorflow:AutoGraph could not transform <function trace_model_call.<locals>._wrapped_model at 0x00000225E934C9D8> and will run it as-is.\n",
      "Please report this to the TensorFlow team. When filing the bug, set the verbosity to 10 (on Linux, `export AUTOGRAPH_VERBOSITY=10`) and attach the full output.\n",
      "Cause: module 'gast' has no attribute 'Constant'\n",
      "To silence this warning, decorate the function with @tf.autograph.experimental.do_not_convert\n",
      "WARNING: AutoGraph could not transform <function trace_model_call.<locals>._wrapped_model at 0x00000225E934C9D8> and will run it as-is.\n",
      "Please report this to the TensorFlow team. When filing the bug, set the verbosity to 10 (on Linux, `export AUTOGRAPH_VERBOSITY=10`) and attach the full output.\n",
      "Cause: module 'gast' has no attribute 'Constant'\n",
      "To silence this warning, decorate the function with @tf.autograph.experimental.do_not_convert\n",
      "WARNING:tensorflow:AutoGraph could not transform <bound method Seq.call of <__main__.Seq object at 0x00000225E900AF98>> and will run it as-is.\n",
      "Please report this to the TensorFlow team. When filing the bug, set the verbosity to 10 (on Linux, `export AUTOGRAPH_VERBOSITY=10`) and attach the full output.\n",
      "Cause: module 'gast' has no attribute 'Constant'\n",
      "To silence this warning, decorate the function with @tf.autograph.experimental.do_not_convert\n",
      "WARNING: AutoGraph could not transform <bound method Seq.call of <__main__.Seq object at 0x00000225E900AF98>> and will run it as-is.\n",
      "Please report this to the TensorFlow team. When filing the bug, set the verbosity to 10 (on Linux, `export AUTOGRAPH_VERBOSITY=10`) and attach the full output.\n",
      "Cause: module 'gast' has no attribute 'Constant'\n",
      "To silence this warning, decorate the function with @tf.autograph.experimental.do_not_convert\n",
      "WARNING:tensorflow:AutoGraph could not transform <bound method Local.call of <__main__.Local object at 0x00000225E900A358>> and will run it as-is.\n",
      "Please report this to the TensorFlow team. When filing the bug, set the verbosity to 10 (on Linux, `export AUTOGRAPH_VERBOSITY=10`) and attach the full output.\n",
      "Cause: 'arguments' object has no attribute 'posonlyargs'\n",
      "To silence this warning, decorate the function with @tf.autograph.experimental.do_not_convert\n",
      "WARNING: AutoGraph could not transform <bound method Local.call of <__main__.Local object at 0x00000225E900A358>> and will run it as-is.\n",
      "Please report this to the TensorFlow team. When filing the bug, set the verbosity to 10 (on Linux, `export AUTOGRAPH_VERBOSITY=10`) and attach the full output.\n",
      "Cause: 'arguments' object has no attribute 'posonlyargs'\n",
      "To silence this warning, decorate the function with @tf.autograph.experimental.do_not_convert\n",
      "WARNING:tensorflow:AutoGraph could not transform <bound method Global.call of <__main__.Global object at 0x00000225E8EE55F8>> and will run it as-is.\n",
      "Please report this to the TensorFlow team. When filing the bug, set the verbosity to 10 (on Linux, `export AUTOGRAPH_VERBOSITY=10`) and attach the full output.\n",
      "Cause: 'arguments' object has no attribute 'posonlyargs'\n",
      "To silence this warning, decorate the function with @tf.autograph.experimental.do_not_convert\n",
      "WARNING: AutoGraph could not transform <bound method Global.call of <__main__.Global object at 0x00000225E8EE55F8>> and will run it as-is.\n",
      "Please report this to the TensorFlow team. When filing the bug, set the verbosity to 10 (on Linux, `export AUTOGRAPH_VERBOSITY=10`) and attach the full output.\n",
      "Cause: 'arguments' object has no attribute 'posonlyargs'\n",
      "To silence this warning, decorate the function with @tf.autograph.experimental.do_not_convert\n",
      "WARNING:tensorflow:AutoGraph could not transform <bound method ALSTM_Cell.call of <AttentionCell.ALSTM_Cell object at 0x00000225E8EEA9E8>> and will run it as-is.\n",
      "Please report this to the TensorFlow team. When filing the bug, set the verbosity to 10 (on Linux, `export AUTOGRAPH_VERBOSITY=10`) and attach the full output.\n",
      "Cause: module 'gast' has no attribute 'Constant'\n",
      "To silence this warning, decorate the function with @tf.autograph.experimental.do_not_convert\n",
      "WARNING: AutoGraph could not transform <bound method ALSTM_Cell.call of <AttentionCell.ALSTM_Cell object at 0x00000225E8EEA9E8>> and will run it as-is.\n",
      "Please report this to the TensorFlow team. When filing the bug, set the verbosity to 10 (on Linux, `export AUTOGRAPH_VERBOSITY=10`) and attach the full output.\n",
      "Cause: module 'gast' has no attribute 'Constant'\n",
      "To silence this warning, decorate the function with @tf.autograph.experimental.do_not_convert\n",
      "WARNING:tensorflow:AutoGraph could not transform <bound method Attention.call of <__main__.Attention object at 0x00000225E8FE7668>> and will run it as-is.\n",
      "Please report this to the TensorFlow team. When filing the bug, set the verbosity to 10 (on Linux, `export AUTOGRAPH_VERBOSITY=10`) and attach the full output.\n",
      "Cause: 'arguments' object has no attribute 'posonlyargs'\n",
      "To silence this warning, decorate the function with @tf.autograph.experimental.do_not_convert\n",
      "WARNING: AutoGraph could not transform <bound method Attention.call of <__main__.Attention object at 0x00000225E8FE7668>> and will run it as-is.\n",
      "Please report this to the TensorFlow team. When filing the bug, set the verbosity to 10 (on Linux, `export AUTOGRAPH_VERBOSITY=10`) and attach the full output.\n",
      "Cause: 'arguments' object has no attribute 'posonlyargs'\n",
      "To silence this warning, decorate the function with @tf.autograph.experimental.do_not_convert\n",
      "WARNING:tensorflow:AutoGraph could not transform <function canonicalize_signatures.<locals>.signature_wrapper at 0x00000225EBDCEE18> and will run it as-is.\n",
      "Please report this to the TensorFlow team. When filing the bug, set the verbosity to 10 (on Linux, `export AUTOGRAPH_VERBOSITY=10`) and attach the full output.\n",
      "Cause: 'arguments' object has no attribute 'posonlyargs'\n",
      "To silence this warning, decorate the function with @tf.autograph.experimental.do_not_convert\n",
      "WARNING: AutoGraph could not transform <function canonicalize_signatures.<locals>.signature_wrapper at 0x00000225EBDCEE18> and will run it as-is.\n",
      "Please report this to the TensorFlow team. When filing the bug, set the verbosity to 10 (on Linux, `export AUTOGRAPH_VERBOSITY=10`) and attach the full output.\n",
      "Cause: 'arguments' object has no attribute 'posonlyargs'\n",
      "To silence this warning, decorate the function with @tf.autograph.experimental.do_not_convert\n"
     ]
    },
    {
     "name": "stderr",
     "output_type": "stream",
     "text": [
      "WARNING:absl:Found untraced functions such as localcnn_layer_call_fn, localcnn_layer_call_and_return_conditional_losses, localdrop_layer_call_fn, localdrop_layer_call_and_return_conditional_losses, localreshape_layer_call_fn while saving (showing 5 of 24). These functions will not be directly callable after loading.\n"
     ]
    },
    {
     "name": "stdout",
     "output_type": "stream",
     "text": [
      "INFO:tensorflow:Assets written to: ./model/model\\assets\n"
     ]
    },
    {
     "name": "stderr",
     "output_type": "stream",
     "text": [
      "INFO:tensorflow:Assets written to: ./model/model\\assets\n",
      "WARNING:absl:<__main__.Attention object at 0x00000225E8FE7668> has the same name 'Attention' as a built-in Keras object. Consider renaming <class '__main__.Attention'> to avoid naming conflicts when loading with `tf.keras.models.load_model`. If renaming is not possible, pass the object in the `custom_objects` parameter of the load function.\n",
      "WARNING:absl:<keras.layers.recurrent.LSTMCell object at 0x00000225E8FFD0B8> has the same name 'LSTMCell' as a built-in Keras object. Consider renaming <class 'keras.layers.recurrent.LSTMCell'> to avoid naming conflicts when loading with `tf.keras.models.load_model`. If renaming is not possible, pass the object in the `custom_objects` parameter of the load function.\n"
     ]
    }
   ],
   "source": [
    "raw_model.save(\"./model/model\") "
   ]
  },
  {
   "cell_type": "code",
   "execution_count": 15,
   "metadata": {},
   "outputs": [
    {
     "name": "stdout",
     "output_type": "stream",
     "text": [
      "You must install pydot (`pip install pydot`) and install graphviz (see instructions at https://graphviz.gitlab.io/download/) for plot_model/model_to_dot to work.\n"
     ]
    },
    {
     "ename": "FileNotFoundError",
     "evalue": "[Errno 2] No such file or directory: 'cnn_model.png'",
     "output_type": "error",
     "traceback": [
      "\u001b[1;31m---------------------------------------------------------------------------\u001b[0m",
      "\u001b[1;31mFileNotFoundError\u001b[0m                         Traceback (most recent call last)",
      "\u001b[1;32m~\\AppData\\Local\\Temp\\ipykernel_33756\\1319138904.py\u001b[0m in \u001b[0;36m<module>\u001b[1;34m\u001b[0m\n\u001b[0;32m      9\u001b[0m \u001b[1;33m\u001b[0m\u001b[0m\n\u001b[0;32m     10\u001b[0m \u001b[0mplt\u001b[0m\u001b[1;33m.\u001b[0m\u001b[0mfigure\u001b[0m\u001b[1;33m(\u001b[0m\u001b[0mfigsize\u001b[0m\u001b[1;33m=\u001b[0m\u001b[1;33m(\u001b[0m\u001b[1;36m80\u001b[0m\u001b[1;33m,\u001b[0m\u001b[1;36m80\u001b[0m\u001b[1;33m)\u001b[0m\u001b[1;33m)\u001b[0m\u001b[1;33m\u001b[0m\u001b[0m\n\u001b[1;32m---> 11\u001b[1;33m \u001b[0mimg\u001b[0m \u001b[1;33m=\u001b[0m \u001b[0mplt\u001b[0m\u001b[1;33m.\u001b[0m\u001b[0mimread\u001b[0m\u001b[1;33m(\u001b[0m\u001b[1;34m'cnn_model.png'\u001b[0m\u001b[1;33m)\u001b[0m\u001b[1;33m\u001b[0m\u001b[0m\n\u001b[0m\u001b[0;32m     12\u001b[0m \u001b[0mplt\u001b[0m\u001b[1;33m.\u001b[0m\u001b[0mimshow\u001b[0m\u001b[1;33m(\u001b[0m\u001b[0mimg\u001b[0m\u001b[1;33m)\u001b[0m\u001b[1;33m\u001b[0m\u001b[0m\n\u001b[0;32m     13\u001b[0m \u001b[0mplt\u001b[0m\u001b[1;33m.\u001b[0m\u001b[0maxis\u001b[0m\u001b[1;33m(\u001b[0m\u001b[1;34m'off'\u001b[0m\u001b[1;33m)\u001b[0m\u001b[1;33m\u001b[0m\u001b[0m\n",
      "\u001b[1;32mZ:\\AI-learning\\1-hello\\ai\\lib\\site-packages\\matplotlib\\pyplot.py\u001b[0m in \u001b[0;36mimread\u001b[1;34m(*args, **kwargs)\u001b[0m\n\u001b[0;32m   2379\u001b[0m \u001b[1;33m@\u001b[0m\u001b[0mdocstring\u001b[0m\u001b[1;33m.\u001b[0m\u001b[0mcopy_dedent\u001b[0m\u001b[1;33m(\u001b[0m\u001b[0m_imread\u001b[0m\u001b[1;33m)\u001b[0m\u001b[1;33m\u001b[0m\u001b[0m\n\u001b[0;32m   2380\u001b[0m \u001b[1;32mdef\u001b[0m \u001b[0mimread\u001b[0m\u001b[1;33m(\u001b[0m\u001b[1;33m*\u001b[0m\u001b[0margs\u001b[0m\u001b[1;33m,\u001b[0m \u001b[1;33m**\u001b[0m\u001b[0mkwargs\u001b[0m\u001b[1;33m)\u001b[0m\u001b[1;33m:\u001b[0m\u001b[1;33m\u001b[0m\u001b[0m\n\u001b[1;32m-> 2381\u001b[1;33m     \u001b[1;32mreturn\u001b[0m \u001b[0m_imread\u001b[0m\u001b[1;33m(\u001b[0m\u001b[1;33m*\u001b[0m\u001b[0margs\u001b[0m\u001b[1;33m,\u001b[0m \u001b[1;33m**\u001b[0m\u001b[0mkwargs\u001b[0m\u001b[1;33m)\u001b[0m\u001b[1;33m\u001b[0m\u001b[0m\n\u001b[0m\u001b[0;32m   2382\u001b[0m \u001b[1;33m\u001b[0m\u001b[0m\n\u001b[0;32m   2383\u001b[0m \u001b[1;33m\u001b[0m\u001b[0m\n",
      "\u001b[1;32mZ:\\AI-learning\\1-hello\\ai\\lib\\site-packages\\matplotlib\\image.py\u001b[0m in \u001b[0;36mimread\u001b[1;34m(fname, format)\u001b[0m\n\u001b[0;32m   1373\u001b[0m             \u001b[1;32mreturn\u001b[0m \u001b[0mhandler\u001b[0m\u001b[1;33m(\u001b[0m\u001b[0mfd\u001b[0m\u001b[1;33m)\u001b[0m\u001b[1;33m\u001b[0m\u001b[0m\n\u001b[0;32m   1374\u001b[0m         \u001b[1;32melse\u001b[0m\u001b[1;33m:\u001b[0m\u001b[1;33m\u001b[0m\u001b[0m\n\u001b[1;32m-> 1375\u001b[1;33m             \u001b[1;32mwith\u001b[0m \u001b[0mopen\u001b[0m\u001b[1;33m(\u001b[0m\u001b[0mfname\u001b[0m\u001b[1;33m,\u001b[0m \u001b[1;34m'rb'\u001b[0m\u001b[1;33m)\u001b[0m \u001b[1;32mas\u001b[0m \u001b[0mfd\u001b[0m\u001b[1;33m:\u001b[0m\u001b[1;33m\u001b[0m\u001b[0m\n\u001b[0m\u001b[0;32m   1376\u001b[0m                 \u001b[1;32mreturn\u001b[0m \u001b[0mhandler\u001b[0m\u001b[1;33m(\u001b[0m\u001b[0mfd\u001b[0m\u001b[1;33m)\u001b[0m\u001b[1;33m\u001b[0m\u001b[0m\n\u001b[0;32m   1377\u001b[0m     \u001b[1;32melse\u001b[0m\u001b[1;33m:\u001b[0m\u001b[1;33m\u001b[0m\u001b[0m\n",
      "\u001b[1;31mFileNotFoundError\u001b[0m: [Errno 2] No such file or directory: 'cnn_model.png'"
     ]
    },
    {
     "data": {
      "text/plain": [
       "<Figure size 5760x5760 with 0 Axes>"
      ]
     },
     "metadata": {},
     "output_type": "display_data"
    }
   ],
   "source": [
    "import matplotlib.pyplot as plt\n",
    "from keras.utils.vis_utils import plot_model\n",
    "import os  # 系统环境变量失效\n",
    "os.environ[\"PATH\"] += os.pathsep + r'D:/AppData/graphviz/bin'  # 解决问题\n",
    "\n",
    "\n",
    "# 绘制模型\n",
    "plot_model(raw_model,to_file='cnn_model.png', show_shapes=True, show_layer_names='True', rankdir='TB') # LR\n",
    "\n",
    "plt.figure(figsize=(80,80))\n",
    "img = plt.imread('cnn_model.png')\n",
    "plt.imshow(img)\n",
    "plt.axis('off')\n",
    "plt.show()"
   ]
  },
  {
   "cell_type": "code",
   "execution_count": 16,
   "metadata": {
    "pycharm": {
     "name": "#%%\n"
    }
   },
   "outputs": [
    {
     "name": "stdout",
     "output_type": "stream",
     "text": [
      "[269.20000000000005, 251.65, 244.2, 241.15, 238.60000000000002, 232.4, 223.6, 219.75, 217.45, 211.45]\n",
      "[292.56672535211266, 277.4598004694836, 266.8765258215962, 263.08169014084507, 260.14348591549293, 255.9462441314554, 252.18667840375585, 248.81032863849762, 246.41789906103284, 243.26842723004694]\n",
      "[482.7, 496.9, 481.4, 472.7, 468.2, 464.1, 462.3, 461.9, 460.4, 449.9]\n",
      "[[<tf.Tensor: shape=(), dtype=float32, numpy=0.016566902>, <tf.Tensor: shape=(), dtype=float32, numpy=-0.015264833>, <tf.Tensor: shape=(), dtype=float32, numpy=0.042535402>, <tf.Tensor: shape=(), dtype=float32, numpy=0.077759586>, <tf.Tensor: shape=(), dtype=float32, numpy=0.026822228>, <tf.Tensor: shape=(), dtype=float32, numpy=0.04369529>, <tf.Tensor: shape=(), dtype=float32, numpy=0.0018688329>, <tf.Tensor: shape=(), dtype=float32, numpy=0.012689171>, <tf.Tensor: shape=(), dtype=float32, numpy=0.011777522>, <tf.Tensor: shape=(), dtype=float32, numpy=0.06644954>, <tf.Tensor: shape=(), dtype=float32, numpy=-0.0048051607>, <tf.Tensor: shape=(), dtype=float32, numpy=0.012368079>, <tf.Tensor: shape=(), dtype=float32, numpy=0.07138493>, <tf.Tensor: shape=(), dtype=float32, numpy=0.004291364>, <tf.Tensor: shape=(), dtype=float32, numpy=0.028384408>, <tf.Tensor: shape=(), dtype=float32, numpy=0.021825789>, <tf.Tensor: shape=(), dtype=float32, numpy=0.097117126>, <tf.Tensor: shape=(), dtype=float32, numpy=0.07283936>, <tf.Tensor: shape=(), dtype=float32, numpy=0.07001812>, <tf.Tensor: shape=(), dtype=float32, numpy=0.011220198>, <tf.Tensor: shape=(), dtype=float32, numpy=0.010345389>, <tf.Tensor: shape=(), dtype=float32, numpy=0.0058764797>, <tf.Tensor: shape=(), dtype=float32, numpy=0.012512704>, <tf.Tensor: shape=(), dtype=float32, numpy=0.06016927>, <tf.Tensor: shape=(), dtype=float32, numpy=0.0004394306>, <tf.Tensor: shape=(), dtype=float32, numpy=0.07301013>, <tf.Tensor: shape=(), dtype=float32, numpy=0.028180577>, <tf.Tensor: shape=(), dtype=float32, numpy=0.044710502>, <tf.Tensor: shape=(), dtype=float32, numpy=0.061161753>, <tf.Tensor: shape=(), dtype=float32, numpy=-0.0077935634>, <tf.Tensor: shape=(), dtype=float32, numpy=0.013235131>, <tf.Tensor: shape=(), dtype=float32, numpy=0.027590893>, <tf.Tensor: shape=(), dtype=float32, numpy=-0.018036973>, <tf.Tensor: shape=(), dtype=float32, numpy=0.07415528>, <tf.Tensor: shape=(), dtype=float32, numpy=0.013549058>, <tf.Tensor: shape=(), dtype=float32, numpy=0.017117614>, <tf.Tensor: shape=(), dtype=float32, numpy=0.012200272>, <tf.Tensor: shape=(), dtype=float32, numpy=-0.0002516117>, <tf.Tensor: shape=(), dtype=float32, numpy=0.061627775>, <tf.Tensor: shape=(), dtype=float32, numpy=0.0059359716>, <tf.Tensor: shape=(), dtype=float32, numpy=-0.0075266343>, <tf.Tensor: shape=(), dtype=float32, numpy=0.011369165>, <tf.Tensor: shape=(), dtype=float32, numpy=0.018914545>, <tf.Tensor: shape=(), dtype=float32, numpy=0.015306881>, <tf.Tensor: shape=(), dtype=float32, numpy=-0.0036023147>, <tf.Tensor: shape=(), dtype=float32, numpy=0.024462463>, <tf.Tensor: shape=(), dtype=float32, numpy=0.075724654>, <tf.Tensor: shape=(), dtype=float32, numpy=0.010299005>, <tf.Tensor: shape=(), dtype=float32, numpy=-0.0066378117>, <tf.Tensor: shape=(), dtype=float32, numpy=0.018449295>, <tf.Tensor: shape=(), dtype=float32, numpy=-0.018709173>, <tf.Tensor: shape=(), dtype=float32, numpy=-0.015134145>, <tf.Tensor: shape=(), dtype=float32, numpy=0.01336327>, <tf.Tensor: shape=(), dtype=float32, numpy=0.00041824393>, <tf.Tensor: shape=(), dtype=float32, numpy=0.011044929>, <tf.Tensor: shape=(), dtype=float32, numpy=0.028218169>, <tf.Tensor: shape=(), dtype=float32, numpy=0.042419273>, <tf.Tensor: shape=(), dtype=float32, numpy=-0.005998235>, <tf.Tensor: shape=(), dtype=float32, numpy=-0.016364498>, <tf.Tensor: shape=(), dtype=float32, numpy=0.06578493>, <tf.Tensor: shape=(), dtype=float32, numpy=-0.0043135267>, <tf.Tensor: shape=(), dtype=float32, numpy=0.032816138>, <tf.Tensor: shape=(), dtype=float32, numpy=0.011218457>, <tf.Tensor: shape=(), dtype=float32, numpy=-0.006470578>, <tf.Tensor: shape=(), dtype=float32, numpy=0.003362434>, <tf.Tensor: shape=(), dtype=float32, numpy=-0.0212798>, <tf.Tensor: shape=(), dtype=float32, numpy=0.09059391>, <tf.Tensor: shape=(), dtype=float32, numpy=0.020483082>, <tf.Tensor: shape=(), dtype=float32, numpy=-0.015585389>, <tf.Tensor: shape=(), dtype=float32, numpy=0.025072811>, <tf.Tensor: shape=(), dtype=float32, numpy=-0.0032130284>, <tf.Tensor: shape=(), dtype=float32, numpy=0.033579648>, <tf.Tensor: shape=(), dtype=float32, numpy=0.005931086>, <tf.Tensor: shape=(), dtype=float32, numpy=-0.013999562>, <tf.Tensor: shape=(), dtype=float32, numpy=0.016798884>, <tf.Tensor: shape=(), dtype=float32, numpy=0.0147522725>, <tf.Tensor: shape=(), dtype=float32, numpy=0.003081357>, <tf.Tensor: shape=(), dtype=float32, numpy=-0.019008256>, <tf.Tensor: shape=(), dtype=float32, numpy=0.0064629754>, <tf.Tensor: shape=(), dtype=float32, numpy=-0.012653129>, <tf.Tensor: shape=(), dtype=float32, numpy=0.0036712494>, <tf.Tensor: shape=(), dtype=float32, numpy=0.066097364>, <tf.Tensor: shape=(), dtype=float32, numpy=0.02738228>, <tf.Tensor: shape=(), dtype=float32, numpy=-0.00049263425>, <tf.Tensor: shape=(), dtype=float32, numpy=-0.0039835805>, <tf.Tensor: shape=(), dtype=float32, numpy=-0.0037438478>, <tf.Tensor: shape=(), dtype=float32, numpy=0.024541274>, <tf.Tensor: shape=(), dtype=float32, numpy=-0.020396046>, <tf.Tensor: shape=(), dtype=float32, numpy=0.08885576>, <tf.Tensor: shape=(), dtype=float32, numpy=0.030463116>, <tf.Tensor: shape=(), dtype=float32, numpy=-0.014331756>, <tf.Tensor: shape=(), dtype=float32, numpy=0.06578492>, <tf.Tensor: shape=(), dtype=float32, numpy=0.07534545>, <tf.Tensor: shape=(), dtype=float32, numpy=0.0043960344>, <tf.Tensor: shape=(), dtype=float32, numpy=0.08709864>, <tf.Tensor: shape=(), dtype=float32, numpy=0.0012599416>, <tf.Tensor: shape=(), dtype=float32, numpy=-2.7220696e-05>, <tf.Tensor: shape=(), dtype=float32, numpy=0.018267563>, <tf.Tensor: shape=(), dtype=float32, numpy=0.0012043212>, <tf.Tensor: shape=(), dtype=float32, numpy=0.0743321>, <tf.Tensor: shape=(), dtype=float32, numpy=5.415082e-05>, <tf.Tensor: shape=(), dtype=float32, numpy=0.07165271>, <tf.Tensor: shape=(), dtype=float32, numpy=0.017616287>, <tf.Tensor: shape=(), dtype=float32, numpy=-0.00970177>, <tf.Tensor: shape=(), dtype=float32, numpy=-0.009840583>, <tf.Tensor: shape=(), dtype=float32, numpy=0.044894084>, <tf.Tensor: shape=(), dtype=float32, numpy=0.07371028>, <tf.Tensor: shape=(), dtype=float32, numpy=0.027527824>, <tf.Tensor: shape=(), dtype=float32, numpy=0.056706727>, <tf.Tensor: shape=(), dtype=float32, numpy=0.015979318>, <tf.Tensor: shape=(), dtype=float32, numpy=0.017449196>, <tf.Tensor: shape=(), dtype=float32, numpy=0.0015550517>, <tf.Tensor: shape=(), dtype=float32, numpy=0.07078209>, <tf.Tensor: shape=(), dtype=float32, numpy=-0.009949794>, <tf.Tensor: shape=(), dtype=float32, numpy=0.07111503>, <tf.Tensor: shape=(), dtype=float32, numpy=0.06688426>, <tf.Tensor: shape=(), dtype=float32, numpy=0.07179018>, <tf.Tensor: shape=(), dtype=float32, numpy=0.01656781>, <tf.Tensor: shape=(), dtype=float32, numpy=0.0099690715>, <tf.Tensor: shape=(), dtype=float32, numpy=-0.020617>, <tf.Tensor: shape=(), dtype=float32, numpy=0.0029774215>, <tf.Tensor: shape=(), dtype=float32, numpy=-0.020492388>, <tf.Tensor: shape=(), dtype=float32, numpy=0.004017949>, <tf.Tensor: shape=(), dtype=float32, numpy=0.02114258>, <tf.Tensor: shape=(), dtype=float32, numpy=-0.0030756705>, <tf.Tensor: shape=(), dtype=float32, numpy=0.06743968>, <tf.Tensor: shape=(), dtype=float32, numpy=0.009410314>, <tf.Tensor: shape=(), dtype=float32, numpy=0.0044626202>, <tf.Tensor: shape=(), dtype=float32, numpy=0.008134642>, <tf.Tensor: shape=(), dtype=float32, numpy=0.07866469>, <tf.Tensor: shape=(), dtype=float32, numpy=0.0091696065>, <tf.Tensor: shape=(), dtype=float32, numpy=0.0056451317>, <tf.Tensor: shape=(), dtype=float32, numpy=-0.0025407746>, <tf.Tensor: shape=(), dtype=float32, numpy=-0.0004367642>, <tf.Tensor: shape=(), dtype=float32, numpy=0.020396143>, <tf.Tensor: shape=(), dtype=float32, numpy=0.004039619>, <tf.Tensor: shape=(), dtype=float32, numpy=-0.0063720774>, <tf.Tensor: shape=(), dtype=float32, numpy=0.013166586>, <tf.Tensor: shape=(), dtype=float32, numpy=-0.017255306>, <tf.Tensor: shape=(), dtype=float32, numpy=0.03664659>, <tf.Tensor: shape=(), dtype=float32, numpy=0.0089465985>, <tf.Tensor: shape=(), dtype=float32, numpy=0.0029658144>, <tf.Tensor: shape=(), dtype=float32, numpy=2.194196e-05>, <tf.Tensor: shape=(), dtype=float32, numpy=0.0093905805>, <tf.Tensor: shape=(), dtype=float32, numpy=0.016414005>, <tf.Tensor: shape=(), dtype=float32, numpy=0.025315331>, <tf.Tensor: shape=(), dtype=float32, numpy=0.07036032>, <tf.Tensor: shape=(), dtype=float32, numpy=-0.00015430152>, <tf.Tensor: shape=(), dtype=float32, numpy=0.010156832>, <tf.Tensor: shape=(), dtype=float32, numpy=0.012560252>, <tf.Tensor: shape=(), dtype=float32, numpy=0.008540647>, <tf.Tensor: shape=(), dtype=float32, numpy=0.029693423>, <tf.Tensor: shape=(), dtype=float32, numpy=0.024494953>, <tf.Tensor: shape=(), dtype=float32, numpy=0.016078172>, <tf.Tensor: shape=(), dtype=float32, numpy=0.008260742>, <tf.Tensor: shape=(), dtype=float32, numpy=0.013539696>, <tf.Tensor: shape=(), dtype=float32, numpy=-0.000881277>, <tf.Tensor: shape=(), dtype=float32, numpy=0.059012666>, <tf.Tensor: shape=(), dtype=float32, numpy=0.0112514505>, <tf.Tensor: shape=(), dtype=float32, numpy=0.016222756>, <tf.Tensor: shape=(), dtype=float32, numpy=0.0730689>, <tf.Tensor: shape=(), dtype=float32, numpy=-0.0053868843>, <tf.Tensor: shape=(), dtype=float32, numpy=-0.002679808>, <tf.Tensor: shape=(), dtype=float32, numpy=0.010892339>, <tf.Tensor: shape=(), dtype=float32, numpy=-0.016523113>, <tf.Tensor: shape=(), dtype=float32, numpy=0.01673403>, <tf.Tensor: shape=(), dtype=float32, numpy=-0.011636777>, <tf.Tensor: shape=(), dtype=float32, numpy=0.0054214783>, <tf.Tensor: shape=(), dtype=float32, numpy=0.0163043>, <tf.Tensor: shape=(), dtype=float32, numpy=0.008100053>, <tf.Tensor: shape=(), dtype=float32, numpy=0.0009862371>, <tf.Tensor: shape=(), dtype=float32, numpy=0.010866592>, <tf.Tensor: shape=(), dtype=float32, numpy=-0.0008002706>, <tf.Tensor: shape=(), dtype=float32, numpy=0.016498838>, <tf.Tensor: shape=(), dtype=float32, numpy=-0.0073395>, <tf.Tensor: shape=(), dtype=float32, numpy=0.058301363>, <tf.Tensor: shape=(), dtype=float32, numpy=-0.004468307>], [<tf.Tensor: shape=(), dtype=float32, numpy=0.0044177044>, <tf.Tensor: shape=(), dtype=float32, numpy=-0.007494728>, <tf.Tensor: shape=(), dtype=float32, numpy=0.028949073>, <tf.Tensor: shape=(), dtype=float32, numpy=0.06937293>, <tf.Tensor: shape=(), dtype=float32, numpy=0.016025322>, <tf.Tensor: shape=(), dtype=float32, numpy=0.030890588>, <tf.Tensor: shape=(), dtype=float32, numpy=0.004129815>, <tf.Tensor: shape=(), dtype=float32, numpy=0.010530253>, <tf.Tensor: shape=(), dtype=float32, numpy=0.006371349>, <tf.Tensor: shape=(), dtype=float32, numpy=0.06643624>, <tf.Tensor: shape=(), dtype=float32, numpy=0.00017619692>, <tf.Tensor: shape=(), dtype=float32, numpy=0.022475347>, <tf.Tensor: shape=(), dtype=float32, numpy=0.07132031>, <tf.Tensor: shape=(), dtype=float32, numpy=0.0024954807>, <tf.Tensor: shape=(), dtype=float32, numpy=0.026345776>, <tf.Tensor: shape=(), dtype=float32, numpy=0.016175563>, <tf.Tensor: shape=(), dtype=float32, numpy=0.08921682>, <tf.Tensor: shape=(), dtype=float32, numpy=0.06268551>, <tf.Tensor: shape=(), dtype=float32, numpy=0.06766727>, <tf.Tensor: shape=(), dtype=float32, numpy=0.011316445>, <tf.Tensor: shape=(), dtype=float32, numpy=0.009635019>, <tf.Tensor: shape=(), dtype=float32, numpy=-0.0005627852>, <tf.Tensor: shape=(), dtype=float32, numpy=0.00950758>, <tf.Tensor: shape=(), dtype=float32, numpy=0.062717825>, <tf.Tensor: shape=(), dtype=float32, numpy=0.0020075478>, <tf.Tensor: shape=(), dtype=float32, numpy=0.07307809>, <tf.Tensor: shape=(), dtype=float32, numpy=0.026503779>, <tf.Tensor: shape=(), dtype=float32, numpy=0.04732358>, <tf.Tensor: shape=(), dtype=float32, numpy=0.06280643>, <tf.Tensor: shape=(), dtype=float32, numpy=-0.0049669147>, <tf.Tensor: shape=(), dtype=float32, numpy=0.017489098>, <tf.Tensor: shape=(), dtype=float32, numpy=0.024638403>, <tf.Tensor: shape=(), dtype=float32, numpy=-0.017468605>, <tf.Tensor: shape=(), dtype=float32, numpy=0.07684018>, <tf.Tensor: shape=(), dtype=float32, numpy=0.010373065>, <tf.Tensor: shape=(), dtype=float32, numpy=0.02254587>, <tf.Tensor: shape=(), dtype=float32, numpy=0.010603106>, <tf.Tensor: shape=(), dtype=float32, numpy=0.0014752783>, <tf.Tensor: shape=(), dtype=float32, numpy=0.05503495>, <tf.Tensor: shape=(), dtype=float32, numpy=0.0052241134>, <tf.Tensor: shape=(), dtype=float32, numpy=-0.0024458691>, <tf.Tensor: shape=(), dtype=float32, numpy=0.010925973>, <tf.Tensor: shape=(), dtype=float32, numpy=0.020874484>, <tf.Tensor: shape=(), dtype=float32, numpy=0.01981764>, <tf.Tensor: shape=(), dtype=float32, numpy=0.0024405438>, <tf.Tensor: shape=(), dtype=float32, numpy=0.02820469>, <tf.Tensor: shape=(), dtype=float32, numpy=0.07613632>, <tf.Tensor: shape=(), dtype=float32, numpy=0.015435871>, <tf.Tensor: shape=(), dtype=float32, numpy=-0.000663423>, <tf.Tensor: shape=(), dtype=float32, numpy=0.017717984>, <tf.Tensor: shape=(), dtype=float32, numpy=-0.015269039>, <tf.Tensor: shape=(), dtype=float32, numpy=-0.009625943>, <tf.Tensor: shape=(), dtype=float32, numpy=0.011638854>, <tf.Tensor: shape=(), dtype=float32, numpy=-0.00035555288>, <tf.Tensor: shape=(), dtype=float32, numpy=0.0107556265>, <tf.Tensor: shape=(), dtype=float32, numpy=0.027514908>, <tf.Tensor: shape=(), dtype=float32, numpy=0.04042889>, <tf.Tensor: shape=(), dtype=float32, numpy=-0.0031219888>, <tf.Tensor: shape=(), dtype=float32, numpy=-0.011686858>, <tf.Tensor: shape=(), dtype=float32, numpy=0.065078706>, <tf.Tensor: shape=(), dtype=float32, numpy=-0.0016212501>, <tf.Tensor: shape=(), dtype=float32, numpy=0.02867069>, <tf.Tensor: shape=(), dtype=float32, numpy=0.014664521>, <tf.Tensor: shape=(), dtype=float32, numpy=-0.005083075>, <tf.Tensor: shape=(), dtype=float32, numpy=0.006018659>, <tf.Tensor: shape=(), dtype=float32, numpy=-0.020329162>, <tf.Tensor: shape=(), dtype=float32, numpy=0.09277805>, <tf.Tensor: shape=(), dtype=float32, numpy=0.019289736>, <tf.Tensor: shape=(), dtype=float32, numpy=-0.008344155>, <tf.Tensor: shape=(), dtype=float32, numpy=0.02628841>, <tf.Tensor: shape=(), dtype=float32, numpy=-0.004105375>, <tf.Tensor: shape=(), dtype=float32, numpy=0.023205973>, <tf.Tensor: shape=(), dtype=float32, numpy=0.0060209474>, <tf.Tensor: shape=(), dtype=float32, numpy=-0.009671016>, <tf.Tensor: shape=(), dtype=float32, numpy=0.023906954>, <tf.Tensor: shape=(), dtype=float32, numpy=0.006028533>, <tf.Tensor: shape=(), dtype=float32, numpy=0.007861674>, <tf.Tensor: shape=(), dtype=float32, numpy=-0.0120375585>, <tf.Tensor: shape=(), dtype=float32, numpy=0.0060828878>, <tf.Tensor: shape=(), dtype=float32, numpy=-0.004115531>, <tf.Tensor: shape=(), dtype=float32, numpy=0.012966732>, <tf.Tensor: shape=(), dtype=float32, numpy=0.06628613>, <tf.Tensor: shape=(), dtype=float32, numpy=0.01773217>, <tf.Tensor: shape=(), dtype=float32, numpy=0.014107737>, <tf.Tensor: shape=(), dtype=float32, numpy=-0.0029190416>, <tf.Tensor: shape=(), dtype=float32, numpy=-0.001855582>, <tf.Tensor: shape=(), dtype=float32, numpy=0.024343818>, <tf.Tensor: shape=(), dtype=float32, numpy=-0.013715933>, <tf.Tensor: shape=(), dtype=float32, numpy=0.08857921>, <tf.Tensor: shape=(), dtype=float32, numpy=0.020309906>, <tf.Tensor: shape=(), dtype=float32, numpy=-0.010188559>, <tf.Tensor: shape=(), dtype=float32, numpy=0.06179329>, <tf.Tensor: shape=(), dtype=float32, numpy=0.07321693>, <tf.Tensor: shape=(), dtype=float32, numpy=0.0033688964>, <tf.Tensor: shape=(), dtype=float32, numpy=0.08397576>, <tf.Tensor: shape=(), dtype=float32, numpy=0.01061789>, <tf.Tensor: shape=(), dtype=float32, numpy=-0.0011750739>, <tf.Tensor: shape=(), dtype=float32, numpy=0.017352551>, <tf.Tensor: shape=(), dtype=float32, numpy=-0.0027347645>, <tf.Tensor: shape=(), dtype=float32, numpy=0.07164706>, <tf.Tensor: shape=(), dtype=float32, numpy=0.008950108>, <tf.Tensor: shape=(), dtype=float32, numpy=0.06922568>, <tf.Tensor: shape=(), dtype=float32, numpy=0.015031951>, <tf.Tensor: shape=(), dtype=float32, numpy=0.0020285416>, <tf.Tensor: shape=(), dtype=float32, numpy=-0.0074620517>, <tf.Tensor: shape=(), dtype=float32, numpy=0.044906598>, <tf.Tensor: shape=(), dtype=float32, numpy=0.07052089>, <tf.Tensor: shape=(), dtype=float32, numpy=0.020639056>, <tf.Tensor: shape=(), dtype=float32, numpy=0.05325514>, <tf.Tensor: shape=(), dtype=float32, numpy=0.009116314>, <tf.Tensor: shape=(), dtype=float32, numpy=0.0121688545>, <tf.Tensor: shape=(), dtype=float32, numpy=0.0026643248>, <tf.Tensor: shape=(), dtype=float32, numpy=0.066328704>, <tf.Tensor: shape=(), dtype=float32, numpy=0.0011306265>, <tf.Tensor: shape=(), dtype=float32, numpy=0.0662175>, <tf.Tensor: shape=(), dtype=float32, numpy=0.05592688>, <tf.Tensor: shape=(), dtype=float32, numpy=0.06560566>, <tf.Tensor: shape=(), dtype=float32, numpy=0.032706592>, <tf.Tensor: shape=(), dtype=float32, numpy=0.0067644417>, <tf.Tensor: shape=(), dtype=float32, numpy=-0.018221147>, <tf.Tensor: shape=(), dtype=float32, numpy=0.0187173>, <tf.Tensor: shape=(), dtype=float32, numpy=-0.018595736>, <tf.Tensor: shape=(), dtype=float32, numpy=0.013189958>, <tf.Tensor: shape=(), dtype=float32, numpy=0.016198114>, <tf.Tensor: shape=(), dtype=float32, numpy=0.008265465>, <tf.Tensor: shape=(), dtype=float32, numpy=0.06868759>, <tf.Tensor: shape=(), dtype=float32, numpy=0.0079347575>, <tf.Tensor: shape=(), dtype=float32, numpy=0.009294195>, <tf.Tensor: shape=(), dtype=float32, numpy=0.0053654127>, <tf.Tensor: shape=(), dtype=float32, numpy=0.06714244>, <tf.Tensor: shape=(), dtype=float32, numpy=0.0083816415>, <tf.Tensor: shape=(), dtype=float32, numpy=0.0057086227>, <tf.Tensor: shape=(), dtype=float32, numpy=0.005322691>, <tf.Tensor: shape=(), dtype=float32, numpy=0.009260675>, <tf.Tensor: shape=(), dtype=float32, numpy=0.024505042>, <tf.Tensor: shape=(), dtype=float32, numpy=0.0059874505>, <tf.Tensor: shape=(), dtype=float32, numpy=-0.0054716216>, <tf.Tensor: shape=(), dtype=float32, numpy=0.012080464>, <tf.Tensor: shape=(), dtype=float32, numpy=-0.0064868>, <tf.Tensor: shape=(), dtype=float32, numpy=0.025948595>, <tf.Tensor: shape=(), dtype=float32, numpy=0.0052001327>, <tf.Tensor: shape=(), dtype=float32, numpy=0.005270864>, <tf.Tensor: shape=(), dtype=float32, numpy=0.0030523315>, <tf.Tensor: shape=(), dtype=float32, numpy=0.0057903808>, <tf.Tensor: shape=(), dtype=float32, numpy=0.017246611>, <tf.Tensor: shape=(), dtype=float32, numpy=0.030764904>, <tf.Tensor: shape=(), dtype=float32, numpy=0.06473133>, <tf.Tensor: shape=(), dtype=float32, numpy=0.010898614>, <tf.Tensor: shape=(), dtype=float32, numpy=0.0071896827>, <tf.Tensor: shape=(), dtype=float32, numpy=0.010994604>, <tf.Tensor: shape=(), dtype=float32, numpy=0.00865983>, <tf.Tensor: shape=(), dtype=float32, numpy=0.018434763>, <tf.Tensor: shape=(), dtype=float32, numpy=0.02299257>, <tf.Tensor: shape=(), dtype=float32, numpy=0.021169497>, <tf.Tensor: shape=(), dtype=float32, numpy=0.007053528>, <tf.Tensor: shape=(), dtype=float32, numpy=0.02087852>, <tf.Tensor: shape=(), dtype=float32, numpy=0.0006774226>, <tf.Tensor: shape=(), dtype=float32, numpy=0.056819737>, <tf.Tensor: shape=(), dtype=float32, numpy=0.0055648107>, <tf.Tensor: shape=(), dtype=float32, numpy=0.011902731>, <tf.Tensor: shape=(), dtype=float32, numpy=0.06749022>, <tf.Tensor: shape=(), dtype=float32, numpy=-0.0024140235>, <tf.Tensor: shape=(), dtype=float32, numpy=-0.0039784284>, <tf.Tensor: shape=(), dtype=float32, numpy=0.011557348>, <tf.Tensor: shape=(), dtype=float32, numpy=-0.0079466775>, <tf.Tensor: shape=(), dtype=float32, numpy=0.010903229>, <tf.Tensor: shape=(), dtype=float32, numpy=-0.0011556302>, <tf.Tensor: shape=(), dtype=float32, numpy=0.0037809322>, <tf.Tensor: shape=(), dtype=float32, numpy=0.02269576>, <tf.Tensor: shape=(), dtype=float32, numpy=0.003182996>, <tf.Tensor: shape=(), dtype=float32, numpy=0.005605992>, <tf.Tensor: shape=(), dtype=float32, numpy=0.015800552>, <tf.Tensor: shape=(), dtype=float32, numpy=0.0047780797>, <tf.Tensor: shape=(), dtype=float32, numpy=0.009580234>, <tf.Tensor: shape=(), dtype=float32, numpy=-0.0032749902>, <tf.Tensor: shape=(), dtype=float32, numpy=0.054722115>, <tf.Tensor: shape=(), dtype=float32, numpy=-0.005141302>], [<tf.Tensor: shape=(), dtype=float32, numpy=0.0025541>, <tf.Tensor: shape=(), dtype=float32, numpy=-0.0008157985>, <tf.Tensor: shape=(), dtype=float32, numpy=0.014801194>, <tf.Tensor: shape=(), dtype=float32, numpy=0.060561333>, <tf.Tensor: shape=(), dtype=float32, numpy=0.021237161>, <tf.Tensor: shape=(), dtype=float32, numpy=0.02632627>, <tf.Tensor: shape=(), dtype=float32, numpy=0.012618855>, <tf.Tensor: shape=(), dtype=float32, numpy=0.0043900525>, <tf.Tensor: shape=(), dtype=float32, numpy=0.002309299>, <tf.Tensor: shape=(), dtype=float32, numpy=0.065311775>, <tf.Tensor: shape=(), dtype=float32, numpy=0.004457929>, <tf.Tensor: shape=(), dtype=float32, numpy=0.021860637>, <tf.Tensor: shape=(), dtype=float32, numpy=0.06396673>, <tf.Tensor: shape=(), dtype=float32, numpy=0.005687909>, <tf.Tensor: shape=(), dtype=float32, numpy=0.027692877>, <tf.Tensor: shape=(), dtype=float32, numpy=0.017465614>, <tf.Tensor: shape=(), dtype=float32, numpy=0.08189597>, <tf.Tensor: shape=(), dtype=float32, numpy=0.049496293>, <tf.Tensor: shape=(), dtype=float32, numpy=0.058976185>, <tf.Tensor: shape=(), dtype=float32, numpy=0.011023831>, <tf.Tensor: shape=(), dtype=float32, numpy=0.006370794>, <tf.Tensor: shape=(), dtype=float32, numpy=-0.007287009>, <tf.Tensor: shape=(), dtype=float32, numpy=0.00876894>, <tf.Tensor: shape=(), dtype=float32, numpy=0.065492146>, <tf.Tensor: shape=(), dtype=float32, numpy=0.0030730674>, <tf.Tensor: shape=(), dtype=float32, numpy=0.072753936>, <tf.Tensor: shape=(), dtype=float32, numpy=0.021191165>, <tf.Tensor: shape=(), dtype=float32, numpy=0.051373307>, <tf.Tensor: shape=(), dtype=float32, numpy=0.056975007>, <tf.Tensor: shape=(), dtype=float32, numpy=-0.007275399>, <tf.Tensor: shape=(), dtype=float32, numpy=0.029036902>, <tf.Tensor: shape=(), dtype=float32, numpy=0.01861368>, <tf.Tensor: shape=(), dtype=float32, numpy=-0.019062601>, <tf.Tensor: shape=(), dtype=float32, numpy=0.07223457>, <tf.Tensor: shape=(), dtype=float32, numpy=0.011180118>, <tf.Tensor: shape=(), dtype=float32, numpy=0.024661178>, <tf.Tensor: shape=(), dtype=float32, numpy=0.010153579>, <tf.Tensor: shape=(), dtype=float32, numpy=0.003683351>, <tf.Tensor: shape=(), dtype=float32, numpy=0.03580694>, <tf.Tensor: shape=(), dtype=float32, numpy=0.0047949227>, <tf.Tensor: shape=(), dtype=float32, numpy=-0.00016469881>, <tf.Tensor: shape=(), dtype=float32, numpy=0.011268113>, <tf.Tensor: shape=(), dtype=float32, numpy=0.023019694>, <tf.Tensor: shape=(), dtype=float32, numpy=0.021440387>, <tf.Tensor: shape=(), dtype=float32, numpy=0.00066016056>, <tf.Tensor: shape=(), dtype=float32, numpy=0.04120314>, <tf.Tensor: shape=(), dtype=float32, numpy=0.074167155>, <tf.Tensor: shape=(), dtype=float32, numpy=0.015329866>, <tf.Tensor: shape=(), dtype=float32, numpy=0.012179816>, <tf.Tensor: shape=(), dtype=float32, numpy=0.018582705>, <tf.Tensor: shape=(), dtype=float32, numpy=-0.0059787566>, <tf.Tensor: shape=(), dtype=float32, numpy=-0.0024585025>, <tf.Tensor: shape=(), dtype=float32, numpy=0.013799893>, <tf.Tensor: shape=(), dtype=float32, numpy=0.000981817>, <tf.Tensor: shape=(), dtype=float32, numpy=0.0106874965>, <tf.Tensor: shape=(), dtype=float32, numpy=0.021834897>, <tf.Tensor: shape=(), dtype=float32, numpy=0.038857527>, <tf.Tensor: shape=(), dtype=float32, numpy=0.00010071881>, <tf.Tensor: shape=(), dtype=float32, numpy=-0.009975121>, <tf.Tensor: shape=(), dtype=float32, numpy=0.06276283>, <tf.Tensor: shape=(), dtype=float32, numpy=0.0067196805>, <tf.Tensor: shape=(), dtype=float32, numpy=0.021802392>, <tf.Tensor: shape=(), dtype=float32, numpy=0.017377304>, <tf.Tensor: shape=(), dtype=float32, numpy=-0.0018354505>, <tf.Tensor: shape=(), dtype=float32, numpy=0.007048873>, <tf.Tensor: shape=(), dtype=float32, numpy=-0.018230263>, <tf.Tensor: shape=(), dtype=float32, numpy=0.08806853>, <tf.Tensor: shape=(), dtype=float32, numpy=0.021004219>, <tf.Tensor: shape=(), dtype=float32, numpy=-0.0037896195>, <tf.Tensor: shape=(), dtype=float32, numpy=0.031207941>, <tf.Tensor: shape=(), dtype=float32, numpy=-0.003499873>, <tf.Tensor: shape=(), dtype=float32, numpy=0.014026772>, <tf.Tensor: shape=(), dtype=float32, numpy=0.0042173704>, <tf.Tensor: shape=(), dtype=float32, numpy=-0.007220446>, <tf.Tensor: shape=(), dtype=float32, numpy=0.02684532>, <tf.Tensor: shape=(), dtype=float32, numpy=0.0036264332>, <tf.Tensor: shape=(), dtype=float32, numpy=0.0064462414>, <tf.Tensor: shape=(), dtype=float32, numpy=-0.009898762>, <tf.Tensor: shape=(), dtype=float32, numpy=0.0052626403>, <tf.Tensor: shape=(), dtype=float32, numpy=-0.004246165>, <tf.Tensor: shape=(), dtype=float32, numpy=0.013353744>, <tf.Tensor: shape=(), dtype=float32, numpy=0.06530567>, <tf.Tensor: shape=(), dtype=float32, numpy=0.014488001>, <tf.Tensor: shape=(), dtype=float32, numpy=0.011364958>, <tf.Tensor: shape=(), dtype=float32, numpy=-0.00176204>, <tf.Tensor: shape=(), dtype=float32, numpy=-0.0017905505>, <tf.Tensor: shape=(), dtype=float32, numpy=0.024077712>, <tf.Tensor: shape=(), dtype=float32, numpy=-0.011111926>, <tf.Tensor: shape=(), dtype=float32, numpy=0.07879757>, <tf.Tensor: shape=(), dtype=float32, numpy=0.017933715>, <tf.Tensor: shape=(), dtype=float32, numpy=-0.007522233>, <tf.Tensor: shape=(), dtype=float32, numpy=0.04358701>, <tf.Tensor: shape=(), dtype=float32, numpy=0.073070884>, <tf.Tensor: shape=(), dtype=float32, numpy=0.004281219>, <tf.Tensor: shape=(), dtype=float32, numpy=0.07160182>, <tf.Tensor: shape=(), dtype=float32, numpy=0.0048205266>, <tf.Tensor: shape=(), dtype=float32, numpy=-0.0065966267>, <tf.Tensor: shape=(), dtype=float32, numpy=0.014499038>, <tf.Tensor: shape=(), dtype=float32, numpy=3.4747645e-05>, <tf.Tensor: shape=(), dtype=float32, numpy=0.07012345>, <tf.Tensor: shape=(), dtype=float32, numpy=0.0059520826>, <tf.Tensor: shape=(), dtype=float32, numpy=0.0624535>, <tf.Tensor: shape=(), dtype=float32, numpy=0.013689765>, <tf.Tensor: shape=(), dtype=float32, numpy=0.006088764>, <tf.Tensor: shape=(), dtype=float32, numpy=-0.00587424>, <tf.Tensor: shape=(), dtype=float32, numpy=0.046298876>, <tf.Tensor: shape=(), dtype=float32, numpy=0.0628372>, <tf.Tensor: shape=(), dtype=float32, numpy=0.015337317>, <tf.Tensor: shape=(), dtype=float32, numpy=0.051838312>, <tf.Tensor: shape=(), dtype=float32, numpy=0.0042529386>, <tf.Tensor: shape=(), dtype=float32, numpy=0.009602148>, <tf.Tensor: shape=(), dtype=float32, numpy=-0.00588373>, <tf.Tensor: shape=(), dtype=float32, numpy=0.06903605>, <tf.Tensor: shape=(), dtype=float32, numpy=-0.0024692905>, <tf.Tensor: shape=(), dtype=float32, numpy=0.069278896>, <tf.Tensor: shape=(), dtype=float32, numpy=0.05414138>, <tf.Tensor: shape=(), dtype=float32, numpy=0.06494959>, <tf.Tensor: shape=(), dtype=float32, numpy=0.03528123>, <tf.Tensor: shape=(), dtype=float32, numpy=0.00637985>, <tf.Tensor: shape=(), dtype=float32, numpy=-0.019038241>, <tf.Tensor: shape=(), dtype=float32, numpy=0.017251983>, <tf.Tensor: shape=(), dtype=float32, numpy=-0.019367503>, <tf.Tensor: shape=(), dtype=float32, numpy=0.014321603>, <tf.Tensor: shape=(), dtype=float32, numpy=0.01838277>, <tf.Tensor: shape=(), dtype=float32, numpy=0.0036044903>, <tf.Tensor: shape=(), dtype=float32, numpy=0.06818666>, <tf.Tensor: shape=(), dtype=float32, numpy=0.006940703>, <tf.Tensor: shape=(), dtype=float32, numpy=0.006561201>, <tf.Tensor: shape=(), dtype=float32, numpy=0.0046934066>, <tf.Tensor: shape=(), dtype=float32, numpy=0.046994515>, <tf.Tensor: shape=(), dtype=float32, numpy=0.01069715>, <tf.Tensor: shape=(), dtype=float32, numpy=0.007585628>, <tf.Tensor: shape=(), dtype=float32, numpy=0.0059314743>, <tf.Tensor: shape=(), dtype=float32, numpy=0.010801808>, <tf.Tensor: shape=(), dtype=float32, numpy=0.02587086>, <tf.Tensor: shape=(), dtype=float32, numpy=0.006603079>, <tf.Tensor: shape=(), dtype=float32, numpy=-0.00656489>, <tf.Tensor: shape=(), dtype=float32, numpy=0.014160419>, <tf.Tensor: shape=(), dtype=float32, numpy=-0.0052345665>, <tf.Tensor: shape=(), dtype=float32, numpy=0.025011003>, <tf.Tensor: shape=(), dtype=float32, numpy=0.0058404915>, <tf.Tensor: shape=(), dtype=float32, numpy=0.0056258785>, <tf.Tensor: shape=(), dtype=float32, numpy=0.0045015113>, <tf.Tensor: shape=(), dtype=float32, numpy=0.0062412554>, <tf.Tensor: shape=(), dtype=float32, numpy=0.014336888>, <tf.Tensor: shape=(), dtype=float32, numpy=0.025251735>, <tf.Tensor: shape=(), dtype=float32, numpy=0.056948222>, <tf.Tensor: shape=(), dtype=float32, numpy=0.014169551>, <tf.Tensor: shape=(), dtype=float32, numpy=0.0063718846>, <tf.Tensor: shape=(), dtype=float32, numpy=0.012712743>, <tf.Tensor: shape=(), dtype=float32, numpy=0.008454816>, <tf.Tensor: shape=(), dtype=float32, numpy=0.016754018>, <tf.Tensor: shape=(), dtype=float32, numpy=0.026900496>, <tf.Tensor: shape=(), dtype=float32, numpy=0.019584581>, <tf.Tensor: shape=(), dtype=float32, numpy=0.0051514134>, <tf.Tensor: shape=(), dtype=float32, numpy=0.019016773>, <tf.Tensor: shape=(), dtype=float32, numpy=0.0018028859>, <tf.Tensor: shape=(), dtype=float32, numpy=0.05328732>, <tf.Tensor: shape=(), dtype=float32, numpy=0.0047068056>, <tf.Tensor: shape=(), dtype=float32, numpy=0.015288248>, <tf.Tensor: shape=(), dtype=float32, numpy=0.06847967>, <tf.Tensor: shape=(), dtype=float32, numpy=-0.0023238081>, <tf.Tensor: shape=(), dtype=float32, numpy=-0.0061395336>, <tf.Tensor: shape=(), dtype=float32, numpy=0.009956207>, <tf.Tensor: shape=(), dtype=float32, numpy=-0.006546517>, <tf.Tensor: shape=(), dtype=float32, numpy=0.0094274655>, <tf.Tensor: shape=(), dtype=float32, numpy=-0.0018773363>, <tf.Tensor: shape=(), dtype=float32, numpy=0.0040940447>, <tf.Tensor: shape=(), dtype=float32, numpy=0.020435337>, <tf.Tensor: shape=(), dtype=float32, numpy=0.0032504536>, <tf.Tensor: shape=(), dtype=float32, numpy=0.0049525443>, <tf.Tensor: shape=(), dtype=float32, numpy=0.013538108>, <tf.Tensor: shape=(), dtype=float32, numpy=0.0044085234>, <tf.Tensor: shape=(), dtype=float32, numpy=0.010566848>, <tf.Tensor: shape=(), dtype=float32, numpy=-0.0065092286>, <tf.Tensor: shape=(), dtype=float32, numpy=0.059792396>, <tf.Tensor: shape=(), dtype=float32, numpy=-0.006789148>], [<tf.Tensor: shape=(), dtype=float32, numpy=0.0017229514>, <tf.Tensor: shape=(), dtype=float32, numpy=-0.0030504744>, <tf.Tensor: shape=(), dtype=float32, numpy=0.012026243>, <tf.Tensor: shape=(), dtype=float32, numpy=0.054568697>, <tf.Tensor: shape=(), dtype=float32, numpy=0.022405919>, <tf.Tensor: shape=(), dtype=float32, numpy=0.022650056>, <tf.Tensor: shape=(), dtype=float32, numpy=0.01380994>, <tf.Tensor: shape=(), dtype=float32, numpy=0.0032897927>, <tf.Tensor: shape=(), dtype=float32, numpy=-0.004733325>, <tf.Tensor: shape=(), dtype=float32, numpy=0.06482729>, <tf.Tensor: shape=(), dtype=float32, numpy=0.004674292>, <tf.Tensor: shape=(), dtype=float32, numpy=0.018358264>, <tf.Tensor: shape=(), dtype=float32, numpy=0.059747186>, <tf.Tensor: shape=(), dtype=float32, numpy=0.006568387>, <tf.Tensor: shape=(), dtype=float32, numpy=0.025544446>, <tf.Tensor: shape=(), dtype=float32, numpy=0.013185653>, <tf.Tensor: shape=(), dtype=float32, numpy=0.07595066>, <tf.Tensor: shape=(), dtype=float32, numpy=0.036722694>, <tf.Tensor: shape=(), dtype=float32, numpy=0.053659648>, <tf.Tensor: shape=(), dtype=float32, numpy=0.009799898>, <tf.Tensor: shape=(), dtype=float32, numpy=0.0047774427>, <tf.Tensor: shape=(), dtype=float32, numpy=-0.0075710593>, <tf.Tensor: shape=(), dtype=float32, numpy=0.0049603004>, <tf.Tensor: shape=(), dtype=float32, numpy=0.07753495>, <tf.Tensor: shape=(), dtype=float32, numpy=0.004966421>, <tf.Tensor: shape=(), dtype=float32, numpy=0.0716444>, <tf.Tensor: shape=(), dtype=float32, numpy=0.018482398>, <tf.Tensor: shape=(), dtype=float32, numpy=0.05281585>, <tf.Tensor: shape=(), dtype=float32, numpy=0.056928672>, <tf.Tensor: shape=(), dtype=float32, numpy=-0.0043047145>, <tf.Tensor: shape=(), dtype=float32, numpy=0.031835288>, <tf.Tensor: shape=(), dtype=float32, numpy=0.018430218>, <tf.Tensor: shape=(), dtype=float32, numpy=-0.017955696>, <tf.Tensor: shape=(), dtype=float32, numpy=0.06896283>, <tf.Tensor: shape=(), dtype=float32, numpy=0.012746609>, <tf.Tensor: shape=(), dtype=float32, numpy=0.0266087>, <tf.Tensor: shape=(), dtype=float32, numpy=0.01309903>, <tf.Tensor: shape=(), dtype=float32, numpy=0.004482081>, <tf.Tensor: shape=(), dtype=float32, numpy=0.030457>, <tf.Tensor: shape=(), dtype=float32, numpy=0.0043947725>, <tf.Tensor: shape=(), dtype=float32, numpy=-0.0009931242>, <tf.Tensor: shape=(), dtype=float32, numpy=0.010512847>, <tf.Tensor: shape=(), dtype=float32, numpy=0.021011006>, <tf.Tensor: shape=(), dtype=float32, numpy=0.022450157>, <tf.Tensor: shape=(), dtype=float32, numpy=0.00622923>, <tf.Tensor: shape=(), dtype=float32, numpy=0.026916962>, <tf.Tensor: shape=(), dtype=float32, numpy=0.0701706>, <tf.Tensor: shape=(), dtype=float32, numpy=0.015765944>, <tf.Tensor: shape=(), dtype=float32, numpy=0.009774436>, <tf.Tensor: shape=(), dtype=float32, numpy=0.01822846>, <tf.Tensor: shape=(), dtype=float32, numpy=-0.006346443>, <tf.Tensor: shape=(), dtype=float32, numpy=-0.006525102>, <tf.Tensor: shape=(), dtype=float32, numpy=0.012648452>, <tf.Tensor: shape=(), dtype=float32, numpy=-0.00067232177>, <tf.Tensor: shape=(), dtype=float32, numpy=0.010872306>, <tf.Tensor: shape=(), dtype=float32, numpy=0.027700368>, <tf.Tensor: shape=(), dtype=float32, numpy=0.03741648>, <tf.Tensor: shape=(), dtype=float32, numpy=-0.004690742>, <tf.Tensor: shape=(), dtype=float32, numpy=-0.004250841>, <tf.Tensor: shape=(), dtype=float32, numpy=0.06076059>, <tf.Tensor: shape=(), dtype=float32, numpy=-0.003122773>, <tf.Tensor: shape=(), dtype=float32, numpy=0.03714962>, <tf.Tensor: shape=(), dtype=float32, numpy=0.011667112>, <tf.Tensor: shape=(), dtype=float32, numpy=-0.0074654752>, <tf.Tensor: shape=(), dtype=float32, numpy=0.0136539955>, <tf.Tensor: shape=(), dtype=float32, numpy=-0.018440407>, <tf.Tensor: shape=(), dtype=float32, numpy=0.079718836>, <tf.Tensor: shape=(), dtype=float32, numpy=0.028715536>, <tf.Tensor: shape=(), dtype=float32, numpy=0.0011446485>, <tf.Tensor: shape=(), dtype=float32, numpy=0.03739413>, <tf.Tensor: shape=(), dtype=float32, numpy=0.00014336687>, <tf.Tensor: shape=(), dtype=float32, numpy=0.027428918>, <tf.Tensor: shape=(), dtype=float32, numpy=0.0031493837>, <tf.Tensor: shape=(), dtype=float32, numpy=-0.006832779>, <tf.Tensor: shape=(), dtype=float32, numpy=0.019023832>, <tf.Tensor: shape=(), dtype=float32, numpy=0.00823269>, <tf.Tensor: shape=(), dtype=float32, numpy=0.0015924536>, <tf.Tensor: shape=(), dtype=float32, numpy=-0.011568287>, <tf.Tensor: shape=(), dtype=float32, numpy=0.0037286123>, <tf.Tensor: shape=(), dtype=float32, numpy=-0.0029649278>, <tf.Tensor: shape=(), dtype=float32, numpy=0.01222092>, <tf.Tensor: shape=(), dtype=float32, numpy=0.063561946>, <tf.Tensor: shape=(), dtype=float32, numpy=0.011835927>, <tf.Tensor: shape=(), dtype=float32, numpy=0.01729272>, <tf.Tensor: shape=(), dtype=float32, numpy=-0.0021291971>, <tf.Tensor: shape=(), dtype=float32, numpy=-0.0006286958>, <tf.Tensor: shape=(), dtype=float32, numpy=0.021008208>, <tf.Tensor: shape=(), dtype=float32, numpy=-0.0096523985>, <tf.Tensor: shape=(), dtype=float32, numpy=0.07171621>, <tf.Tensor: shape=(), dtype=float32, numpy=0.0070878007>, <tf.Tensor: shape=(), dtype=float32, numpy=-0.0062681893>, <tf.Tensor: shape=(), dtype=float32, numpy=0.034758985>, <tf.Tensor: shape=(), dtype=float32, numpy=0.07172158>, <tf.Tensor: shape=(), dtype=float32, numpy=-0.008524744>, <tf.Tensor: shape=(), dtype=float32, numpy=0.06475314>, <tf.Tensor: shape=(), dtype=float32, numpy=0.027202792>, <tf.Tensor: shape=(), dtype=float32, numpy=-0.0019905139>, <tf.Tensor: shape=(), dtype=float32, numpy=0.015936105>, <tf.Tensor: shape=(), dtype=float32, numpy=-0.0043331906>, <tf.Tensor: shape=(), dtype=float32, numpy=0.07088609>, <tf.Tensor: shape=(), dtype=float32, numpy=0.0077927033>, <tf.Tensor: shape=(), dtype=float32, numpy=0.060987465>, <tf.Tensor: shape=(), dtype=float32, numpy=0.017975375>, <tf.Tensor: shape=(), dtype=float32, numpy=0.009549655>, <tf.Tensor: shape=(), dtype=float32, numpy=-0.0069910856>, <tf.Tensor: shape=(), dtype=float32, numpy=0.05271084>, <tf.Tensor: shape=(), dtype=float32, numpy=0.06255693>, <tf.Tensor: shape=(), dtype=float32, numpy=0.01918878>, <tf.Tensor: shape=(), dtype=float32, numpy=0.054362092>, <tf.Tensor: shape=(), dtype=float32, numpy=0.00877033>, <tf.Tensor: shape=(), dtype=float32, numpy=0.007208539>, <tf.Tensor: shape=(), dtype=float32, numpy=0.0018183645>, <tf.Tensor: shape=(), dtype=float32, numpy=0.0545618>, <tf.Tensor: shape=(), dtype=float32, numpy=0.0008348534>, <tf.Tensor: shape=(), dtype=float32, numpy=0.056166023>, <tf.Tensor: shape=(), dtype=float32, numpy=0.05367079>, <tf.Tensor: shape=(), dtype=float32, numpy=0.065079205>, <tf.Tensor: shape=(), dtype=float32, numpy=0.034448605>, <tf.Tensor: shape=(), dtype=float32, numpy=0.00852358>, <tf.Tensor: shape=(), dtype=float32, numpy=-0.012607826>, <tf.Tensor: shape=(), dtype=float32, numpy=0.018724062>, <tf.Tensor: shape=(), dtype=float32, numpy=-0.012773788>, <tf.Tensor: shape=(), dtype=float32, numpy=0.015670154>, <tf.Tensor: shape=(), dtype=float32, numpy=0.017463073>, <tf.Tensor: shape=(), dtype=float32, numpy=0.009646315>, <tf.Tensor: shape=(), dtype=float32, numpy=0.068897575>, <tf.Tensor: shape=(), dtype=float32, numpy=0.0020917803>, <tf.Tensor: shape=(), dtype=float32, numpy=0.008113008>, <tf.Tensor: shape=(), dtype=float32, numpy=0.004631441>, <tf.Tensor: shape=(), dtype=float32, numpy=0.040938355>, <tf.Tensor: shape=(), dtype=float32, numpy=0.011413832>, <tf.Tensor: shape=(), dtype=float32, numpy=0.0077430336>, <tf.Tensor: shape=(), dtype=float32, numpy=0.0065537654>, <tf.Tensor: shape=(), dtype=float32, numpy=0.009887006>, <tf.Tensor: shape=(), dtype=float32, numpy=0.027119558>, <tf.Tensor: shape=(), dtype=float32, numpy=0.0051155034>, <tf.Tensor: shape=(), dtype=float32, numpy=-0.004492904>, <tf.Tensor: shape=(), dtype=float32, numpy=0.0052806037>, <tf.Tensor: shape=(), dtype=float32, numpy=-0.005720531>, <tf.Tensor: shape=(), dtype=float32, numpy=0.022254087>, <tf.Tensor: shape=(), dtype=float32, numpy=0.0054371674>, <tf.Tensor: shape=(), dtype=float32, numpy=0.005711687>, <tf.Tensor: shape=(), dtype=float32, numpy=0.006665227>, <tf.Tensor: shape=(), dtype=float32, numpy=0.005853506>, <tf.Tensor: shape=(), dtype=float32, numpy=0.012712477>, <tf.Tensor: shape=(), dtype=float32, numpy=0.025237214>, <tf.Tensor: shape=(), dtype=float32, numpy=0.055700347>, <tf.Tensor: shape=(), dtype=float32, numpy=0.014672602>, <tf.Tensor: shape=(), dtype=float32, numpy=0.006085043>, <tf.Tensor: shape=(), dtype=float32, numpy=0.015499559>, <tf.Tensor: shape=(), dtype=float32, numpy=0.008466607>, <tf.Tensor: shape=(), dtype=float32, numpy=0.0171884>, <tf.Tensor: shape=(), dtype=float32, numpy=0.025307845>, <tf.Tensor: shape=(), dtype=float32, numpy=0.020224199>, <tf.Tensor: shape=(), dtype=float32, numpy=0.001958564>, <tf.Tensor: shape=(), dtype=float32, numpy=0.021054516>, <tf.Tensor: shape=(), dtype=float32, numpy=0.0019538496>, <tf.Tensor: shape=(), dtype=float32, numpy=0.053461295>, <tf.Tensor: shape=(), dtype=float32, numpy=0.0061219353>, <tf.Tensor: shape=(), dtype=float32, numpy=0.01793155>, <tf.Tensor: shape=(), dtype=float32, numpy=0.069586895>, <tf.Tensor: shape=(), dtype=float32, numpy=-0.0011292724>, <tf.Tensor: shape=(), dtype=float32, numpy=-0.0060931863>, <tf.Tensor: shape=(), dtype=float32, numpy=0.011267474>, <tf.Tensor: shape=(), dtype=float32, numpy=-0.00680674>, <tf.Tensor: shape=(), dtype=float32, numpy=0.007776376>, <tf.Tensor: shape=(), dtype=float32, numpy=-0.0012305002>, <tf.Tensor: shape=(), dtype=float32, numpy=0.004156178>, <tf.Tensor: shape=(), dtype=float32, numpy=0.021611264>, <tf.Tensor: shape=(), dtype=float32, numpy=0.0009644367>, <tf.Tensor: shape=(), dtype=float32, numpy=0.005586153>, <tf.Tensor: shape=(), dtype=float32, numpy=0.012299474>, <tf.Tensor: shape=(), dtype=float32, numpy=0.0025032386>, <tf.Tensor: shape=(), dtype=float32, numpy=0.008547408>, <tf.Tensor: shape=(), dtype=float32, numpy=-0.0071379356>, <tf.Tensor: shape=(), dtype=float32, numpy=0.06234144>, <tf.Tensor: shape=(), dtype=float32, numpy=-0.0066913664>], [<tf.Tensor: shape=(), dtype=float32, numpy=0.0021282826>, <tf.Tensor: shape=(), dtype=float32, numpy=-0.0047926987>, <tf.Tensor: shape=(), dtype=float32, numpy=0.013548408>, <tf.Tensor: shape=(), dtype=float32, numpy=0.0538993>, <tf.Tensor: shape=(), dtype=float32, numpy=0.020961719>, <tf.Tensor: shape=(), dtype=float32, numpy=0.024907615>, <tf.Tensor: shape=(), dtype=float32, numpy=0.012701413>, <tf.Tensor: shape=(), dtype=float32, numpy=0.003029855>, <tf.Tensor: shape=(), dtype=float32, numpy=-0.0038436144>, <tf.Tensor: shape=(), dtype=float32, numpy=0.0638582>, <tf.Tensor: shape=(), dtype=float32, numpy=0.0037867203>, <tf.Tensor: shape=(), dtype=float32, numpy=0.016432796>, <tf.Tensor: shape=(), dtype=float32, numpy=0.058097325>, <tf.Tensor: shape=(), dtype=float32, numpy=0.007452837>, <tf.Tensor: shape=(), dtype=float32, numpy=0.027383547>, <tf.Tensor: shape=(), dtype=float32, numpy=0.011885144>, <tf.Tensor: shape=(), dtype=float32, numpy=0.0776105>, <tf.Tensor: shape=(), dtype=float32, numpy=0.032518327>, <tf.Tensor: shape=(), dtype=float32, numpy=0.051859558>, <tf.Tensor: shape=(), dtype=float32, numpy=0.00947093>, <tf.Tensor: shape=(), dtype=float32, numpy=0.005900452>, <tf.Tensor: shape=(), dtype=float32, numpy=-0.005926822>, <tf.Tensor: shape=(), dtype=float32, numpy=0.0056770574>, <tf.Tensor: shape=(), dtype=float32, numpy=0.07355817>, <tf.Tensor: shape=(), dtype=float32, numpy=0.0054519493>, <tf.Tensor: shape=(), dtype=float32, numpy=0.069571786>, <tf.Tensor: shape=(), dtype=float32, numpy=0.021560226>, <tf.Tensor: shape=(), dtype=float32, numpy=0.04767307>, <tf.Tensor: shape=(), dtype=float32, numpy=0.05546239>, <tf.Tensor: shape=(), dtype=float32, numpy=-0.006899128>, <tf.Tensor: shape=(), dtype=float32, numpy=0.031787686>, <tf.Tensor: shape=(), dtype=float32, numpy=0.01902232>, <tf.Tensor: shape=(), dtype=float32, numpy=-0.016703283>, <tf.Tensor: shape=(), dtype=float32, numpy=0.06947423>, <tf.Tensor: shape=(), dtype=float32, numpy=0.009128508>, <tf.Tensor: shape=(), dtype=float32, numpy=0.02559413>, <tf.Tensor: shape=(), dtype=float32, numpy=0.008988412>, <tf.Tensor: shape=(), dtype=float32, numpy=0.0030495264>, <tf.Tensor: shape=(), dtype=float32, numpy=0.02132825>, <tf.Tensor: shape=(), dtype=float32, numpy=0.004720955>, <tf.Tensor: shape=(), dtype=float32, numpy=-0.0022835964>, <tf.Tensor: shape=(), dtype=float32, numpy=0.008855991>, <tf.Tensor: shape=(), dtype=float32, numpy=0.017777622>, <tf.Tensor: shape=(), dtype=float32, numpy=0.022910729>, <tf.Tensor: shape=(), dtype=float32, numpy=0.006481099>, <tf.Tensor: shape=(), dtype=float32, numpy=0.028651267>, <tf.Tensor: shape=(), dtype=float32, numpy=0.07343639>, <tf.Tensor: shape=(), dtype=float32, numpy=0.015495771>, <tf.Tensor: shape=(), dtype=float32, numpy=0.012234544>, <tf.Tensor: shape=(), dtype=float32, numpy=0.017162561>, <tf.Tensor: shape=(), dtype=float32, numpy=-0.0059789843>, <tf.Tensor: shape=(), dtype=float32, numpy=0.0025414433>, <tf.Tensor: shape=(), dtype=float32, numpy=0.0037378743>, <tf.Tensor: shape=(), dtype=float32, numpy=0.0042525884>, <tf.Tensor: shape=(), dtype=float32, numpy=0.009660002>, <tf.Tensor: shape=(), dtype=float32, numpy=0.021620087>, <tf.Tensor: shape=(), dtype=float32, numpy=0.042747844>, <tf.Tensor: shape=(), dtype=float32, numpy=-0.004756512>, <tf.Tensor: shape=(), dtype=float32, numpy=-0.00092299096>, <tf.Tensor: shape=(), dtype=float32, numpy=0.060306676>, <tf.Tensor: shape=(), dtype=float32, numpy=-0.00031891465>, <tf.Tensor: shape=(), dtype=float32, numpy=0.026479874>, <tf.Tensor: shape=(), dtype=float32, numpy=0.0129149165>, <tf.Tensor: shape=(), dtype=float32, numpy=-0.0047514914>, <tf.Tensor: shape=(), dtype=float32, numpy=0.011181179>, <tf.Tensor: shape=(), dtype=float32, numpy=-0.014914563>, <tf.Tensor: shape=(), dtype=float32, numpy=0.07957463>, <tf.Tensor: shape=(), dtype=float32, numpy=0.016414598>, <tf.Tensor: shape=(), dtype=float32, numpy=0.0011695651>, <tf.Tensor: shape=(), dtype=float32, numpy=0.034646336>, <tf.Tensor: shape=(), dtype=float32, numpy=-0.0003853785>, <tf.Tensor: shape=(), dtype=float32, numpy=0.01763583>, <tf.Tensor: shape=(), dtype=float32, numpy=0.0024980204>, <tf.Tensor: shape=(), dtype=float32, numpy=-0.0054419492>, <tf.Tensor: shape=(), dtype=float32, numpy=0.016990587>, <tf.Tensor: shape=(), dtype=float32, numpy=0.0042249095>, <tf.Tensor: shape=(), dtype=float32, numpy=0.004826599>, <tf.Tensor: shape=(), dtype=float32, numpy=-0.008751841>, <tf.Tensor: shape=(), dtype=float32, numpy=0.0028620316>, <tf.Tensor: shape=(), dtype=float32, numpy=0.0012592352>, <tf.Tensor: shape=(), dtype=float32, numpy=0.012731366>, <tf.Tensor: shape=(), dtype=float32, numpy=0.06199932>, <tf.Tensor: shape=(), dtype=float32, numpy=0.014063777>, <tf.Tensor: shape=(), dtype=float32, numpy=0.010103547>, <tf.Tensor: shape=(), dtype=float32, numpy=-0.00081578735>, <tf.Tensor: shape=(), dtype=float32, numpy=-0.0004542712>, <tf.Tensor: shape=(), dtype=float32, numpy=0.022304129>, <tf.Tensor: shape=(), dtype=float32, numpy=-0.0062559205>, <tf.Tensor: shape=(), dtype=float32, numpy=0.06612106>, <tf.Tensor: shape=(), dtype=float32, numpy=0.010034369>, <tf.Tensor: shape=(), dtype=float32, numpy=-0.0052696355>, <tf.Tensor: shape=(), dtype=float32, numpy=0.026786119>, <tf.Tensor: shape=(), dtype=float32, numpy=0.07204803>, <tf.Tensor: shape=(), dtype=float32, numpy=-0.008659054>, <tf.Tensor: shape=(), dtype=float32, numpy=0.059651088>, <tf.Tensor: shape=(), dtype=float32, numpy=0.024393125>, <tf.Tensor: shape=(), dtype=float32, numpy=-0.0035886392>, <tf.Tensor: shape=(), dtype=float32, numpy=0.01287461>, <tf.Tensor: shape=(), dtype=float32, numpy=0.0009460747>, <tf.Tensor: shape=(), dtype=float32, numpy=0.069585994>, <tf.Tensor: shape=(), dtype=float32, numpy=0.006190462>, <tf.Tensor: shape=(), dtype=float32, numpy=0.057804853>, <tf.Tensor: shape=(), dtype=float32, numpy=0.019666709>, <tf.Tensor: shape=(), dtype=float32, numpy=0.012074811>, <tf.Tensor: shape=(), dtype=float32, numpy=-0.008027736>, <tf.Tensor: shape=(), dtype=float32, numpy=0.050818123>, <tf.Tensor: shape=(), dtype=float32, numpy=0.05983159>, <tf.Tensor: shape=(), dtype=float32, numpy=0.019268095>, <tf.Tensor: shape=(), dtype=float32, numpy=0.055418048>, <tf.Tensor: shape=(), dtype=float32, numpy=0.008020271>, <tf.Tensor: shape=(), dtype=float32, numpy=0.007831563>, <tf.Tensor: shape=(), dtype=float32, numpy=-1.152046e-05>, <tf.Tensor: shape=(), dtype=float32, numpy=0.05316076>, <tf.Tensor: shape=(), dtype=float32, numpy=0.001329775>, <tf.Tensor: shape=(), dtype=float32, numpy=0.05415549>, <tf.Tensor: shape=(), dtype=float32, numpy=0.055680715>, <tf.Tensor: shape=(), dtype=float32, numpy=0.05753784>, <tf.Tensor: shape=(), dtype=float32, numpy=0.035705037>, <tf.Tensor: shape=(), dtype=float32, numpy=0.008200252>, <tf.Tensor: shape=(), dtype=float32, numpy=-0.01369633>, <tf.Tensor: shape=(), dtype=float32, numpy=0.016895954>, <tf.Tensor: shape=(), dtype=float32, numpy=-0.013579935>, <tf.Tensor: shape=(), dtype=float32, numpy=0.014050007>, <tf.Tensor: shape=(), dtype=float32, numpy=0.018148135>, <tf.Tensor: shape=(), dtype=float32, numpy=0.007423413>, <tf.Tensor: shape=(), dtype=float32, numpy=0.069384724>, <tf.Tensor: shape=(), dtype=float32, numpy=-0.0026201988>, <tf.Tensor: shape=(), dtype=float32, numpy=0.0073302723>, <tf.Tensor: shape=(), dtype=float32, numpy=0.0041473014>, <tf.Tensor: shape=(), dtype=float32, numpy=0.03782647>, <tf.Tensor: shape=(), dtype=float32, numpy=0.0106358575>, <tf.Tensor: shape=(), dtype=float32, numpy=0.007998181>, <tf.Tensor: shape=(), dtype=float32, numpy=0.006365206>, <tf.Tensor: shape=(), dtype=float32, numpy=0.008398162>, <tf.Tensor: shape=(), dtype=float32, numpy=0.02806171>, <tf.Tensor: shape=(), dtype=float32, numpy=0.004636267>, <tf.Tensor: shape=(), dtype=float32, numpy=-0.0041673686>, <tf.Tensor: shape=(), dtype=float32, numpy=0.0036416687>, <tf.Tensor: shape=(), dtype=float32, numpy=-0.0059074466>, <tf.Tensor: shape=(), dtype=float32, numpy=0.022157643>, <tf.Tensor: shape=(), dtype=float32, numpy=0.00558284>, <tf.Tensor: shape=(), dtype=float32, numpy=0.006973397>, <tf.Tensor: shape=(), dtype=float32, numpy=0.006090911>, <tf.Tensor: shape=(), dtype=float32, numpy=0.0061287126>, <tf.Tensor: shape=(), dtype=float32, numpy=0.0113536>, <tf.Tensor: shape=(), dtype=float32, numpy=0.026029281>, <tf.Tensor: shape=(), dtype=float32, numpy=0.05419722>, <tf.Tensor: shape=(), dtype=float32, numpy=0.014945175>, <tf.Tensor: shape=(), dtype=float32, numpy=0.006344381>, <tf.Tensor: shape=(), dtype=float32, numpy=0.015964042>, <tf.Tensor: shape=(), dtype=float32, numpy=0.008791262>, <tf.Tensor: shape=(), dtype=float32, numpy=0.015857354>, <tf.Tensor: shape=(), dtype=float32, numpy=0.024684966>, <tf.Tensor: shape=(), dtype=float32, numpy=0.019772597>, <tf.Tensor: shape=(), dtype=float32, numpy=0.0044579674>, <tf.Tensor: shape=(), dtype=float32, numpy=0.022040926>, <tf.Tensor: shape=(), dtype=float32, numpy=0.002652864>, <tf.Tensor: shape=(), dtype=float32, numpy=0.051947337>, <tf.Tensor: shape=(), dtype=float32, numpy=0.0074205343>, <tf.Tensor: shape=(), dtype=float32, numpy=0.015337551>, <tf.Tensor: shape=(), dtype=float32, numpy=0.069832176>, <tf.Tensor: shape=(), dtype=float32, numpy=-0.0025694473>, <tf.Tensor: shape=(), dtype=float32, numpy=-0.006972445>, <tf.Tensor: shape=(), dtype=float32, numpy=0.011855643>, <tf.Tensor: shape=(), dtype=float32, numpy=-0.006653973>, <tf.Tensor: shape=(), dtype=float32, numpy=0.0065506175>, <tf.Tensor: shape=(), dtype=float32, numpy=-0.000107199885>, <tf.Tensor: shape=(), dtype=float32, numpy=0.0047819633>, <tf.Tensor: shape=(), dtype=float32, numpy=0.021809857>, <tf.Tensor: shape=(), dtype=float32, numpy=0.004147537>, <tf.Tensor: shape=(), dtype=float32, numpy=0.006083077>, <tf.Tensor: shape=(), dtype=float32, numpy=0.012500661>, <tf.Tensor: shape=(), dtype=float32, numpy=0.0019165687>, <tf.Tensor: shape=(), dtype=float32, numpy=0.007390299>, <tf.Tensor: shape=(), dtype=float32, numpy=-0.008152409>, <tf.Tensor: shape=(), dtype=float32, numpy=0.0620961>, <tf.Tensor: shape=(), dtype=float32, numpy=-0.006837844>], [<tf.Tensor: shape=(), dtype=float32, numpy=0.0037377477>, <tf.Tensor: shape=(), dtype=float32, numpy=-0.0062912805>, <tf.Tensor: shape=(), dtype=float32, numpy=0.012368689>, <tf.Tensor: shape=(), dtype=float32, numpy=0.0512166>, <tf.Tensor: shape=(), dtype=float32, numpy=0.020699937>, <tf.Tensor: shape=(), dtype=float32, numpy=0.02994942>, <tf.Tensor: shape=(), dtype=float32, numpy=0.011539855>, <tf.Tensor: shape=(), dtype=float32, numpy=0.004889885>, <tf.Tensor: shape=(), dtype=float32, numpy=-0.0061162775>, <tf.Tensor: shape=(), dtype=float32, numpy=0.063533716>, <tf.Tensor: shape=(), dtype=float32, numpy=0.0038875472>, <tf.Tensor: shape=(), dtype=float32, numpy=0.015757423>, <tf.Tensor: shape=(), dtype=float32, numpy=0.05747215>, <tf.Tensor: shape=(), dtype=float32, numpy=0.008844733>, <tf.Tensor: shape=(), dtype=float32, numpy=0.024885086>, <tf.Tensor: shape=(), dtype=float32, numpy=0.01098903>, <tf.Tensor: shape=(), dtype=float32, numpy=0.07764004>, <tf.Tensor: shape=(), dtype=float32, numpy=0.028092038>, <tf.Tensor: shape=(), dtype=float32, numpy=0.048543>, <tf.Tensor: shape=(), dtype=float32, numpy=0.010697402>, <tf.Tensor: shape=(), dtype=float32, numpy=0.0064460505>, <tf.Tensor: shape=(), dtype=float32, numpy=-0.005496102>, <tf.Tensor: shape=(), dtype=float32, numpy=0.0061504366>, <tf.Tensor: shape=(), dtype=float32, numpy=0.07064236>, <tf.Tensor: shape=(), dtype=float32, numpy=0.0068634413>, <tf.Tensor: shape=(), dtype=float32, numpy=0.0687809>, <tf.Tensor: shape=(), dtype=float32, numpy=0.023243245>, <tf.Tensor: shape=(), dtype=float32, numpy=0.045621615>, <tf.Tensor: shape=(), dtype=float32, numpy=0.05524317>, <tf.Tensor: shape=(), dtype=float32, numpy=-0.007440435>, <tf.Tensor: shape=(), dtype=float32, numpy=0.030694474>, <tf.Tensor: shape=(), dtype=float32, numpy=0.021431144>, <tf.Tensor: shape=(), dtype=float32, numpy=-0.01485528>, <tf.Tensor: shape=(), dtype=float32, numpy=0.06791256>, <tf.Tensor: shape=(), dtype=float32, numpy=0.0074259955>, <tf.Tensor: shape=(), dtype=float32, numpy=0.025102226>, <tf.Tensor: shape=(), dtype=float32, numpy=0.009934061>, <tf.Tensor: shape=(), dtype=float32, numpy=0.0051471554>, <tf.Tensor: shape=(), dtype=float32, numpy=0.016124388>, <tf.Tensor: shape=(), dtype=float32, numpy=0.005171622>, <tf.Tensor: shape=(), dtype=float32, numpy=-0.0030599674>, <tf.Tensor: shape=(), dtype=float32, numpy=0.010115121>, <tf.Tensor: shape=(), dtype=float32, numpy=0.016589988>, <tf.Tensor: shape=(), dtype=float32, numpy=0.021974467>, <tf.Tensor: shape=(), dtype=float32, numpy=0.008802708>, <tf.Tensor: shape=(), dtype=float32, numpy=0.028364625>, <tf.Tensor: shape=(), dtype=float32, numpy=0.07248248>, <tf.Tensor: shape=(), dtype=float32, numpy=0.014315732>, <tf.Tensor: shape=(), dtype=float32, numpy=0.012876755>, <tf.Tensor: shape=(), dtype=float32, numpy=0.019661244>, <tf.Tensor: shape=(), dtype=float32, numpy=-0.0051663895>, <tf.Tensor: shape=(), dtype=float32, numpy=0.0039304923>, <tf.Tensor: shape=(), dtype=float32, numpy=0.0069335373>, <tf.Tensor: shape=(), dtype=float32, numpy=0.004031848>, <tf.Tensor: shape=(), dtype=float32, numpy=0.010794228>, <tf.Tensor: shape=(), dtype=float32, numpy=0.023650153>, <tf.Tensor: shape=(), dtype=float32, numpy=0.03966066>, <tf.Tensor: shape=(), dtype=float32, numpy=-0.0051669506>, <tf.Tensor: shape=(), dtype=float32, numpy=0.001801867>, <tf.Tensor: shape=(), dtype=float32, numpy=0.060733963>, <tf.Tensor: shape=(), dtype=float32, numpy=-0.0001284387>, <tf.Tensor: shape=(), dtype=float32, numpy=0.02482475>, <tf.Tensor: shape=(), dtype=float32, numpy=0.011910145>, <tf.Tensor: shape=(), dtype=float32, numpy=-0.005541522>, <tf.Tensor: shape=(), dtype=float32, numpy=0.0100095>, <tf.Tensor: shape=(), dtype=float32, numpy=-0.011599395>, <tf.Tensor: shape=(), dtype=float32, numpy=0.078266814>, <tf.Tensor: shape=(), dtype=float32, numpy=0.016245078>, <tf.Tensor: shape=(), dtype=float32, numpy=0.0033130366>, <tf.Tensor: shape=(), dtype=float32, numpy=0.03483114>, <tf.Tensor: shape=(), dtype=float32, numpy=-0.0007275054>, <tf.Tensor: shape=(), dtype=float32, numpy=0.018962275>, <tf.Tensor: shape=(), dtype=float32, numpy=0.004686755>, <tf.Tensor: shape=(), dtype=float32, numpy=-0.005492843>, <tf.Tensor: shape=(), dtype=float32, numpy=0.0155183785>, <tf.Tensor: shape=(), dtype=float32, numpy=0.006446641>, <tf.Tensor: shape=(), dtype=float32, numpy=0.002566656>, <tf.Tensor: shape=(), dtype=float32, numpy=-0.008285478>, <tf.Tensor: shape=(), dtype=float32, numpy=0.0051067034>, <tf.Tensor: shape=(), dtype=float32, numpy=-0.0011932789>, <tf.Tensor: shape=(), dtype=float32, numpy=0.010595173>, <tf.Tensor: shape=(), dtype=float32, numpy=0.0627463>, <tf.Tensor: shape=(), dtype=float32, numpy=0.014320009>, <tf.Tensor: shape=(), dtype=float32, numpy=0.008726847>, <tf.Tensor: shape=(), dtype=float32, numpy=-0.00070246495>, <tf.Tensor: shape=(), dtype=float32, numpy=-0.0007880833>, <tf.Tensor: shape=(), dtype=float32, numpy=0.02114331>, <tf.Tensor: shape=(), dtype=float32, numpy=-0.0066961334>, <tf.Tensor: shape=(), dtype=float32, numpy=0.07037299>, <tf.Tensor: shape=(), dtype=float32, numpy=0.005587142>, <tf.Tensor: shape=(), dtype=float32, numpy=-0.0026969742>, <tf.Tensor: shape=(), dtype=float32, numpy=0.02146902>, <tf.Tensor: shape=(), dtype=float32, numpy=0.07165286>, <tf.Tensor: shape=(), dtype=float32, numpy=-0.008964314>, <tf.Tensor: shape=(), dtype=float32, numpy=0.060349926>, <tf.Tensor: shape=(), dtype=float32, numpy=0.028366938>, <tf.Tensor: shape=(), dtype=float32, numpy=-0.0025168974>, <tf.Tensor: shape=(), dtype=float32, numpy=0.011677816>, <tf.Tensor: shape=(), dtype=float32, numpy=-0.0012074132>, <tf.Tensor: shape=(), dtype=float32, numpy=0.06969923>, <tf.Tensor: shape=(), dtype=float32, numpy=0.008324298>, <tf.Tensor: shape=(), dtype=float32, numpy=0.05494144>, <tf.Tensor: shape=(), dtype=float32, numpy=0.018503923>, <tf.Tensor: shape=(), dtype=float32, numpy=0.010781715>, <tf.Tensor: shape=(), dtype=float32, numpy=-0.011991719>, <tf.Tensor: shape=(), dtype=float32, numpy=0.050946437>, <tf.Tensor: shape=(), dtype=float32, numpy=0.06256257>, <tf.Tensor: shape=(), dtype=float32, numpy=0.020684721>, <tf.Tensor: shape=(), dtype=float32, numpy=0.06310694>, <tf.Tensor: shape=(), dtype=float32, numpy=0.0103143025>, <tf.Tensor: shape=(), dtype=float32, numpy=0.010158035>, <tf.Tensor: shape=(), dtype=float32, numpy=0.008808186>, <tf.Tensor: shape=(), dtype=float32, numpy=0.051350914>, <tf.Tensor: shape=(), dtype=float32, numpy=0.00703328>, <tf.Tensor: shape=(), dtype=float32, numpy=0.049452223>, <tf.Tensor: shape=(), dtype=float32, numpy=0.056084458>, <tf.Tensor: shape=(), dtype=float32, numpy=0.051182993>, <tf.Tensor: shape=(), dtype=float32, numpy=0.027014483>, <tf.Tensor: shape=(), dtype=float32, numpy=0.005739405>, <tf.Tensor: shape=(), dtype=float32, numpy=-0.011289103>, <tf.Tensor: shape=(), dtype=float32, numpy=0.016573913>, <tf.Tensor: shape=(), dtype=float32, numpy=-0.011171713>, <tf.Tensor: shape=(), dtype=float32, numpy=0.011131135>, <tf.Tensor: shape=(), dtype=float32, numpy=0.016929552>, <tf.Tensor: shape=(), dtype=float32, numpy=0.0067760814>, <tf.Tensor: shape=(), dtype=float32, numpy=0.06669909>, <tf.Tensor: shape=(), dtype=float32, numpy=-0.0037769522>, <tf.Tensor: shape=(), dtype=float32, numpy=0.007447331>, <tf.Tensor: shape=(), dtype=float32, numpy=0.0039665094>, <tf.Tensor: shape=(), dtype=float32, numpy=0.04302544>, <tf.Tensor: shape=(), dtype=float32, numpy=0.010254656>, <tf.Tensor: shape=(), dtype=float32, numpy=0.00793527>, <tf.Tensor: shape=(), dtype=float32, numpy=0.0073768003>, <tf.Tensor: shape=(), dtype=float32, numpy=0.009166317>, <tf.Tensor: shape=(), dtype=float32, numpy=0.025985457>, <tf.Tensor: shape=(), dtype=float32, numpy=0.005116457>, <tf.Tensor: shape=(), dtype=float32, numpy=-0.0035653748>, <tf.Tensor: shape=(), dtype=float32, numpy=-0.0013575219>, <tf.Tensor: shape=(), dtype=float32, numpy=-0.0065612686>, <tf.Tensor: shape=(), dtype=float32, numpy=0.018330768>, <tf.Tensor: shape=(), dtype=float32, numpy=0.005091273>, <tf.Tensor: shape=(), dtype=float32, numpy=0.007865309>, <tf.Tensor: shape=(), dtype=float32, numpy=0.0042221434>, <tf.Tensor: shape=(), dtype=float32, numpy=0.0058045303>, <tf.Tensor: shape=(), dtype=float32, numpy=0.01019201>, <tf.Tensor: shape=(), dtype=float32, numpy=0.02607216>, <tf.Tensor: shape=(), dtype=float32, numpy=0.052679908>, <tf.Tensor: shape=(), dtype=float32, numpy=0.009617739>, <tf.Tensor: shape=(), dtype=float32, numpy=0.005664029>, <tf.Tensor: shape=(), dtype=float32, numpy=0.014822795>, <tf.Tensor: shape=(), dtype=float32, numpy=0.008719984>, <tf.Tensor: shape=(), dtype=float32, numpy=0.014895963>, <tf.Tensor: shape=(), dtype=float32, numpy=0.023062002>, <tf.Tensor: shape=(), dtype=float32, numpy=0.01961751>, <tf.Tensor: shape=(), dtype=float32, numpy=0.0041107014>, <tf.Tensor: shape=(), dtype=float32, numpy=0.022185799>, <tf.Tensor: shape=(), dtype=float32, numpy=0.003092599>, <tf.Tensor: shape=(), dtype=float32, numpy=0.050286707>, <tf.Tensor: shape=(), dtype=float32, numpy=0.0050087133>, <tf.Tensor: shape=(), dtype=float32, numpy=0.01291362>, <tf.Tensor: shape=(), dtype=float32, numpy=0.068412855>, <tf.Tensor: shape=(), dtype=float32, numpy=-0.004343001>, <tf.Tensor: shape=(), dtype=float32, numpy=-0.0061176894>, <tf.Tensor: shape=(), dtype=float32, numpy=0.009601821>, <tf.Tensor: shape=(), dtype=float32, numpy=-0.0049185962>, <tf.Tensor: shape=(), dtype=float32, numpy=0.005653997>, <tf.Tensor: shape=(), dtype=float32, numpy=-0.0017044754>, <tf.Tensor: shape=(), dtype=float32, numpy=0.0038491813>, <tf.Tensor: shape=(), dtype=float32, numpy=0.021063555>, <tf.Tensor: shape=(), dtype=float32, numpy=0.003706675>, <tf.Tensor: shape=(), dtype=float32, numpy=0.006204238>, <tf.Tensor: shape=(), dtype=float32, numpy=0.011481215>, <tf.Tensor: shape=(), dtype=float32, numpy=0.0025617704>, <tf.Tensor: shape=(), dtype=float32, numpy=0.005496622>, <tf.Tensor: shape=(), dtype=float32, numpy=-0.008861247>, <tf.Tensor: shape=(), dtype=float32, numpy=0.061671175>, <tf.Tensor: shape=(), dtype=float32, numpy=-0.006972435>], [<tf.Tensor: shape=(), dtype=float32, numpy=0.003910308>, <tf.Tensor: shape=(), dtype=float32, numpy=-0.0066725467>, <tf.Tensor: shape=(), dtype=float32, numpy=0.009216947>, <tf.Tensor: shape=(), dtype=float32, numpy=0.048085332>, <tf.Tensor: shape=(), dtype=float32, numpy=0.01933769>, <tf.Tensor: shape=(), dtype=float32, numpy=0.03174581>, <tf.Tensor: shape=(), dtype=float32, numpy=0.010402925>, <tf.Tensor: shape=(), dtype=float32, numpy=0.002814169>, <tf.Tensor: shape=(), dtype=float32, numpy=-0.008543254>, <tf.Tensor: shape=(), dtype=float32, numpy=0.061031528>, <tf.Tensor: shape=(), dtype=float32, numpy=0.0047948873>, <tf.Tensor: shape=(), dtype=float32, numpy=0.01674166>, <tf.Tensor: shape=(), dtype=float32, numpy=0.053963944>, <tf.Tensor: shape=(), dtype=float32, numpy=0.008287387>, <tf.Tensor: shape=(), dtype=float32, numpy=0.022523936>, <tf.Tensor: shape=(), dtype=float32, numpy=0.010504434>, <tf.Tensor: shape=(), dtype=float32, numpy=0.07712918>, <tf.Tensor: shape=(), dtype=float32, numpy=0.026640195>, <tf.Tensor: shape=(), dtype=float32, numpy=0.04449707>, <tf.Tensor: shape=(), dtype=float32, numpy=0.013871317>, <tf.Tensor: shape=(), dtype=float32, numpy=0.0033851536>, <tf.Tensor: shape=(), dtype=float32, numpy=-0.0050476324>, <tf.Tensor: shape=(), dtype=float32, numpy=0.0059509426>, <tf.Tensor: shape=(), dtype=float32, numpy=0.0707787>, <tf.Tensor: shape=(), dtype=float32, numpy=0.006726048>, <tf.Tensor: shape=(), dtype=float32, numpy=0.066430755>, <tf.Tensor: shape=(), dtype=float32, numpy=0.021856064>, <tf.Tensor: shape=(), dtype=float32, numpy=0.04165083>, <tf.Tensor: shape=(), dtype=float32, numpy=0.053382996>, <tf.Tensor: shape=(), dtype=float32, numpy=-0.008359519>, <tf.Tensor: shape=(), dtype=float32, numpy=0.031570587>, <tf.Tensor: shape=(), dtype=float32, numpy=0.02088271>, <tf.Tensor: shape=(), dtype=float32, numpy=-0.011963459>, <tf.Tensor: shape=(), dtype=float32, numpy=0.06345416>, <tf.Tensor: shape=(), dtype=float32, numpy=0.008222037>, <tf.Tensor: shape=(), dtype=float32, numpy=0.024798648>, <tf.Tensor: shape=(), dtype=float32, numpy=0.007504455>, <tf.Tensor: shape=(), dtype=float32, numpy=0.005778894>, <tf.Tensor: shape=(), dtype=float32, numpy=0.014177345>, <tf.Tensor: shape=(), dtype=float32, numpy=0.0031328797>, <tf.Tensor: shape=(), dtype=float32, numpy=-0.0046657426>, <tf.Tensor: shape=(), dtype=float32, numpy=0.01312225>, <tf.Tensor: shape=(), dtype=float32, numpy=0.017231718>, <tf.Tensor: shape=(), dtype=float32, numpy=0.02005741>, <tf.Tensor: shape=(), dtype=float32, numpy=0.009309238>, <tf.Tensor: shape=(), dtype=float32, numpy=0.027069107>, <tf.Tensor: shape=(), dtype=float32, numpy=0.06812565>, <tf.Tensor: shape=(), dtype=float32, numpy=0.013877323>, <tf.Tensor: shape=(), dtype=float32, numpy=0.011483428>, <tf.Tensor: shape=(), dtype=float32, numpy=0.015355245>, <tf.Tensor: shape=(), dtype=float32, numpy=-0.004677851>, <tf.Tensor: shape=(), dtype=float32, numpy=0.004081008>, <tf.Tensor: shape=(), dtype=float32, numpy=0.002579677>, <tf.Tensor: shape=(), dtype=float32, numpy=0.005120959>, <tf.Tensor: shape=(), dtype=float32, numpy=0.011138596>, <tf.Tensor: shape=(), dtype=float32, numpy=0.024936335>, <tf.Tensor: shape=(), dtype=float32, numpy=0.03653677>, <tf.Tensor: shape=(), dtype=float32, numpy=-0.0041843858>, <tf.Tensor: shape=(), dtype=float32, numpy=0.002131883>, <tf.Tensor: shape=(), dtype=float32, numpy=0.05849308>, <tf.Tensor: shape=(), dtype=float32, numpy=-0.0004577767>, <tf.Tensor: shape=(), dtype=float32, numpy=0.02210716>, <tf.Tensor: shape=(), dtype=float32, numpy=0.012443112>, <tf.Tensor: shape=(), dtype=float32, numpy=-0.0032057455>, <tf.Tensor: shape=(), dtype=float32, numpy=0.012275783>, <tf.Tensor: shape=(), dtype=float32, numpy=-0.006316355>, <tf.Tensor: shape=(), dtype=float32, numpy=0.07711486>, <tf.Tensor: shape=(), dtype=float32, numpy=0.016846403>, <tf.Tensor: shape=(), dtype=float32, numpy=0.004163949>, <tf.Tensor: shape=(), dtype=float32, numpy=0.03406625>, <tf.Tensor: shape=(), dtype=float32, numpy=-5.0198287e-07>, <tf.Tensor: shape=(), dtype=float32, numpy=0.019944914>, <tf.Tensor: shape=(), dtype=float32, numpy=0.002809803>, <tf.Tensor: shape=(), dtype=float32, numpy=-0.0064803283>, <tf.Tensor: shape=(), dtype=float32, numpy=0.012916516>, <tf.Tensor: shape=(), dtype=float32, numpy=0.0070165927>, <tf.Tensor: shape=(), dtype=float32, numpy=0.002685085>, <tf.Tensor: shape=(), dtype=float32, numpy=-0.0036946745>, <tf.Tensor: shape=(), dtype=float32, numpy=0.0026913881>, <tf.Tensor: shape=(), dtype=float32, numpy=-0.00035305228>, <tf.Tensor: shape=(), dtype=float32, numpy=0.0101910755>, <tf.Tensor: shape=(), dtype=float32, numpy=0.058450222>, <tf.Tensor: shape=(), dtype=float32, numpy=0.013603436>, <tf.Tensor: shape=(), dtype=float32, numpy=0.0055118613>, <tf.Tensor: shape=(), dtype=float32, numpy=0.0002583377>, <tf.Tensor: shape=(), dtype=float32, numpy=-0.0021484708>, <tf.Tensor: shape=(), dtype=float32, numpy=0.019633878>, <tf.Tensor: shape=(), dtype=float32, numpy=-0.004829506>, <tf.Tensor: shape=(), dtype=float32, numpy=0.06800206>, <tf.Tensor: shape=(), dtype=float32, numpy=0.0059472322>, <tf.Tensor: shape=(), dtype=float32, numpy=-0.0033880337>, <tf.Tensor: shape=(), dtype=float32, numpy=0.020726044>, <tf.Tensor: shape=(), dtype=float32, numpy=0.06515778>, <tf.Tensor: shape=(), dtype=float32, numpy=-0.010820335>, <tf.Tensor: shape=(), dtype=float32, numpy=0.056083966>, <tf.Tensor: shape=(), dtype=float32, numpy=0.0269502>, <tf.Tensor: shape=(), dtype=float32, numpy=-0.0028081704>, <tf.Tensor: shape=(), dtype=float32, numpy=0.012285683>, <tf.Tensor: shape=(), dtype=float32, numpy=-0.0017652139>, <tf.Tensor: shape=(), dtype=float32, numpy=0.06952097>, <tf.Tensor: shape=(), dtype=float32, numpy=0.008195854>, <tf.Tensor: shape=(), dtype=float32, numpy=0.05386641>, <tf.Tensor: shape=(), dtype=float32, numpy=0.019343972>, <tf.Tensor: shape=(), dtype=float32, numpy=0.010604156>, <tf.Tensor: shape=(), dtype=float32, numpy=-0.01045323>, <tf.Tensor: shape=(), dtype=float32, numpy=0.047673363>, <tf.Tensor: shape=(), dtype=float32, numpy=0.057689667>, <tf.Tensor: shape=(), dtype=float32, numpy=0.018614344>, <tf.Tensor: shape=(), dtype=float32, numpy=0.06088081>, <tf.Tensor: shape=(), dtype=float32, numpy=0.009308217>, <tf.Tensor: shape=(), dtype=float32, numpy=0.009530738>, <tf.Tensor: shape=(), dtype=float32, numpy=0.008159868>, <tf.Tensor: shape=(), dtype=float32, numpy=0.046886038>, <tf.Tensor: shape=(), dtype=float32, numpy=0.006382496>, <tf.Tensor: shape=(), dtype=float32, numpy=0.04542207>, <tf.Tensor: shape=(), dtype=float32, numpy=0.05442405>, <tf.Tensor: shape=(), dtype=float32, numpy=0.049310926>, <tf.Tensor: shape=(), dtype=float32, numpy=0.02868637>, <tf.Tensor: shape=(), dtype=float32, numpy=0.0071353493>, <tf.Tensor: shape=(), dtype=float32, numpy=-0.0074507743>, <tf.Tensor: shape=(), dtype=float32, numpy=0.017455632>, <tf.Tensor: shape=(), dtype=float32, numpy=-0.0077086873>, <tf.Tensor: shape=(), dtype=float32, numpy=0.013409042>, <tf.Tensor: shape=(), dtype=float32, numpy=0.017610846>, <tf.Tensor: shape=(), dtype=float32, numpy=0.0036882851>, <tf.Tensor: shape=(), dtype=float32, numpy=0.06585839>, <tf.Tensor: shape=(), dtype=float32, numpy=-0.0038073366>, <tf.Tensor: shape=(), dtype=float32, numpy=0.011481658>, <tf.Tensor: shape=(), dtype=float32, numpy=0.0037219916>, <tf.Tensor: shape=(), dtype=float32, numpy=0.03137423>, <tf.Tensor: shape=(), dtype=float32, numpy=0.010454443>, <tf.Tensor: shape=(), dtype=float32, numpy=0.008197438>, <tf.Tensor: shape=(), dtype=float32, numpy=0.0062321825>, <tf.Tensor: shape=(), dtype=float32, numpy=0.008241467>, <tf.Tensor: shape=(), dtype=float32, numpy=0.021465093>, <tf.Tensor: shape=(), dtype=float32, numpy=0.007931494>, <tf.Tensor: shape=(), dtype=float32, numpy=-0.0046063494>, <tf.Tensor: shape=(), dtype=float32, numpy=-0.0016851099>, <tf.Tensor: shape=(), dtype=float32, numpy=-0.0053193728>, <tf.Tensor: shape=(), dtype=float32, numpy=0.01832718>, <tf.Tensor: shape=(), dtype=float32, numpy=0.0052435715>, <tf.Tensor: shape=(), dtype=float32, numpy=0.0061439425>, <tf.Tensor: shape=(), dtype=float32, numpy=0.0049305204>, <tf.Tensor: shape=(), dtype=float32, numpy=0.004919771>, <tf.Tensor: shape=(), dtype=float32, numpy=0.009837478>, <tf.Tensor: shape=(), dtype=float32, numpy=0.02586386>, <tf.Tensor: shape=(), dtype=float32, numpy=0.050983816>, <tf.Tensor: shape=(), dtype=float32, numpy=0.007972617>, <tf.Tensor: shape=(), dtype=float32, numpy=0.00505393>, <tf.Tensor: shape=(), dtype=float32, numpy=0.013322592>, <tf.Tensor: shape=(), dtype=float32, numpy=0.01141605>, <tf.Tensor: shape=(), dtype=float32, numpy=0.014340653>, <tf.Tensor: shape=(), dtype=float32, numpy=0.017405204>, <tf.Tensor: shape=(), dtype=float32, numpy=0.020430962>, <tf.Tensor: shape=(), dtype=float32, numpy=0.0060778614>, <tf.Tensor: shape=(), dtype=float32, numpy=0.022032171>, <tf.Tensor: shape=(), dtype=float32, numpy=0.004186199>, <tf.Tensor: shape=(), dtype=float32, numpy=0.046441928>, <tf.Tensor: shape=(), dtype=float32, numpy=0.0035775928>, <tf.Tensor: shape=(), dtype=float32, numpy=0.011297707>, <tf.Tensor: shape=(), dtype=float32, numpy=0.0654179>, <tf.Tensor: shape=(), dtype=float32, numpy=-0.002821668>, <tf.Tensor: shape=(), dtype=float32, numpy=-0.0049542487>, <tf.Tensor: shape=(), dtype=float32, numpy=0.007000585>, <tf.Tensor: shape=(), dtype=float32, numpy=-0.0021702396>, <tf.Tensor: shape=(), dtype=float32, numpy=0.00514469>, <tf.Tensor: shape=(), dtype=float32, numpy=8.570962e-06>, <tf.Tensor: shape=(), dtype=float32, numpy=0.0019210447>, <tf.Tensor: shape=(), dtype=float32, numpy=0.017876487>, <tf.Tensor: shape=(), dtype=float32, numpy=0.005139239>, <tf.Tensor: shape=(), dtype=float32, numpy=0.007239813>, <tf.Tensor: shape=(), dtype=float32, numpy=0.01237834>, <tf.Tensor: shape=(), dtype=float32, numpy=0.00403645>, <tf.Tensor: shape=(), dtype=float32, numpy=0.005383867>, <tf.Tensor: shape=(), dtype=float32, numpy=-0.0061182203>, <tf.Tensor: shape=(), dtype=float32, numpy=0.05828557>, <tf.Tensor: shape=(), dtype=float32, numpy=-0.004968457>], [<tf.Tensor: shape=(), dtype=float32, numpy=0.0042252215>, <tf.Tensor: shape=(), dtype=float32, numpy=-0.0050035026>, <tf.Tensor: shape=(), dtype=float32, numpy=0.008459919>, <tf.Tensor: shape=(), dtype=float32, numpy=0.045857515>, <tf.Tensor: shape=(), dtype=float32, numpy=0.017994944>, <tf.Tensor: shape=(), dtype=float32, numpy=0.037701465>, <tf.Tensor: shape=(), dtype=float32, numpy=0.012825755>, <tf.Tensor: shape=(), dtype=float32, numpy=0.00021843705>, <tf.Tensor: shape=(), dtype=float32, numpy=-0.008885379>, <tf.Tensor: shape=(), dtype=float32, numpy=0.056171022>, <tf.Tensor: shape=(), dtype=float32, numpy=0.0064597493>, <tf.Tensor: shape=(), dtype=float32, numpy=0.018131096>, <tf.Tensor: shape=(), dtype=float32, numpy=0.047904916>, <tf.Tensor: shape=(), dtype=float32, numpy=0.0093866885>, <tf.Tensor: shape=(), dtype=float32, numpy=0.02234211>, <tf.Tensor: shape=(), dtype=float32, numpy=0.0083232485>, <tf.Tensor: shape=(), dtype=float32, numpy=0.07523654>, <tf.Tensor: shape=(), dtype=float32, numpy=0.02474295>, <tf.Tensor: shape=(), dtype=float32, numpy=0.03961586>, <tf.Tensor: shape=(), dtype=float32, numpy=0.017019501>, <tf.Tensor: shape=(), dtype=float32, numpy=0.0026360406>, <tf.Tensor: shape=(), dtype=float32, numpy=-0.002917462>, <tf.Tensor: shape=(), dtype=float32, numpy=0.0059323246>, <tf.Tensor: shape=(), dtype=float32, numpy=0.07919526>, <tf.Tensor: shape=(), dtype=float32, numpy=0.0096393395>, <tf.Tensor: shape=(), dtype=float32, numpy=0.06787914>, <tf.Tensor: shape=(), dtype=float32, numpy=0.023301018>, <tf.Tensor: shape=(), dtype=float32, numpy=0.04220618>, <tf.Tensor: shape=(), dtype=float32, numpy=0.05443156>, <tf.Tensor: shape=(), dtype=float32, numpy=-0.0040061036>, <tf.Tensor: shape=(), dtype=float32, numpy=0.027902307>, <tf.Tensor: shape=(), dtype=float32, numpy=0.02128395>, <tf.Tensor: shape=(), dtype=float32, numpy=-0.008978713>, <tf.Tensor: shape=(), dtype=float32, numpy=0.06096968>, <tf.Tensor: shape=(), dtype=float32, numpy=0.008943865>, <tf.Tensor: shape=(), dtype=float32, numpy=0.02175691>, <tf.Tensor: shape=(), dtype=float32, numpy=0.010990604>, <tf.Tensor: shape=(), dtype=float32, numpy=0.0046044625>, <tf.Tensor: shape=(), dtype=float32, numpy=0.009524597>, <tf.Tensor: shape=(), dtype=float32, numpy=0.0049713086>, <tf.Tensor: shape=(), dtype=float32, numpy=-0.0026654238>, <tf.Tensor: shape=(), dtype=float32, numpy=0.013055023>, <tf.Tensor: shape=(), dtype=float32, numpy=0.016028628>, <tf.Tensor: shape=(), dtype=float32, numpy=0.019212166>, <tf.Tensor: shape=(), dtype=float32, numpy=0.008914458>, <tf.Tensor: shape=(), dtype=float32, numpy=0.02208469>, <tf.Tensor: shape=(), dtype=float32, numpy=0.06076867>, <tf.Tensor: shape=(), dtype=float32, numpy=0.012335717>, <tf.Tensor: shape=(), dtype=float32, numpy=0.009516591>, <tf.Tensor: shape=(), dtype=float32, numpy=0.013954091>, <tf.Tensor: shape=(), dtype=float32, numpy=0.001013394>, <tf.Tensor: shape=(), dtype=float32, numpy=0.003259047>, <tf.Tensor: shape=(), dtype=float32, numpy=0.0037926054>, <tf.Tensor: shape=(), dtype=float32, numpy=0.0028195456>, <tf.Tensor: shape=(), dtype=float32, numpy=0.012019869>, <tf.Tensor: shape=(), dtype=float32, numpy=0.022847507>, <tf.Tensor: shape=(), dtype=float32, numpy=0.029003061>, <tf.Tensor: shape=(), dtype=float32, numpy=-0.0014836555>, <tf.Tensor: shape=(), dtype=float32, numpy=0.0018760106>, <tf.Tensor: shape=(), dtype=float32, numpy=0.053257804>, <tf.Tensor: shape=(), dtype=float32, numpy=0.0019172989>, <tf.Tensor: shape=(), dtype=float32, numpy=0.027667569>, <tf.Tensor: shape=(), dtype=float32, numpy=0.008218337>, <tf.Tensor: shape=(), dtype=float32, numpy=-0.00540194>, <tf.Tensor: shape=(), dtype=float32, numpy=0.01568125>, <tf.Tensor: shape=(), dtype=float32, numpy=4.1699503e-05>, <tf.Tensor: shape=(), dtype=float32, numpy=0.08387534>, <tf.Tensor: shape=(), dtype=float32, numpy=0.014298355>, <tf.Tensor: shape=(), dtype=float32, numpy=0.003033745>, <tf.Tensor: shape=(), dtype=float32, numpy=0.026748896>, <tf.Tensor: shape=(), dtype=float32, numpy=0.002143315>, <tf.Tensor: shape=(), dtype=float32, numpy=0.017182555>, <tf.Tensor: shape=(), dtype=float32, numpy=0.0040559033>, <tf.Tensor: shape=(), dtype=float32, numpy=-0.0043375893>, <tf.Tensor: shape=(), dtype=float32, numpy=0.014679491>, <tf.Tensor: shape=(), dtype=float32, numpy=0.004751575>, <tf.Tensor: shape=(), dtype=float32, numpy=0.0030147228>, <tf.Tensor: shape=(), dtype=float32, numpy=-0.0029083253>, <tf.Tensor: shape=(), dtype=float32, numpy=0.0039117318>, <tf.Tensor: shape=(), dtype=float32, numpy=0.0014418731>, <tf.Tensor: shape=(), dtype=float32, numpy=0.010321>, <tf.Tensor: shape=(), dtype=float32, numpy=0.053584505>, <tf.Tensor: shape=(), dtype=float32, numpy=0.013630317>, <tf.Tensor: shape=(), dtype=float32, numpy=0.0061986158>, <tf.Tensor: shape=(), dtype=float32, numpy=0.00022015814>, <tf.Tensor: shape=(), dtype=float32, numpy=-0.0014191945>, <tf.Tensor: shape=(), dtype=float32, numpy=0.021668546>, <tf.Tensor: shape=(), dtype=float32, numpy=-0.0024361974>, <tf.Tensor: shape=(), dtype=float32, numpy=0.06633376>, <tf.Tensor: shape=(), dtype=float32, numpy=0.0066458555>, <tf.Tensor: shape=(), dtype=float32, numpy=-0.0013630553>, <tf.Tensor: shape=(), dtype=float32, numpy=0.016923713>, <tf.Tensor: shape=(), dtype=float32, numpy=0.063772775>, <tf.Tensor: shape=(), dtype=float32, numpy=-0.010942342>, <tf.Tensor: shape=(), dtype=float32, numpy=0.05386143>, <tf.Tensor: shape=(), dtype=float32, numpy=0.024555374>, <tf.Tensor: shape=(), dtype=float32, numpy=-0.0023395289>, <tf.Tensor: shape=(), dtype=float32, numpy=0.009860644>, <tf.Tensor: shape=(), dtype=float32, numpy=0.0015218584>, <tf.Tensor: shape=(), dtype=float32, numpy=0.067651615>, <tf.Tensor: shape=(), dtype=float32, numpy=0.0075223767>, <tf.Tensor: shape=(), dtype=float32, numpy=0.053682454>, <tf.Tensor: shape=(), dtype=float32, numpy=0.01694847>, <tf.Tensor: shape=(), dtype=float32, numpy=0.013990348>, <tf.Tensor: shape=(), dtype=float32, numpy=-0.009177205>, <tf.Tensor: shape=(), dtype=float32, numpy=0.04394942>, <tf.Tensor: shape=(), dtype=float32, numpy=0.060358778>, <tf.Tensor: shape=(), dtype=float32, numpy=0.021612268>, <tf.Tensor: shape=(), dtype=float32, numpy=0.061834306>, <tf.Tensor: shape=(), dtype=float32, numpy=0.01069881>, <tf.Tensor: shape=(), dtype=float32, numpy=0.008201814>, <tf.Tensor: shape=(), dtype=float32, numpy=0.007504533>, <tf.Tensor: shape=(), dtype=float32, numpy=0.043961406>, <tf.Tensor: shape=(), dtype=float32, numpy=0.006393862>, <tf.Tensor: shape=(), dtype=float32, numpy=0.042590823>, <tf.Tensor: shape=(), dtype=float32, numpy=0.051720098>, <tf.Tensor: shape=(), dtype=float32, numpy=0.04812643>, <tf.Tensor: shape=(), dtype=float32, numpy=0.03360589>, <tf.Tensor: shape=(), dtype=float32, numpy=0.008086744>, <tf.Tensor: shape=(), dtype=float32, numpy=-0.007196125>, <tf.Tensor: shape=(), dtype=float32, numpy=0.016189989>, <tf.Tensor: shape=(), dtype=float32, numpy=-0.008597658>, <tf.Tensor: shape=(), dtype=float32, numpy=0.011592973>, <tf.Tensor: shape=(), dtype=float32, numpy=0.017494004>, <tf.Tensor: shape=(), dtype=float32, numpy=0.0067509124>, <tf.Tensor: shape=(), dtype=float32, numpy=0.05799817>, <tf.Tensor: shape=(), dtype=float32, numpy=-0.006146753>, <tf.Tensor: shape=(), dtype=float32, numpy=0.0091319755>, <tf.Tensor: shape=(), dtype=float32, numpy=0.0019962257>, <tf.Tensor: shape=(), dtype=float32, numpy=0.022439223>, <tf.Tensor: shape=(), dtype=float32, numpy=0.010288721>, <tf.Tensor: shape=(), dtype=float32, numpy=0.0113260085>, <tf.Tensor: shape=(), dtype=float32, numpy=0.006750877>, <tf.Tensor: shape=(), dtype=float32, numpy=0.011313566>, <tf.Tensor: shape=(), dtype=float32, numpy=0.017381813>, <tf.Tensor: shape=(), dtype=float32, numpy=0.006659437>, <tf.Tensor: shape=(), dtype=float32, numpy=-0.0024854774>, <tf.Tensor: shape=(), dtype=float32, numpy=-0.0026386376>, <tf.Tensor: shape=(), dtype=float32, numpy=-0.0031429827>, <tf.Tensor: shape=(), dtype=float32, numpy=0.017226025>, <tf.Tensor: shape=(), dtype=float32, numpy=0.0059670843>, <tf.Tensor: shape=(), dtype=float32, numpy=0.009073033>, <tf.Tensor: shape=(), dtype=float32, numpy=0.006491584>, <tf.Tensor: shape=(), dtype=float32, numpy=0.00536697>, <tf.Tensor: shape=(), dtype=float32, numpy=0.0074964156>, <tf.Tensor: shape=(), dtype=float32, numpy=0.023895074>, <tf.Tensor: shape=(), dtype=float32, numpy=0.05190344>, <tf.Tensor: shape=(), dtype=float32, numpy=0.011841742>, <tf.Tensor: shape=(), dtype=float32, numpy=0.0052271113>, <tf.Tensor: shape=(), dtype=float32, numpy=0.012611815>, <tf.Tensor: shape=(), dtype=float32, numpy=0.012628287>, <tf.Tensor: shape=(), dtype=float32, numpy=0.014222681>, <tf.Tensor: shape=(), dtype=float32, numpy=0.015984347>, <tf.Tensor: shape=(), dtype=float32, numpy=0.021730792>, <tf.Tensor: shape=(), dtype=float32, numpy=0.0055393176>, <tf.Tensor: shape=(), dtype=float32, numpy=0.02391291>, <tf.Tensor: shape=(), dtype=float32, numpy=0.0052011274>, <tf.Tensor: shape=(), dtype=float32, numpy=0.0450611>, <tf.Tensor: shape=(), dtype=float32, numpy=0.001636154>, <tf.Tensor: shape=(), dtype=float32, numpy=0.011597518>, <tf.Tensor: shape=(), dtype=float32, numpy=0.06285436>, <tf.Tensor: shape=(), dtype=float32, numpy=-0.0023114425>, <tf.Tensor: shape=(), dtype=float32, numpy=-0.0033560721>, <tf.Tensor: shape=(), dtype=float32, numpy=0.0061411597>, <tf.Tensor: shape=(), dtype=float32, numpy=-0.0005411464>, <tf.Tensor: shape=(), dtype=float32, numpy=0.0045571886>, <tf.Tensor: shape=(), dtype=float32, numpy=0.000694036>, <tf.Tensor: shape=(), dtype=float32, numpy=0.0011095414>, <tf.Tensor: shape=(), dtype=float32, numpy=0.016245283>, <tf.Tensor: shape=(), dtype=float32, numpy=0.004147568>, <tf.Tensor: shape=(), dtype=float32, numpy=0.007924201>, <tf.Tensor: shape=(), dtype=float32, numpy=0.009991857>, <tf.Tensor: shape=(), dtype=float32, numpy=0.0048927944>, <tf.Tensor: shape=(), dtype=float32, numpy=0.004965011>, <tf.Tensor: shape=(), dtype=float32, numpy=-0.00627298>, <tf.Tensor: shape=(), dtype=float32, numpy=0.05884189>, <tf.Tensor: shape=(), dtype=float32, numpy=-0.003851194>], [<tf.Tensor: shape=(), dtype=float32, numpy=0.0031269006>, <tf.Tensor: shape=(), dtype=float32, numpy=-0.0054369136>, <tf.Tensor: shape=(), dtype=float32, numpy=0.0089365775>, <tf.Tensor: shape=(), dtype=float32, numpy=0.043106794>, <tf.Tensor: shape=(), dtype=float32, numpy=0.018315963>, <tf.Tensor: shape=(), dtype=float32, numpy=0.040863223>, <tf.Tensor: shape=(), dtype=float32, numpy=0.0145068895>, <tf.Tensor: shape=(), dtype=float32, numpy=-0.0013164859>, <tf.Tensor: shape=(), dtype=float32, numpy=-0.008467664>, <tf.Tensor: shape=(), dtype=float32, numpy=0.051854294>, <tf.Tensor: shape=(), dtype=float32, numpy=0.006459564>, <tf.Tensor: shape=(), dtype=float32, numpy=0.016216703>, <tf.Tensor: shape=(), dtype=float32, numpy=0.044228375>, <tf.Tensor: shape=(), dtype=float32, numpy=0.008082113>, <tf.Tensor: shape=(), dtype=float32, numpy=0.019822344>, <tf.Tensor: shape=(), dtype=float32, numpy=0.0065051466>, <tf.Tensor: shape=(), dtype=float32, numpy=0.06938279>, <tf.Tensor: shape=(), dtype=float32, numpy=0.020993788>, <tf.Tensor: shape=(), dtype=float32, numpy=0.040712558>, <tf.Tensor: shape=(), dtype=float32, numpy=0.018536642>, <tf.Tensor: shape=(), dtype=float32, numpy=0.003052337>, <tf.Tensor: shape=(), dtype=float32, numpy=-0.0030931835>, <tf.Tensor: shape=(), dtype=float32, numpy=0.005991106>, <tf.Tensor: shape=(), dtype=float32, numpy=0.08238226>, <tf.Tensor: shape=(), dtype=float32, numpy=0.008640298>, <tf.Tensor: shape=(), dtype=float32, numpy=0.06346287>, <tf.Tensor: shape=(), dtype=float32, numpy=0.023757916>, <tf.Tensor: shape=(), dtype=float32, numpy=0.03900627>, <tf.Tensor: shape=(), dtype=float32, numpy=0.05330644>, <tf.Tensor: shape=(), dtype=float32, numpy=-0.0025527743>, <tf.Tensor: shape=(), dtype=float32, numpy=0.029817738>, <tf.Tensor: shape=(), dtype=float32, numpy=0.02173017>, <tf.Tensor: shape=(), dtype=float32, numpy=-0.006522876>, <tf.Tensor: shape=(), dtype=float32, numpy=0.05681942>, <tf.Tensor: shape=(), dtype=float32, numpy=0.009875606>, <tf.Tensor: shape=(), dtype=float32, numpy=0.023051053>, <tf.Tensor: shape=(), dtype=float32, numpy=0.009924202>, <tf.Tensor: shape=(), dtype=float32, numpy=0.006464714>, <tf.Tensor: shape=(), dtype=float32, numpy=0.010204246>, <tf.Tensor: shape=(), dtype=float32, numpy=0.0044338834>, <tf.Tensor: shape=(), dtype=float32, numpy=-0.0037666978>, <tf.Tensor: shape=(), dtype=float32, numpy=0.014936474>, <tf.Tensor: shape=(), dtype=float32, numpy=0.016828325>, <tf.Tensor: shape=(), dtype=float32, numpy=0.019663662>, <tf.Tensor: shape=(), dtype=float32, numpy=0.014959183>, <tf.Tensor: shape=(), dtype=float32, numpy=0.021664403>, <tf.Tensor: shape=(), dtype=float32, numpy=0.058504432>, <tf.Tensor: shape=(), dtype=float32, numpy=0.0141732255>, <tf.Tensor: shape=(), dtype=float32, numpy=0.009092414>, <tf.Tensor: shape=(), dtype=float32, numpy=0.0114352275>, <tf.Tensor: shape=(), dtype=float32, numpy=-0.0003975667>, <tf.Tensor: shape=(), dtype=float32, numpy=0.0048070326>, <tf.Tensor: shape=(), dtype=float32, numpy=0.001077869>, <tf.Tensor: shape=(), dtype=float32, numpy=0.0044204984>, <tf.Tensor: shape=(), dtype=float32, numpy=0.011903839>, <tf.Tensor: shape=(), dtype=float32, numpy=0.025736343>, <tf.Tensor: shape=(), dtype=float32, numpy=0.028176207>, <tf.Tensor: shape=(), dtype=float32, numpy=-0.0012113117>, <tf.Tensor: shape=(), dtype=float32, numpy=0.0023949668>, <tf.Tensor: shape=(), dtype=float32, numpy=0.052845336>, <tf.Tensor: shape=(), dtype=float32, numpy=0.0018191058>, <tf.Tensor: shape=(), dtype=float32, numpy=0.023581788>, <tf.Tensor: shape=(), dtype=float32, numpy=0.010880571>, <tf.Tensor: shape=(), dtype=float32, numpy=-0.0039417753>, <tf.Tensor: shape=(), dtype=float32, numpy=0.013125211>, <tf.Tensor: shape=(), dtype=float32, numpy=-0.0016169054>, <tf.Tensor: shape=(), dtype=float32, numpy=0.08000809>, <tf.Tensor: shape=(), dtype=float32, numpy=0.016855637>, <tf.Tensor: shape=(), dtype=float32, numpy=0.004741344>, <tf.Tensor: shape=(), dtype=float32, numpy=0.029344572>, <tf.Tensor: shape=(), dtype=float32, numpy=0.0026728911>, <tf.Tensor: shape=(), dtype=float32, numpy=0.02224197>, <tf.Tensor: shape=(), dtype=float32, numpy=0.0023248997>, <tf.Tensor: shape=(), dtype=float32, numpy=-0.0040677376>, <tf.Tensor: shape=(), dtype=float32, numpy=0.0136365>, <tf.Tensor: shape=(), dtype=float32, numpy=0.0073910346>, <tf.Tensor: shape=(), dtype=float32, numpy=0.0053436747>, <tf.Tensor: shape=(), dtype=float32, numpy=0.0011901706>, <tf.Tensor: shape=(), dtype=float32, numpy=0.001927834>, <tf.Tensor: shape=(), dtype=float32, numpy=-0.0011045523>, <tf.Tensor: shape=(), dtype=float32, numpy=0.008356297>, <tf.Tensor: shape=(), dtype=float32, numpy=0.049681246>, <tf.Tensor: shape=(), dtype=float32, numpy=0.014378402>, <tf.Tensor: shape=(), dtype=float32, numpy=0.0053473124>, <tf.Tensor: shape=(), dtype=float32, numpy=-0.0004194323>, <tf.Tensor: shape=(), dtype=float32, numpy=-0.00071822526>, <tf.Tensor: shape=(), dtype=float32, numpy=0.01664697>, <tf.Tensor: shape=(), dtype=float32, numpy=-0.0004802253>, <tf.Tensor: shape=(), dtype=float32, numpy=0.06447297>, <tf.Tensor: shape=(), dtype=float32, numpy=0.009084912>, <tf.Tensor: shape=(), dtype=float32, numpy=-0.0028132233>, <tf.Tensor: shape=(), dtype=float32, numpy=0.0154068535>, <tf.Tensor: shape=(), dtype=float32, numpy=0.05882209>, <tf.Tensor: shape=(), dtype=float32, numpy=-0.00873095>, <tf.Tensor: shape=(), dtype=float32, numpy=0.052097127>, <tf.Tensor: shape=(), dtype=float32, numpy=0.02318836>, <tf.Tensor: shape=(), dtype=float32, numpy=-0.00096528046>, <tf.Tensor: shape=(), dtype=float32, numpy=0.012015027>, <tf.Tensor: shape=(), dtype=float32, numpy=-0.0021912064>, <tf.Tensor: shape=(), dtype=float32, numpy=0.061940774>, <tf.Tensor: shape=(), dtype=float32, numpy=0.0066467174>, <tf.Tensor: shape=(), dtype=float32, numpy=0.048241165>, <tf.Tensor: shape=(), dtype=float32, numpy=0.016294574>, <tf.Tensor: shape=(), dtype=float32, numpy=0.010904372>, <tf.Tensor: shape=(), dtype=float32, numpy=-0.010347773>, <tf.Tensor: shape=(), dtype=float32, numpy=0.036904767>, <tf.Tensor: shape=(), dtype=float32, numpy=0.047617145>, <tf.Tensor: shape=(), dtype=float32, numpy=0.019506913>, <tf.Tensor: shape=(), dtype=float32, numpy=0.04784606>, <tf.Tensor: shape=(), dtype=float32, numpy=0.007516914>, <tf.Tensor: shape=(), dtype=float32, numpy=0.006588295>, <tf.Tensor: shape=(), dtype=float32, numpy=0.00046793744>, <tf.Tensor: shape=(), dtype=float32, numpy=0.048801336>, <tf.Tensor: shape=(), dtype=float32, numpy=0.0048239077>, <tf.Tensor: shape=(), dtype=float32, numpy=0.0448746>, <tf.Tensor: shape=(), dtype=float32, numpy=0.046942033>, <tf.Tensor: shape=(), dtype=float32, numpy=0.051682487>, <tf.Tensor: shape=(), dtype=float32, numpy=0.038308818>, <tf.Tensor: shape=(), dtype=float32, numpy=0.012730466>, <tf.Tensor: shape=(), dtype=float32, numpy=-0.008627939>, <tf.Tensor: shape=(), dtype=float32, numpy=0.0144215245>, <tf.Tensor: shape=(), dtype=float32, numpy=-0.009453052>, <tf.Tensor: shape=(), dtype=float32, numpy=0.012327818>, <tf.Tensor: shape=(), dtype=float32, numpy=0.0221179>, <tf.Tensor: shape=(), dtype=float32, numpy=0.0015481189>, <tf.Tensor: shape=(), dtype=float32, numpy=0.053703144>, <tf.Tensor: shape=(), dtype=float32, numpy=-0.00605249>, <tf.Tensor: shape=(), dtype=float32, numpy=0.005727158>, <tf.Tensor: shape=(), dtype=float32, numpy=0.0027150353>, <tf.Tensor: shape=(), dtype=float32, numpy=0.022484064>, <tf.Tensor: shape=(), dtype=float32, numpy=0.010009544>, <tf.Tensor: shape=(), dtype=float32, numpy=0.01358751>, <tf.Tensor: shape=(), dtype=float32, numpy=0.007985907>, <tf.Tensor: shape=(), dtype=float32, numpy=0.008040804>, <tf.Tensor: shape=(), dtype=float32, numpy=0.012359934>, <tf.Tensor: shape=(), dtype=float32, numpy=0.0030675204>, <tf.Tensor: shape=(), dtype=float32, numpy=-0.0033058915>, <tf.Tensor: shape=(), dtype=float32, numpy=0.0012267632>, <tf.Tensor: shape=(), dtype=float32, numpy=-0.002931144>, <tf.Tensor: shape=(), dtype=float32, numpy=0.019717643>, <tf.Tensor: shape=(), dtype=float32, numpy=0.008769035>, <tf.Tensor: shape=(), dtype=float32, numpy=0.009992128>, <tf.Tensor: shape=(), dtype=float32, numpy=0.006227872>, <tf.Tensor: shape=(), dtype=float32, numpy=0.007989194>, <tf.Tensor: shape=(), dtype=float32, numpy=0.0049545662>, <tf.Tensor: shape=(), dtype=float32, numpy=0.023967024>, <tf.Tensor: shape=(), dtype=float32, numpy=0.05124013>, <tf.Tensor: shape=(), dtype=float32, numpy=0.012748802>, <tf.Tensor: shape=(), dtype=float32, numpy=0.0070843007>, <tf.Tensor: shape=(), dtype=float32, numpy=0.009238347>, <tf.Tensor: shape=(), dtype=float32, numpy=0.014630522>, <tf.Tensor: shape=(), dtype=float32, numpy=0.013847594>, <tf.Tensor: shape=(), dtype=float32, numpy=0.015435902>, <tf.Tensor: shape=(), dtype=float32, numpy=0.021374863>, <tf.Tensor: shape=(), dtype=float32, numpy=0.004379538>, <tf.Tensor: shape=(), dtype=float32, numpy=0.025514504>, <tf.Tensor: shape=(), dtype=float32, numpy=0.0078505445>, <tf.Tensor: shape=(), dtype=float32, numpy=0.043238048>, <tf.Tensor: shape=(), dtype=float32, numpy=-0.0008876845>, <tf.Tensor: shape=(), dtype=float32, numpy=0.009512085>, <tf.Tensor: shape=(), dtype=float32, numpy=0.058981635>, <tf.Tensor: shape=(), dtype=float32, numpy=0.00037830276>, <tf.Tensor: shape=(), dtype=float32, numpy=-0.0012439629>, <tf.Tensor: shape=(), dtype=float32, numpy=0.002558655>, <tf.Tensor: shape=(), dtype=float32, numpy=0.0011531492>, <tf.Tensor: shape=(), dtype=float32, numpy=0.004590407>, <tf.Tensor: shape=(), dtype=float32, numpy=0.00020002946>, <tf.Tensor: shape=(), dtype=float32, numpy=0.0005120011>, <tf.Tensor: shape=(), dtype=float32, numpy=0.013466424>, <tf.Tensor: shape=(), dtype=float32, numpy=0.00040446874>, <tf.Tensor: shape=(), dtype=float32, numpy=0.0062410953>, <tf.Tensor: shape=(), dtype=float32, numpy=0.010325709>, <tf.Tensor: shape=(), dtype=float32, numpy=0.0041668303>, <tf.Tensor: shape=(), dtype=float32, numpy=0.0043216906>, <tf.Tensor: shape=(), dtype=float32, numpy=-0.006050561>, <tf.Tensor: shape=(), dtype=float32, numpy=0.05707641>, <tf.Tensor: shape=(), dtype=float32, numpy=-0.0025323573>], [<tf.Tensor: shape=(), dtype=float32, numpy=0.004041464>, <tf.Tensor: shape=(), dtype=float32, numpy=-0.0048304764>, <tf.Tensor: shape=(), dtype=float32, numpy=0.010223493>, <tf.Tensor: shape=(), dtype=float32, numpy=0.044668254>, <tf.Tensor: shape=(), dtype=float32, numpy=0.01086878>, <tf.Tensor: shape=(), dtype=float32, numpy=0.04042308>, <tf.Tensor: shape=(), dtype=float32, numpy=0.01344878>, <tf.Tensor: shape=(), dtype=float32, numpy=-0.0040080165>, <tf.Tensor: shape=(), dtype=float32, numpy=-0.0070218053>, <tf.Tensor: shape=(), dtype=float32, numpy=0.045126118>, <tf.Tensor: shape=(), dtype=float32, numpy=0.006125927>, <tf.Tensor: shape=(), dtype=float32, numpy=0.015055395>, <tf.Tensor: shape=(), dtype=float32, numpy=0.042508822>, <tf.Tensor: shape=(), dtype=float32, numpy=0.008645694>, <tf.Tensor: shape=(), dtype=float32, numpy=0.018837925>, <tf.Tensor: shape=(), dtype=float32, numpy=0.007698736>, <tf.Tensor: shape=(), dtype=float32, numpy=0.060862277>, <tf.Tensor: shape=(), dtype=float32, numpy=0.018425733>, <tf.Tensor: shape=(), dtype=float32, numpy=0.043092325>, <tf.Tensor: shape=(), dtype=float32, numpy=0.018143132>, <tf.Tensor: shape=(), dtype=float32, numpy=0.00240721>, <tf.Tensor: shape=(), dtype=float32, numpy=-0.0037150248>, <tf.Tensor: shape=(), dtype=float32, numpy=0.004990846>, <tf.Tensor: shape=(), dtype=float32, numpy=0.08929479>, <tf.Tensor: shape=(), dtype=float32, numpy=0.0072765406>, <tf.Tensor: shape=(), dtype=float32, numpy=0.063675486>, <tf.Tensor: shape=(), dtype=float32, numpy=0.022721276>, <tf.Tensor: shape=(), dtype=float32, numpy=0.0331359>, <tf.Tensor: shape=(), dtype=float32, numpy=0.048898242>, <tf.Tensor: shape=(), dtype=float32, numpy=-0.001790023>, <tf.Tensor: shape=(), dtype=float32, numpy=0.031181026>, <tf.Tensor: shape=(), dtype=float32, numpy=0.021889202>, <tf.Tensor: shape=(), dtype=float32, numpy=-0.0045717065>, <tf.Tensor: shape=(), dtype=float32, numpy=0.051834974>, <tf.Tensor: shape=(), dtype=float32, numpy=0.0116288895>, <tf.Tensor: shape=(), dtype=float32, numpy=0.021920986>, <tf.Tensor: shape=(), dtype=float32, numpy=0.011954384>, <tf.Tensor: shape=(), dtype=float32, numpy=0.007591117>, <tf.Tensor: shape=(), dtype=float32, numpy=0.011370346>, <tf.Tensor: shape=(), dtype=float32, numpy=0.0027591195>, <tf.Tensor: shape=(), dtype=float32, numpy=-0.0031258082>, <tf.Tensor: shape=(), dtype=float32, numpy=0.0151606705>, <tf.Tensor: shape=(), dtype=float32, numpy=0.020794768>, <tf.Tensor: shape=(), dtype=float32, numpy=0.020250117>, <tf.Tensor: shape=(), dtype=float32, numpy=0.02175342>, <tf.Tensor: shape=(), dtype=float32, numpy=0.017624898>, <tf.Tensor: shape=(), dtype=float32, numpy=0.05437326>, <tf.Tensor: shape=(), dtype=float32, numpy=0.014887202>, <tf.Tensor: shape=(), dtype=float32, numpy=0.010113116>, <tf.Tensor: shape=(), dtype=float32, numpy=0.0070833825>, <tf.Tensor: shape=(), dtype=float32, numpy=-0.0007215915>, <tf.Tensor: shape=(), dtype=float32, numpy=0.005538602>, <tf.Tensor: shape=(), dtype=float32, numpy=-0.0023309505>, <tf.Tensor: shape=(), dtype=float32, numpy=0.0035637897>, <tf.Tensor: shape=(), dtype=float32, numpy=0.01179446>, <tf.Tensor: shape=(), dtype=float32, numpy=0.02553241>, <tf.Tensor: shape=(), dtype=float32, numpy=0.023479538>, <tf.Tensor: shape=(), dtype=float32, numpy=-0.0008905716>, <tf.Tensor: shape=(), dtype=float32, numpy=0.005203794>, <tf.Tensor: shape=(), dtype=float32, numpy=0.046495397>, <tf.Tensor: shape=(), dtype=float32, numpy=0.001608708>, <tf.Tensor: shape=(), dtype=float32, numpy=0.022770263>, <tf.Tensor: shape=(), dtype=float32, numpy=0.010678565>, <tf.Tensor: shape=(), dtype=float32, numpy=-0.0045109284>, <tf.Tensor: shape=(), dtype=float32, numpy=0.0125281215>, <tf.Tensor: shape=(), dtype=float32, numpy=-0.0004723086>, <tf.Tensor: shape=(), dtype=float32, numpy=0.08337122>, <tf.Tensor: shape=(), dtype=float32, numpy=0.018837813>, <tf.Tensor: shape=(), dtype=float32, numpy=0.0053035473>, <tf.Tensor: shape=(), dtype=float32, numpy=0.029142123>, <tf.Tensor: shape=(), dtype=float32, numpy=0.002129985>, <tf.Tensor: shape=(), dtype=float32, numpy=0.022345573>, <tf.Tensor: shape=(), dtype=float32, numpy=0.000102503225>, <tf.Tensor: shape=(), dtype=float32, numpy=-0.0022037802>, <tf.Tensor: shape=(), dtype=float32, numpy=0.015390088>, <tf.Tensor: shape=(), dtype=float32, numpy=0.008623439>, <tf.Tensor: shape=(), dtype=float32, numpy=0.008796826>, <tf.Tensor: shape=(), dtype=float32, numpy=0.00086294534>, <tf.Tensor: shape=(), dtype=float32, numpy=0.00036131125>, <tf.Tensor: shape=(), dtype=float32, numpy=0.00015233736>, <tf.Tensor: shape=(), dtype=float32, numpy=0.008800999>, <tf.Tensor: shape=(), dtype=float32, numpy=0.045378722>, <tf.Tensor: shape=(), dtype=float32, numpy=0.016097764>, <tf.Tensor: shape=(), dtype=float32, numpy=0.0064048665>, <tf.Tensor: shape=(), dtype=float32, numpy=-0.0009188638>, <tf.Tensor: shape=(), dtype=float32, numpy=-0.0017581461>, <tf.Tensor: shape=(), dtype=float32, numpy=0.016422428>, <tf.Tensor: shape=(), dtype=float32, numpy=-0.0004021083>, <tf.Tensor: shape=(), dtype=float32, numpy=0.060682774>, <tf.Tensor: shape=(), dtype=float32, numpy=0.006596989>, <tf.Tensor: shape=(), dtype=float32, numpy=0.00041958503>, <tf.Tensor: shape=(), dtype=float32, numpy=0.0137371505>, <tf.Tensor: shape=(), dtype=float32, numpy=0.05685188>, <tf.Tensor: shape=(), dtype=float32, numpy=-0.010083998>, <tf.Tensor: shape=(), dtype=float32, numpy=0.05167056>, <tf.Tensor: shape=(), dtype=float32, numpy=0.0253703>, <tf.Tensor: shape=(), dtype=float32, numpy=0.00073692296>, <tf.Tensor: shape=(), dtype=float32, numpy=0.0110343015>, <tf.Tensor: shape=(), dtype=float32, numpy=-0.0022066054>, <tf.Tensor: shape=(), dtype=float32, numpy=0.057166122>, <tf.Tensor: shape=(), dtype=float32, numpy=0.0072917137>, <tf.Tensor: shape=(), dtype=float32, numpy=0.054403283>, <tf.Tensor: shape=(), dtype=float32, numpy=0.015406424>, <tf.Tensor: shape=(), dtype=float32, numpy=0.013614456>, <tf.Tensor: shape=(), dtype=float32, numpy=-0.008360678>, <tf.Tensor: shape=(), dtype=float32, numpy=0.030896787>, <tf.Tensor: shape=(), dtype=float32, numpy=0.047399808>, <tf.Tensor: shape=(), dtype=float32, numpy=0.022196252>, <tf.Tensor: shape=(), dtype=float32, numpy=0.048122536>, <tf.Tensor: shape=(), dtype=float32, numpy=0.008100203>, <tf.Tensor: shape=(), dtype=float32, numpy=0.0036414173>, <tf.Tensor: shape=(), dtype=float32, numpy=0.005957616>, <tf.Tensor: shape=(), dtype=float32, numpy=0.04362714>, <tf.Tensor: shape=(), dtype=float32, numpy=0.008624624>, <tf.Tensor: shape=(), dtype=float32, numpy=0.041038327>, <tf.Tensor: shape=(), dtype=float32, numpy=0.044923246>, <tf.Tensor: shape=(), dtype=float32, numpy=0.046657868>, <tf.Tensor: shape=(), dtype=float32, numpy=0.03771996>, <tf.Tensor: shape=(), dtype=float32, numpy=0.013887011>, <tf.Tensor: shape=(), dtype=float32, numpy=-0.0063824737>, <tf.Tensor: shape=(), dtype=float32, numpy=0.0148237925>, <tf.Tensor: shape=(), dtype=float32, numpy=-0.0068044867>, <tf.Tensor: shape=(), dtype=float32, numpy=0.0143015105>, <tf.Tensor: shape=(), dtype=float32, numpy=0.023539392>, <tf.Tensor: shape=(), dtype=float32, numpy=0.0058255345>, <tf.Tensor: shape=(), dtype=float32, numpy=0.057492755>, <tf.Tensor: shape=(), dtype=float32, numpy=-0.0071402914>, <tf.Tensor: shape=(), dtype=float32, numpy=0.008003296>, <tf.Tensor: shape=(), dtype=float32, numpy=0.0005604513>, <tf.Tensor: shape=(), dtype=float32, numpy=0.013833965>, <tf.Tensor: shape=(), dtype=float32, numpy=0.011446154>, <tf.Tensor: shape=(), dtype=float32, numpy=0.011985182>, <tf.Tensor: shape=(), dtype=float32, numpy=0.0057650786>, <tf.Tensor: shape=(), dtype=float32, numpy=0.010884763>, <tf.Tensor: shape=(), dtype=float32, numpy=0.009352241>, <tf.Tensor: shape=(), dtype=float32, numpy=0.006163248>, <tf.Tensor: shape=(), dtype=float32, numpy=-0.0017547738>, <tf.Tensor: shape=(), dtype=float32, numpy=4.7422945e-05>, <tf.Tensor: shape=(), dtype=float32, numpy=-0.0018290472>, <tf.Tensor: shape=(), dtype=float32, numpy=0.01859882>, <tf.Tensor: shape=(), dtype=float32, numpy=0.009361116>, <tf.Tensor: shape=(), dtype=float32, numpy=0.0070840884>, <tf.Tensor: shape=(), dtype=float32, numpy=0.0050405026>, <tf.Tensor: shape=(), dtype=float32, numpy=0.008031029>, <tf.Tensor: shape=(), dtype=float32, numpy=0.004895322>, <tf.Tensor: shape=(), dtype=float32, numpy=0.022561586>, <tf.Tensor: shape=(), dtype=float32, numpy=0.049359426>, <tf.Tensor: shape=(), dtype=float32, numpy=0.010481556>, <tf.Tensor: shape=(), dtype=float32, numpy=0.0067296904>, <tf.Tensor: shape=(), dtype=float32, numpy=0.0083388025>, <tf.Tensor: shape=(), dtype=float32, numpy=0.013878543>, <tf.Tensor: shape=(), dtype=float32, numpy=0.014986542>, <tf.Tensor: shape=(), dtype=float32, numpy=0.014429311>, <tf.Tensor: shape=(), dtype=float32, numpy=0.021521667>, <tf.Tensor: shape=(), dtype=float32, numpy=0.0035367226>, <tf.Tensor: shape=(), dtype=float32, numpy=0.025984187>, <tf.Tensor: shape=(), dtype=float32, numpy=0.006903667>, <tf.Tensor: shape=(), dtype=float32, numpy=0.038905516>, <tf.Tensor: shape=(), dtype=float32, numpy=-0.0024015866>, <tf.Tensor: shape=(), dtype=float32, numpy=0.011660039>, <tf.Tensor: shape=(), dtype=float32, numpy=0.055161685>, <tf.Tensor: shape=(), dtype=float32, numpy=-0.0009881388>, <tf.Tensor: shape=(), dtype=float32, numpy=-0.0015981505>, <tf.Tensor: shape=(), dtype=float32, numpy=0.0038146675>, <tf.Tensor: shape=(), dtype=float32, numpy=0.00047003105>, <tf.Tensor: shape=(), dtype=float32, numpy=0.004234899>, <tf.Tensor: shape=(), dtype=float32, numpy=-0.00039322255>, <tf.Tensor: shape=(), dtype=float32, numpy=-0.0005045906>, <tf.Tensor: shape=(), dtype=float32, numpy=0.013001881>, <tf.Tensor: shape=(), dtype=float32, numpy=0.0007761819>, <tf.Tensor: shape=(), dtype=float32, numpy=0.0061197616>, <tf.Tensor: shape=(), dtype=float32, numpy=0.011211799>, <tf.Tensor: shape=(), dtype=float32, numpy=0.002327242>, <tf.Tensor: shape=(), dtype=float32, numpy=0.0045649204>, <tf.Tensor: shape=(), dtype=float32, numpy=-0.0064286124>, <tf.Tensor: shape=(), dtype=float32, numpy=0.05930393>, <tf.Tensor: shape=(), dtype=float32, numpy=-0.002116396>]]\n"
     ]
    }
   ],
   "source": [
    "print(median_loss)\n",
    "print(mean_loss)\n",
    "print(nine_loss)\n",
    "print(all_loss)"
   ]
  },
  {
   "cell_type": "code",
   "execution_count": 17,
   "metadata": {
    "pycharm": {
     "name": "#%%\n"
    }
   },
   "outputs": [],
   "source": [
    "new_loss = []\n",
    "for row in all_loss:\n",
    "    r = []\n",
    "    for d in row:\n",
    "        r.append(d.numpy())\n",
    "    new_loss.append(r)"
   ]
  },
  {
   "cell_type": "code",
   "execution_count": 18,
   "metadata": {
    "pycharm": {
     "name": "#%%\n"
    }
   },
   "outputs": [],
   "source": [
    "import csv\n",
    "filePath = './loss/all.csv'\n",
    "rows = zip(median_loss,mean_loss,nine_loss)\n",
    "with open(filePath, \"w\", newline='') as f:\n",
    "    writer = csv.writer(f)\n",
    "    for row in rows:\n",
    "        writer.writerow(row)"
   ]
  },
  {
   "cell_type": "code",
   "execution_count": 19,
   "metadata": {
    "pycharm": {
     "name": "#%%\n"
    }
   },
   "outputs": [],
   "source": [
    "def save_as_csv(array,path):\n",
    "    \"\"\"将数组保存在.csv文件中\"\"\"\n",
    "    data = pd.DataFrame(array)\n",
    "    data.to_csv(path)\n",
    "\n",
    "save_as_csv(mean_loss, './loss/mean_loss.csv')\n",
    "save_as_csv(median_loss, './loss/median_loss.csv')\n",
    "save_as_csv(nine_loss, './loss/nine_loss.csv')\n",
    "save_as_csv(new_loss, './loss/all_loss.csv')"
   ]
  },
  {
   "cell_type": "code",
   "execution_count": 20,
   "metadata": {
    "pycharm": {
     "name": "#%%\n"
    }
   },
   "outputs": [],
   "source": [
    "# 读取loss数据进行可视化\n",
    "import pandas as pd\n",
    "\n",
    "mean_loss = pd.read_csv(\"./loss/mean_loss.csv\")\n",
    "mean_loss = list(mean_loss['0'])\n",
    "median_loss = pd.read_csv(\"./loss/median_loss.csv\")\n",
    "median_loss = list(median_loss['0'])\n",
    "nine_loss = pd.read_csv(\"./loss/nine_loss.csv\")\n",
    "nine_loss = list(nine_loss['0'])"
   ]
  },
  {
   "cell_type": "code",
   "execution_count": 22,
   "metadata": {
    "pycharm": {
     "name": "#%%\n"
    }
   },
   "outputs": [
    {
     "data": {
      "image/png": "[encoded data removed]",
      "text/plain": [
       "<Figure size 432x288 with 1 Axes>"
      ]
     },
     "metadata": {
      "needs_background": "light"
     },
     "output_type": "display_data"
    }
   ],
   "source": [
    "import matplotlib.pyplot as plt\n",
    "\n",
    "x = [i for i in range(10)]\n",
    "plt.xlabel(\"epoch\")\n",
    "plt.ylabel(\"loss\")\n",
    "plt.title(\"Attention LSTM Epoch-Loss\")\n",
    "\n",
    "plt.plot(x, mean_loss, label='mean_loss')\n",
    "plt.plot(x, median_loss, label='median_loss')\n",
    "plt.plot(x, nine_loss, label='nine_loss')\n",
    "\n",
    "plt.legend()\n",
    "plt.show()"
   ]
  },
  {
   "cell_type": "code",
   "execution_count": 23,
   "metadata": {
    "pycharm": {
     "name": "#%%\n"
    }
   },
   "outputs": [
    {
     "name": "stdout",
     "output_type": "stream",
     "text": [
      "   Unnamed: 0         0         1         2         3         4         5  \\\n",
      "0           0  0.016567 -0.015265  0.042535  0.077760  0.026822  0.043695   \n",
      "1           1  0.004418 -0.007495  0.028949  0.069373  0.016025  0.030891   \n",
      "2           2  0.002554 -0.000816  0.014801  0.060561  0.021237  0.026326   \n",
      "3           3  0.001723 -0.003050  0.012026  0.054569  0.022406  0.022650   \n",
      "4           4  0.002128 -0.004793  0.013548  0.053899  0.020962  0.024908   \n",
      "\n",
      "          6         7         8  ...       167       168       169       170  \\\n",
      "0  0.001869  0.012689  0.011778  ...  0.005421  0.016304  0.008100  0.000986   \n",
      "1  0.004130  0.010530  0.006371  ...  0.003781  0.022696  0.003183  0.005606   \n",
      "2  0.012619  0.004390  0.002309  ...  0.004094  0.020435  0.003250  0.004953   \n",
      "3  0.013810  0.003290 -0.004733  ...  0.004156  0.021611  0.000964  0.005586   \n",
      "4  0.012701  0.003030 -0.003844  ...  0.004782  0.021810  0.004148  0.006083   \n",
      "\n",
      "        171       172       173       174       175       176  \n",
      "0  0.010867 -0.000800  0.016499 -0.007339  0.058301 -0.004468  \n",
      "1  0.015801  0.004778  0.009580 -0.003275  0.054722 -0.005141  \n",
      "2  0.013538  0.004409  0.010567 -0.006509  0.059792 -0.006789  \n",
      "3  0.012299  0.002503  0.008547 -0.007138  0.062341 -0.006691  \n",
      "4  0.012501  0.001917  0.007390 -0.008152  0.062096 -0.006838  \n",
      "\n",
      "[5 rows x 178 columns]\n"
     ]
    }
   ],
   "source": [
    "all_loss = pd.read_csv(\"./loss/all_loss.csv\")\n",
    "print(all_loss.head())"
   ]
  },
  {
   "cell_type": "code",
   "execution_count": 27,
   "metadata": {
    "pycharm": {
     "name": "#%%\n"
    }
   },
   "outputs": [
    {
     "data": {
      "image/png": "[encoded data removed]",
      "text/plain": [
       "<Figure size 432x288 with 1 Axes>"
      ]
     },
     "metadata": {
      "needs_background": "light"
     },
     "output_type": "display_data"
    }
   ],
   "source": [
    "x = [i for i in range(10)]\n",
    "plt.xlabel(\"epoch\")\n",
    "plt.ylabel(\"loss\")\n",
    "plt.title(\"realtime loss\")\n",
    "for i in range(10):\n",
    "    aloss = list(all_loss[str(i)])\n",
    "    plt.plot(x, aloss, label='step '+str(i))\n",
    "plt.legend()\n",
    "plt.show()"
   ]
  },
  {
   "cell_type": "code",
   "execution_count": 28,
   "metadata": {
    "pycharm": {
     "name": "#%%\n"
    }
   },
   "outputs": [],
   "source": [
    "# 读取loss数据进行可视化\n",
    "import pandas as pd\n",
    "\n",
    "mean_loss = pd.read_csv(\"./loss/mean_loss.csv\")\n",
    "mean_loss = list(mean_loss['0'])\n",
    "median_loss = pd.read_csv(\"./loss/median_loss.csv\")\n",
    "median_loss = list(median_loss['0'])\n",
    "nine_loss = pd.read_csv(\"./loss/nine_loss.csv\")\n",
    "nine_loss = list(nine_loss['0'])"
   ]
  },
  {
   "cell_type": "code",
   "execution_count": 30,
   "metadata": {
    "pycharm": {
     "name": "#%%\n"
    }
   },
   "outputs": [
    {
     "data": {
      "image/png": "[encoded data removed]",
      "text/plain": [
       "<Figure size 432x288 with 1 Axes>"
      ]
     },
     "metadata": {
      "needs_background": "light"
     },
     "output_type": "display_data"
    }
   ],
   "source": [
    "import matplotlib.pyplot as plt\n",
    "\n",
    "x = [i for i in range(10)]\n",
    "plt.xlabel(\"epoch\")\n",
    "plt.ylabel(\"loss\")\n",
    "plt.title(\"Attention LSTM Epoch-Loss\")\n",
    "\n",
    "plt.plot(x, mean_loss, label='mean_loss')\n",
    "plt.plot(x, median_loss, label='median_loss')\n",
    "plt.plot(x, nine_loss, label='nine_loss')\n",
    "\n",
    "plt.legend()\n",
    "plt.show()"
   ]
  },
  {
   "cell_type": "code",
   "execution_count": null,
   "metadata": {
    "pycharm": {
     "name": "#%%\n"
    }
   },
   "outputs": [],
   "source": [
    "all_loss = pd.read_csv(\"./loss/all_loss.csv\")\n",
    "print(all_loss.head())"
   ]
  },
  {
   "cell_type": "code",
   "execution_count": null,
   "metadata": {
    "pycharm": {
     "name": "#%%\n"
    }
   },
   "outputs": [],
   "source": [
    "x = [i for i in range(100)]\n",
    "plt.xlabel(\"epoch\")\n",
    "plt.ylabel(\"loss\")\n",
    "plt.title(\"realtime loss\")\n",
    "for i in range(10):\n",
    "    aloss = list(all_loss[str(i)])\n",
    "    plt.plot(x, aloss, label='step '+str(i))\n",
    "plt.legend()\n",
    "plt.show()"
   ]
  },
  {
   "cell_type": "code",
   "execution_count": null,
   "metadata": {},
   "outputs": [],
   "source": [
    "# 训练模型\n",
    "\n",
    "mode_class_num = 3\n",
    "\n",
    "\n",
    "class Local(tf.keras.layers.Layer):\n",
    "    def __init__(self, latent_dim=64, intermediate_dim=128, name='Local', **kwargs):\n",
    "        super(Local, self).__init__(name=name, **kwargs)\n",
    "        self.cnn = tf.keras.layers.Conv2D(filters=64, kernel_size=(1, col), padding='valid',\n",
    "                                          input_shape=(7, col, 1), activation='relu', name='localcnn')\n",
    "        self.bn = tf.keras.layers.BatchNormalization(name='localbn')  # 把一个batch内的所有数据，从不规范的分布拉到正态分布\n",
    "        self.dropout = tf.keras.layers.Dropout(0.2, name='localdrop') # 防止过拟合，随机0.2的不进行工作\n",
    "        self.reshape = tf.keras.layers.Reshape((7, 64), name='localreshape')  # 任意层之间连接\n",
    "        self.lstm = tf.keras.layers.LSTM(128, return_sequences=False, stateful=False, name='locallstm') # 输出维度？\n",
    "        self.dense_1 = tf.keras.layers.Dense(intermediate_dim, activation='relu', name='localdense1') # 输出维度128\n",
    "        self.dense_2 = tf.keras.layers.Dense(latent_dim, activation='relu', name='localdense2')       # 输出维度 64\n",
    "\n",
    "    def call(self, inputs):\n",
    "        cnn_bn = self.bn(self.cnn(inputs))\n",
    "        cnn_drop = self.dropout(cnn_bn)\n",
    "        lstm_inp = self.reshape(cnn_drop)\n",
    "        # print (lstm_inp.shape)\n",
    "        lstm_out = self.lstm(lstm_inp)\n",
    "        lstm_drop = self.dropout(lstm_out)\n",
    "        dense_1 = self.dropout(self.dense_1(lstm_drop))\n",
    "        local_out = self.dense_2(dense_1)   # 64维度的数据\n",
    "        return local_out\n",
    "\n",
    "    def get_config(self):\n",
    "        config = super(Local, self).get_config()\n",
    "        return config\n",
    "\n",
    "\n",
    "class Attention(tf.keras.layers.Layer):\n",
    "    def __init__(self, attention_size=32, name='Attention', **kwargs):\n",
    "        super().__init__(name=name, **kwargs)\n",
    "        self.attention_size = attention_size    # 输入32维\n",
    "        self.dense_1 = tf.keras.layers.Dense(attention_size, activation='tanh', name='attndnese1')  # 全连接 32\n",
    "        self.dense_2 = tf.keras.layers.Dense(1, use_bias=False, name='attndense2')   # 全连接 1维\n",
    "\n",
    "    def call(self, inputs):\n",
    "        v = self.dense_1(inputs)\n",
    "        vu = self.dense_2(v)\n",
    "        alphas = tf.nn.softmax(vu)   # 一维数据经过 softmax  映射到0和1之间\n",
    "        output = alphas\n",
    "        return output\n",
    "\n",
    "    def get_config(self):\n",
    "        config = super(Attention, self).get_config()\n",
    "        config.update({\"attention_size\": self.attention_size})\n",
    "        return config\n",
    "\n",
    "\n",
    "import AttentionCell\n",
    "from imp import reload\n",
    "\n",
    "reload(AttentionCell)\n",
    "\n",
    "class Global(tf.keras.layers.Layer):\n",
    "    def __init__(self, max_subs=Max_S, latent_dim=64, name='Global', **kwargs):\n",
    "        super(Global, self).__init__(name=name, **kwargs)\n",
    "        self.max_subs = max_subs\n",
    "\n",
    "        self.cell = AttentionCell.ALSTM_Cell(64, name='attncell')  # 注意力机制：输入64维度\n",
    "        self.rnn = tf.keras.layers.RNN(self.cell, return_sequences=True, name='attnRNN')  # RNN中使用Attention Cell\n",
    "        self.dense_1 = tf.keras.layers.Dense(64, activation='relu', \n",
    "                                             name='globaldense1')  # tf.keras.layers.BatchNormalization(), 全连接 64层\n",
    "        self.dense_2 = tf.keras.layers.Dense(32, activation='relu', name='globaldense2')   # 全连接 32 层\n",
    "        self.out = tf.keras.layers.Dense(2, activation='sigmoid', name='globalout')        # 全连接 2 层\n",
    "        self.attn = Attention(name='globalattn')\n",
    "\n",
    "    def call(self, inputs):\n",
    "        x = inputs\n",
    "        # mask = self.mask(x)\n",
    "        h = self.rnn(x)   # 接受64维度数据\n",
    "        h_d_1 = self.dense_1(h)      # 64\n",
    "        h_d_2 = self.dense_2(h_d_1)  # 32\n",
    "        h_a = self.attn(h_d_2)       # 使用Attention  返回结果为一维数据，映射在0-1之间\n",
    "        y = self.out(h_d_2 * h_a)    # 输出2维数据     32维数据与0-1之间一个数据相乘，然后映射为2维数据\n",
    "        return y\n",
    "\n",
    "    def get_config(self):\n",
    "        config = super(Global, self).get_config()\n",
    "        config.update({\"max_subs\": self.max_subs})\n",
    "        return config\n",
    "\n",
    "class CNN_Lstm_model(tf.keras.Model):\n",
    "    def __init__(self, name='CNN_LISM_Model', **kwargs):\n",
    "        super().__init__(name=name, **kwargs)\n",
    "        self.cnn = tf.keras.layers.Conv2D(filters=64, kernel_size=(1,5), padding='valid',\n",
    "                                          input_shape=(7, 5, 1), activation='relu')   # 输入层\n",
    "        self.bn = tf.keras.layers.BatchNormalization()  # 把一个batch内的所有数据，从不规范的分布拉到正态分布\n",
    "        self.dropout = tf.keras.layers.Dropout(0.2) # 防止过拟合，随机0.2的不进行工作\n",
    "        self.reshape = tf.keras.layers.Reshape((7, 64))  # 任意层之间连接\n",
    "        self.lstm = tf.keras.layers.LSTM(128, return_sequences=False, stateful=False) # 输出维度\n",
    "        self.dense_1 = tf.keras.layers.Dense(128, activation='relu') # 输出维度128\n",
    "        self.dense_2 = tf.keras.layers.Dense(64, activation='relu')       # 输出维度 64\n",
    "        \n",
    "        self.dense_3 = tf.keras.layers.Dense(32, activation='tanh')   # 全连接 32 维  Attention\n",
    "        self.out = tf.keras.layers.Dense(2, activation='sigmoid')        # 全连接 2 维\n",
    "\n",
    "    def call(self, inputs):\n",
    "        batch_inputs = inputs[0]\n",
    "        batch_time = inputs[1]\n",
    "        cnn_bn = self.bn(self.cnn(batch_inputs))\n",
    "        cnn_drop = self.dropout(cnn_bn)\n",
    "        lstm_inp = self.reshape(cnn_drop)\n",
    "        lstm_out = self.lstm(lstm_inp)\n",
    "        lstm_drop = self.dropout(lstm_out)\n",
    "        dense_1 = self.dropout(self.dense_1(lstm_drop))\n",
    "        x = self.dense_2(dense_1)\n",
    "        x = tf.reshape(x, [BATCH_S, Max_S, 64])\n",
    "        batch_time = tf.reshape(batch_time, [BATCH_S, Max_S, 1])\n",
    "        x = tf.keras.layers.concatenate([x, batch_time], axis=-1)\n",
    "        x = self.dense_3(x)\n",
    "        x = self.out(x)\n",
    "\n",
    "        return x\n",
    "\n",
    "    def get_config(self):\n",
    "        config = super(Seq, self).get_config()\n",
    "        config.update({\"local_out_dim\": self.local_out_dim})\n",
    "        return config\n",
    "\n",
    "    @classmethod\n",
    "    def from_config(cls, config):\n",
    "        return cls(**config)"
   ]
  }
 ],
 "metadata": {
  "kernelspec": {
   "display_name": "Python 3 (ipykernel)",
   "language": "python",
   "name": "python3"
  },
  "language_info": {
   "codemirror_mode": {
    "name": "ipython",
    "version": 3
   },
   "file_extension": ".py",
   "mimetype": "text/x-python",
   "name": "python",
   "nbconvert_exporter": "python",
   "pygments_lexer": "ipython3",
   "version": "3.9.12"
  },
  "toc": {
   "base_numbering": 1,
   "nav_menu": {},
   "number_sections": true,
   "sideBar": true,
   "skip_h1_title": false,
   "title_cell": "Table of Contents",
   "title_sidebar": "Contents",
   "toc_cell": false,
   "toc_position": {},
   "toc_section_display": true,
   "toc_window_display": false
  }
 },
 "nbformat": 4,
 "nbformat_minor": 1
}
