{
 "cells": [
  {
   "cell_type": "code",
   "execution_count": 1,
   "id": "f62bece3",
   "metadata": {},
   "outputs": [],
   "source": [
    "from keras.preprocessing import sequence  \n",
    "from keras.models import Sequential  \n",
    "from keras.datasets import boston_housing  \n",
    "from keras.layers import Dense, Dropout \n",
    "# from keras.utils import multi_gpu_model  \n",
    "# from tensorflow.python.keras.utils.multi_gpu_utils import multi_gpu_model\n",
    "from keras import regularizers  # 正则化  \n",
    "import matplotlib.pyplot as plt  \n",
    "import numpy as np\n",
    "from sklearn.preprocessing import MinMaxScaler  \n",
    "import pandas as pd"
   ]
  },
  {
   "cell_type": "code",
   "execution_count": 2,
   "id": "420e8449",
   "metadata": {},
   "outputs": [],
   "source": [
    "from sklearn.utils import shuffle  \n",
    "\n",
    "# 加载数据集\n",
    "def load_data(data_path, shuff=True):\n",
    "    data = pd.read_csv(data_path)\n",
    "    data = data.fillna(-1)  # Nan值填充\n",
    "#     print(data.iloc[1000])\n",
    "    if shuff:   # 将数据集打乱\n",
    "        data = shuffle(data)\n",
    "#     print(data.iloc[1000])\n",
    "    # 构建数据集和标签\n",
    "    samples = []\n",
    "    labels = []\n",
    "    for index, row in data.iterrows():\n",
    "    # print(row) # 输出每行的索引值\n",
    "        matrix = []  # 7 * 4\n",
    "        for i in range(7):\n",
    "            matrix.append([i+1,\n",
    "                           row['AsuLevel_' + str(i+1)],\n",
    "                           row['SignalLevel_' + str(i+1)],\n",
    "                           row['Dbm_' + str(i+1)]]) # 新数据集中不存在RSSI，使用Dbm(代功率的绝对值)\n",
    "        # print(matrix)\n",
    "        samples.append(matrix)\n",
    "        labels.append([row['Longitude'], row['Latitude']])\n",
    "    return np.array(samples), np.array(labels)"
   ]
  },
  {
   "cell_type": "code",
   "execution_count": 4,
   "id": "476bf9b5",
   "metadata": {},
   "outputs": [
    {
     "name": "stdout",
     "output_type": "stream",
     "text": [
      "[[  1.  74.   4. -66.]\n",
      " [  2.  57.   4. -83.]\n",
      " [  3.  -1.  -1.  -1.]\n",
      " [  4.  -1.  -1.  -1.]\n",
      " [  5.  -1.  -1.  -1.]\n",
      " [  6.  -1.  -1.  -1.]\n",
      " [  7.  -1.  -1.  -1.]] [121.4960706   31.28294881]\n"
     ]
    }
   ],
   "source": [
    "path = r\"./siping_4g.csv\"\n",
    "samples, labels = load_data(path)\n",
    "print(samples[0], labels[0])"
   ]
  },
  {
   "cell_type": "code",
   "execution_count": 5,
   "id": "0589a338",
   "metadata": {},
   "outputs": [
    {
     "name": "stdout",
     "output_type": "stream",
     "text": [
      "(3479, 7, 4)\n",
      "(3479, 2)\n"
     ]
    }
   ],
   "source": [
    "print(samples.shape)\n",
    "print(labels.shape)"
   ]
  },
  {
   "cell_type": "code",
   "execution_count": 6,
   "id": "88133625",
   "metadata": {},
   "outputs": [
    {
     "name": "stdout",
     "output_type": "stream",
     "text": [
      "(3479, 28)\n"
     ]
    }
   ],
   "source": [
    "# 数据变形： (3479, 7, 4)---》 (3479, 7, 4，1)\n",
    "# samples = samples.reshape(-1, 7,4,1) # -1自动计算\n",
    "samples = samples.reshape(samples.shape[0], -1)\n",
    "print(samples.shape)"
   ]
  },
  {
   "cell_type": "code",
   "execution_count": 7,
   "id": "2e3b8858",
   "metadata": {},
   "outputs": [
    {
     "name": "stdout",
     "output_type": "stream",
     "text": [
      "(2783, 28)\n",
      "(696, 28)\n",
      "(2783, 2)\n",
      "(696, 2)\n"
     ]
    }
   ],
   "source": [
    "from sklearn.model_selection import train_test_split\n",
    "\n",
    "# 划分数据集\n",
    "x_train, x_valid, y_train, y_valid = train_test_split(samples, labels, test_size=0.2)  #划分训练数据、训练标签、验证数据、验证标签\n",
    "\n",
    "print(x_train.shape)\n",
    "print(x_valid.shape)\n",
    "print(y_train.shape)\n",
    "print(y_valid.shape)"
   ]
  },
  {
   "cell_type": "code",
   "execution_count": 8,
   "id": "83160f70",
   "metadata": {},
   "outputs": [
    {
     "name": "stdout",
     "output_type": "stream",
     "text": [
      "    0     1    2     3    4     5    6      7    8     9   ...   18    19  \\\n",
      "0  1.0  57.0  4.0 -83.0  2.0  54.0  4.0  -86.0  3.0  50.0  ... -1.0  -1.0   \n",
      "1  1.0  53.0  4.0 -87.0  2.0  48.0  4.0  -92.0  3.0  -1.0  ... -1.0  -1.0   \n",
      "2  1.0  64.0  4.0 -76.0  2.0  38.0  3.0 -102.0  3.0  50.0  ... -1.0  -1.0   \n",
      "3  1.0  60.0  4.0 -80.0  2.0  56.0  4.0  -84.0  3.0  53.0  ... -1.0  -1.0   \n",
      "4  1.0  73.0  4.0 -67.0  2.0  47.0  4.0  -93.0  3.0  51.0  ...  4.0 -44.0   \n",
      "\n",
      "    20   21   22   23   24   25   26   27  \n",
      "0  6.0 -1.0 -1.0 -1.0  7.0 -1.0 -1.0 -1.0  \n",
      "1  6.0 -1.0 -1.0 -1.0  7.0 -1.0 -1.0 -1.0  \n",
      "2  6.0 -1.0 -1.0 -1.0  7.0 -1.0 -1.0 -1.0  \n",
      "3  6.0 -1.0 -1.0 -1.0  7.0 -1.0 -1.0 -1.0  \n",
      "4  6.0 -1.0 -1.0 -1.0  7.0 -1.0 -1.0 -1.0  \n",
      "\n",
      "[5 rows x 28 columns]\n",
      "-------------------\n",
      "            0          1\n",
      "0  121.493488  31.286269\n",
      "1  121.495260  31.284902\n",
      "2  121.495260  31.284902\n",
      "3  121.497396  31.285062\n",
      "4  121.496353  31.283382\n"
     ]
    }
   ],
   "source": [
    "# 转成DataFrame格式方便数据处理\n",
    "x_train_pd = pd.DataFrame(x_train)  \n",
    "y_train_pd = pd.DataFrame(y_train)  \n",
    "x_valid_pd = pd.DataFrame(x_valid)  \n",
    "y_valid_pd = pd.DataFrame(y_valid)  \n",
    "print(x_train_pd.head(5)) \n",
    "print('-------------------') \n",
    "print(y_train_pd.head(5))"
   ]
  },
  {
   "cell_type": "code",
   "execution_count": 9,
   "id": "6de4e427",
   "metadata": {},
   "outputs": [],
   "source": [
    "# 训练集归一化  \n",
    "min_max_scaler = MinMaxScaler()  \n",
    "min_max_scaler.fit(x_train)  \n",
    "x_train = min_max_scaler.transform(x_train)  \n",
    "\n",
    "min_max_scaler.fit(y_train)  \n",
    "y_train = min_max_scaler.transform(y_train)  \n",
    "  \n",
    "# 验证集归一化  \n",
    "min_max_scaler.fit(x_valid)  \n",
    "x_valid = min_max_scaler.transform(x_valid)  \n",
    "\n",
    "min_max_scaler.fit(y_valid)  \n",
    "y_valid = min_max_scaler.transform(y_valid)\n",
    "x_train=x_train.reshape(-1,7,4)\n",
    "y_train=y_train.reshape(-1,2)\n",
    "x_valid=x_valid.reshape(-1,7,4)\n",
    "y_valid=y_valid.reshape(-1,2)"
   ]
  },
  {
   "cell_type": "code",
   "execution_count": 10,
   "id": "5e78185b",
   "metadata": {},
   "outputs": [
    {
     "name": "stdout",
     "output_type": "stream",
     "text": [
      "(2783, 7, 4)\n",
      "(2783, 2)\n",
      "(696, 7, 4)\n",
      "(696, 2)\n"
     ]
    }
   ],
   "source": [
    "print(x_train.shape)\n",
    "print(y_train.shape)\n",
    "print(x_valid.shape)\n",
    "print(y_valid.shape)"
   ]
  },
  {
   "cell_type": "code",
   "execution_count": 12,
   "id": "c4090097",
   "metadata": {},
   "outputs": [
    {
     "name": "stdout",
     "output_type": "stream",
     "text": [
      "[[[0.         0.47540984 1.         0.47540984]\n",
      "  [0.         0.56701031 1.         0.24778761]\n",
      "  [0.         0.52040816 1.         0.20353982]\n",
      "  ...\n",
      "  [0.         0.         0.         0.9921875 ]\n",
      "  [0.         0.         0.         0.9921875 ]\n",
      "  [0.         0.         0.         0.9921875 ]]\n",
      "\n",
      " [[0.         0.40983607 1.         0.40983607]\n",
      "  [0.         0.50515464 1.         0.19469027]\n",
      "  [0.         0.         0.         0.99115044]\n",
      "  ...\n",
      "  [0.         0.         0.         0.9921875 ]\n",
      "  [0.         0.         0.         0.9921875 ]\n",
      "  [0.         0.         0.         0.9921875 ]]\n",
      "\n",
      " [[0.         0.59016393 1.         0.59016393]\n",
      "  [0.         0.40206186 0.8        0.10619469]\n",
      "  [0.         0.52040816 1.         0.20353982]\n",
      "  ...\n",
      "  [0.         0.         0.         0.9921875 ]\n",
      "  [0.         0.         0.         0.9921875 ]\n",
      "  [0.         0.         0.         0.9921875 ]]\n",
      "\n",
      " ...\n",
      "\n",
      " [[0.         0.47540984 1.         0.47540984]\n",
      "  [0.         0.63917526 1.         0.30973451]\n",
      "  [0.         0.48979592 1.         0.17699115]\n",
      "  ...\n",
      "  [0.         0.         0.         0.9921875 ]\n",
      "  [0.         0.         0.         0.9921875 ]\n",
      "  [0.         0.         0.         0.9921875 ]]\n",
      "\n",
      " [[0.         0.60655738 1.         0.60655738]\n",
      "  [0.         0.54639175 1.         0.2300885 ]\n",
      "  [0.         0.         0.         0.99115044]\n",
      "  ...\n",
      "  [0.         0.         0.         0.9921875 ]\n",
      "  [0.         0.         0.         0.9921875 ]\n",
      "  [0.         0.         0.         0.9921875 ]]\n",
      "\n",
      " [[0.         0.47540984 1.         0.47540984]\n",
      "  [0.         0.56701031 1.         0.24778761]\n",
      "  [0.         0.48979592 1.         0.17699115]\n",
      "  ...\n",
      "  [0.         0.         0.         0.9921875 ]\n",
      "  [0.         0.         0.         0.9921875 ]\n",
      "  [0.         0.         0.         0.9921875 ]]]\n"
     ]
    }
   ],
   "source": [
    "print(x_train)"
   ]
  },
  {
   "cell_type": "code",
   "execution_count": null,
   "id": "66d50279",
   "metadata": {},
   "outputs": [],
   "source": []
  }
 ],
 "metadata": {
  "kernelspec": {
   "display_name": "Python 3 (ipykernel)",
   "language": "python",
   "name": "python3"
  },
  "language_info": {
   "codemirror_mode": {
    "name": "ipython",
    "version": 3
   },
   "file_extension": ".py",
   "mimetype": "text/x-python",
   "name": "python",
   "nbconvert_exporter": "python",
   "pygments_lexer": "ipython3",
   "version": "3.9.12"
  },
  "toc": {
   "base_numbering": 1,
   "nav_menu": {},
   "number_sections": true,
   "sideBar": true,
   "skip_h1_title": false,
   "title_cell": "Table of Contents",
   "title_sidebar": "Contents",
   "toc_cell": false,
   "toc_position": {},
   "toc_section_display": true,
   "toc_window_display": false
  }
 },
 "nbformat": 4,
 "nbformat_minor": 5
}
